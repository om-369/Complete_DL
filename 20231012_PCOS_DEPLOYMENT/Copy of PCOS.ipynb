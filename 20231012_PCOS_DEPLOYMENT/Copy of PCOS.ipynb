{
 "cells": [
  {
   "cell_type": "code",
   "execution_count": null,
   "metadata": {
    "id": "Xp-RXyM6VMjj"
   },
   "outputs": [],
   "source": [
    "\"\"\"\n",
    "\n",
    "PROJRCT TITLE :\n",
    "\n",
    "BUILDING HIGHLY SCALEABL;E MODEL  PREDICTING PCOS\n",
    "\n",
    "\"\"\""
   ]
  },
  {
   "cell_type": "code",
   "execution_count": null,
   "metadata": {
    "id": "nbh2NffGVOLV"
   },
   "outputs": [],
   "source": [
    "Roles :\n",
    "\n",
    "1. understand , analyze and interpret large datasets\n",
    "2. develope advance programs to extract data needed and prepare data for further analysis"
   ]
  },
  {
   "cell_type": "code",
   "execution_count": null,
   "metadata": {
    "id": "vukEqsnuVON0"
   },
   "outputs": [],
   "source": [
    "what actually the project is pcos ?\n",
    "\n",
    "irregular infreq prolong menstural cycle\n",
    "\n",
    "70 women undiag\n",
    "\n",
    "estrogen progestron  androgens\n",
    "\n",
    "fsh lsh ovaluation control\n",
    "\n",
    "\n",
    "cyst dangerous\n",
    "hight level male hormones\n",
    "skiiped menstrula cyckles\n"
   ]
  },
  {
   "cell_type": "code",
   "execution_count": null,
   "metadata": {
    "id": "bygnKwBpVOQ2"
   },
   "outputs": [],
   "source": [
    "right patient at roight place\n",
    "\n",
    "match giorl/women wiith rigt product\n",
    "\n",
    "pcos > treatement\n",
    "no >>relive immediatedluy\n",
    "\n",
    "insighlts"
   ]
  },
  {
   "cell_type": "code",
   "execution_count": null,
   "metadata": {
    "id": "OzKmdDn5VOTs"
   },
   "outputs": [],
   "source": []
  },
  {
   "cell_type": "code",
   "execution_count": 1,
   "metadata": {
    "executionInfo": {
     "elapsed": 9298,
     "status": "ok",
     "timestamp": 1697074674760,
     "user": {
      "displayName": "Velocity Data Science",
      "userId": "12853793230690412689"
     },
     "user_tz": -330
    },
    "id": "z9c8SfdeVOWW"
   },
   "outputs": [],
   "source": [
    "import numpy as np\n",
    "import pandas as pd\n",
    "import os\n",
    "\n",
    "import tensorflow as tf\n",
    "from tensorflow.keras.utils import plot_model\n",
    "from tensorflow.keras.callbacks import EarlyStopping\n",
    "\n",
    "from sklearn.preprocessing import StandardScaler\n",
    "from sklearn.model_selection import train_test_split\n",
    "from tensorflow.keras.layers import Dropout\n",
    "\n",
    "import seaborn as sns\n",
    "import matplotlib.pyplot as plt\n",
    "\n",
    "from sklearn.tree import DecisionTreeClassifier,plot_tree"
   ]
  },
  {
   "cell_type": "code",
   "execution_count": 2,
   "metadata": {
    "colab": {
     "base_uri": "https://localhost:8080/",
     "height": 481
    },
    "executionInfo": {
     "elapsed": 1703,
     "status": "ok",
     "timestamp": 1697074676449,
     "user": {
      "displayName": "Velocity Data Science",
      "userId": "12853793230690412689"
     },
     "user_tz": -330
    },
    "id": "BobSEyL7VOfU",
    "outputId": "5b05e612-2567-4569-a677-7dfb6ce5dc6a"
   },
   "outputs": [
    {
     "data": {
      "text/html": [
       "\n",
       "  <div id=\"df-3cc90491-a33b-4a82-9287-ab60ead3f067\" class=\"colab-df-container\">\n",
       "    <div>\n",
       "<style scoped>\n",
       "    .dataframe tbody tr th:only-of-type {\n",
       "        vertical-align: middle;\n",
       "    }\n",
       "\n",
       "    .dataframe tbody tr th {\n",
       "        vertical-align: top;\n",
       "    }\n",
       "\n",
       "    .dataframe thead th {\n",
       "        text-align: right;\n",
       "    }\n",
       "</style>\n",
       "<table border=\"1\" class=\"dataframe\">\n",
       "  <thead>\n",
       "    <tr style=\"text-align: right;\">\n",
       "      <th></th>\n",
       "      <th>Sl. No</th>\n",
       "      <th>Patient File No.</th>\n",
       "      <th>PCOS (Y/N)</th>\n",
       "      <th>Age (yrs)</th>\n",
       "      <th>Weight (Kg)</th>\n",
       "      <th>Height(Cm)</th>\n",
       "      <th>BMI</th>\n",
       "      <th>Blood Group</th>\n",
       "      <th>Pulse rate(bpm)</th>\n",
       "      <th>RR (breaths/min)</th>\n",
       "      <th>...</th>\n",
       "      <th>Pimples(Y/N)</th>\n",
       "      <th>Fast food (Y/N)</th>\n",
       "      <th>Reg.Exercise(Y/N)</th>\n",
       "      <th>BP _Systolic (mmHg)</th>\n",
       "      <th>BP _Diastolic (mmHg)</th>\n",
       "      <th>Follicle No. (L)</th>\n",
       "      <th>Follicle No. (R)</th>\n",
       "      <th>Avg. F size (L) (mm)</th>\n",
       "      <th>Avg. F size (R) (mm)</th>\n",
       "      <th>Endometrium (mm)</th>\n",
       "    </tr>\n",
       "  </thead>\n",
       "  <tbody>\n",
       "    <tr>\n",
       "      <th>0</th>\n",
       "      <td>1</td>\n",
       "      <td>1</td>\n",
       "      <td>0</td>\n",
       "      <td>28</td>\n",
       "      <td>44.6</td>\n",
       "      <td>152.0</td>\n",
       "      <td>19.300000</td>\n",
       "      <td>15</td>\n",
       "      <td>78</td>\n",
       "      <td>22</td>\n",
       "      <td>...</td>\n",
       "      <td>0</td>\n",
       "      <td>1.0</td>\n",
       "      <td>0</td>\n",
       "      <td>110</td>\n",
       "      <td>80</td>\n",
       "      <td>3</td>\n",
       "      <td>3</td>\n",
       "      <td>18.0</td>\n",
       "      <td>18.0</td>\n",
       "      <td>8.5</td>\n",
       "    </tr>\n",
       "    <tr>\n",
       "      <th>1</th>\n",
       "      <td>2</td>\n",
       "      <td>2</td>\n",
       "      <td>0</td>\n",
       "      <td>36</td>\n",
       "      <td>65.0</td>\n",
       "      <td>161.5</td>\n",
       "      <td>24.921163</td>\n",
       "      <td>15</td>\n",
       "      <td>74</td>\n",
       "      <td>20</td>\n",
       "      <td>...</td>\n",
       "      <td>0</td>\n",
       "      <td>0.0</td>\n",
       "      <td>0</td>\n",
       "      <td>120</td>\n",
       "      <td>70</td>\n",
       "      <td>3</td>\n",
       "      <td>5</td>\n",
       "      <td>15.0</td>\n",
       "      <td>14.0</td>\n",
       "      <td>3.7</td>\n",
       "    </tr>\n",
       "    <tr>\n",
       "      <th>2</th>\n",
       "      <td>3</td>\n",
       "      <td>3</td>\n",
       "      <td>1</td>\n",
       "      <td>33</td>\n",
       "      <td>68.8</td>\n",
       "      <td>165.0</td>\n",
       "      <td>25.270891</td>\n",
       "      <td>11</td>\n",
       "      <td>72</td>\n",
       "      <td>18</td>\n",
       "      <td>...</td>\n",
       "      <td>1</td>\n",
       "      <td>1.0</td>\n",
       "      <td>0</td>\n",
       "      <td>120</td>\n",
       "      <td>80</td>\n",
       "      <td>13</td>\n",
       "      <td>15</td>\n",
       "      <td>18.0</td>\n",
       "      <td>20.0</td>\n",
       "      <td>10.0</td>\n",
       "    </tr>\n",
       "    <tr>\n",
       "      <th>3</th>\n",
       "      <td>4</td>\n",
       "      <td>4</td>\n",
       "      <td>0</td>\n",
       "      <td>37</td>\n",
       "      <td>65.0</td>\n",
       "      <td>148.0</td>\n",
       "      <td>29.674945</td>\n",
       "      <td>13</td>\n",
       "      <td>72</td>\n",
       "      <td>20</td>\n",
       "      <td>...</td>\n",
       "      <td>0</td>\n",
       "      <td>0.0</td>\n",
       "      <td>0</td>\n",
       "      <td>120</td>\n",
       "      <td>70</td>\n",
       "      <td>2</td>\n",
       "      <td>2</td>\n",
       "      <td>15.0</td>\n",
       "      <td>14.0</td>\n",
       "      <td>7.5</td>\n",
       "    </tr>\n",
       "    <tr>\n",
       "      <th>4</th>\n",
       "      <td>5</td>\n",
       "      <td>5</td>\n",
       "      <td>0</td>\n",
       "      <td>25</td>\n",
       "      <td>52.0</td>\n",
       "      <td>161.0</td>\n",
       "      <td>20.060954</td>\n",
       "      <td>11</td>\n",
       "      <td>72</td>\n",
       "      <td>18</td>\n",
       "      <td>...</td>\n",
       "      <td>0</td>\n",
       "      <td>0.0</td>\n",
       "      <td>0</td>\n",
       "      <td>120</td>\n",
       "      <td>80</td>\n",
       "      <td>3</td>\n",
       "      <td>4</td>\n",
       "      <td>16.0</td>\n",
       "      <td>14.0</td>\n",
       "      <td>7.0</td>\n",
       "    </tr>\n",
       "    <tr>\n",
       "      <th>5</th>\n",
       "      <td>6</td>\n",
       "      <td>6</td>\n",
       "      <td>0</td>\n",
       "      <td>36</td>\n",
       "      <td>74.1</td>\n",
       "      <td>165.0</td>\n",
       "      <td>27.217631</td>\n",
       "      <td>15</td>\n",
       "      <td>78</td>\n",
       "      <td>28</td>\n",
       "      <td>...</td>\n",
       "      <td>0</td>\n",
       "      <td>0.0</td>\n",
       "      <td>0</td>\n",
       "      <td>110</td>\n",
       "      <td>70</td>\n",
       "      <td>9</td>\n",
       "      <td>6</td>\n",
       "      <td>16.0</td>\n",
       "      <td>20.0</td>\n",
       "      <td>8.0</td>\n",
       "    </tr>\n",
       "    <tr>\n",
       "      <th>6</th>\n",
       "      <td>7</td>\n",
       "      <td>7</td>\n",
       "      <td>0</td>\n",
       "      <td>34</td>\n",
       "      <td>64.0</td>\n",
       "      <td>156.0</td>\n",
       "      <td>26.298488</td>\n",
       "      <td>11</td>\n",
       "      <td>72</td>\n",
       "      <td>18</td>\n",
       "      <td>...</td>\n",
       "      <td>0</td>\n",
       "      <td>0.0</td>\n",
       "      <td>0</td>\n",
       "      <td>120</td>\n",
       "      <td>80</td>\n",
       "      <td>6</td>\n",
       "      <td>6</td>\n",
       "      <td>15.0</td>\n",
       "      <td>16.0</td>\n",
       "      <td>6.8</td>\n",
       "    </tr>\n",
       "    <tr>\n",
       "      <th>7</th>\n",
       "      <td>8</td>\n",
       "      <td>8</td>\n",
       "      <td>0</td>\n",
       "      <td>33</td>\n",
       "      <td>58.5</td>\n",
       "      <td>159.0</td>\n",
       "      <td>23.139907</td>\n",
       "      <td>13</td>\n",
       "      <td>72</td>\n",
       "      <td>20</td>\n",
       "      <td>...</td>\n",
       "      <td>0</td>\n",
       "      <td>0.0</td>\n",
       "      <td>0</td>\n",
       "      <td>120</td>\n",
       "      <td>80</td>\n",
       "      <td>7</td>\n",
       "      <td>6</td>\n",
       "      <td>15.0</td>\n",
       "      <td>18.0</td>\n",
       "      <td>7.1</td>\n",
       "    </tr>\n",
       "    <tr>\n",
       "      <th>8</th>\n",
       "      <td>9</td>\n",
       "      <td>9</td>\n",
       "      <td>0</td>\n",
       "      <td>32</td>\n",
       "      <td>40.0</td>\n",
       "      <td>158.0</td>\n",
       "      <td>16.023073</td>\n",
       "      <td>11</td>\n",
       "      <td>72</td>\n",
       "      <td>18</td>\n",
       "      <td>...</td>\n",
       "      <td>0</td>\n",
       "      <td>0.0</td>\n",
       "      <td>0</td>\n",
       "      <td>120</td>\n",
       "      <td>80</td>\n",
       "      <td>5</td>\n",
       "      <td>7</td>\n",
       "      <td>17.0</td>\n",
       "      <td>17.0</td>\n",
       "      <td>4.2</td>\n",
       "    </tr>\n",
       "    <tr>\n",
       "      <th>9</th>\n",
       "      <td>10</td>\n",
       "      <td>10</td>\n",
       "      <td>0</td>\n",
       "      <td>36</td>\n",
       "      <td>52.0</td>\n",
       "      <td>150.0</td>\n",
       "      <td>23.111111</td>\n",
       "      <td>15</td>\n",
       "      <td>80</td>\n",
       "      <td>20</td>\n",
       "      <td>...</td>\n",
       "      <td>0</td>\n",
       "      <td>0.0</td>\n",
       "      <td>0</td>\n",
       "      <td>110</td>\n",
       "      <td>80</td>\n",
       "      <td>1</td>\n",
       "      <td>1</td>\n",
       "      <td>14.0</td>\n",
       "      <td>17.0</td>\n",
       "      <td>2.5</td>\n",
       "    </tr>\n",
       "  </tbody>\n",
       "</table>\n",
       "<p>10 rows × 44 columns</p>\n",
       "</div>\n",
       "    <div class=\"colab-df-buttons\">\n",
       "\n",
       "  <div class=\"colab-df-container\">\n",
       "    <button class=\"colab-df-convert\" onclick=\"convertToInteractive('df-3cc90491-a33b-4a82-9287-ab60ead3f067')\"\n",
       "            title=\"Convert this dataframe to an interactive table.\"\n",
       "            style=\"display:none;\">\n",
       "\n",
       "  <svg xmlns=\"http://www.w3.org/2000/svg\" height=\"24px\" viewBox=\"0 -960 960 960\">\n",
       "    <path d=\"M120-120v-720h720v720H120Zm60-500h600v-160H180v160Zm220 220h160v-160H400v160Zm0 220h160v-160H400v160ZM180-400h160v-160H180v160Zm440 0h160v-160H620v160ZM180-180h160v-160H180v160Zm440 0h160v-160H620v160Z\"/>\n",
       "  </svg>\n",
       "    </button>\n",
       "\n",
       "  <style>\n",
       "    .colab-df-container {\n",
       "      display:flex;\n",
       "      gap: 12px;\n",
       "    }\n",
       "\n",
       "    .colab-df-convert {\n",
       "      background-color: #E8F0FE;\n",
       "      border: none;\n",
       "      border-radius: 50%;\n",
       "      cursor: pointer;\n",
       "      display: none;\n",
       "      fill: #1967D2;\n",
       "      height: 32px;\n",
       "      padding: 0 0 0 0;\n",
       "      width: 32px;\n",
       "    }\n",
       "\n",
       "    .colab-df-convert:hover {\n",
       "      background-color: #E2EBFA;\n",
       "      box-shadow: 0px 1px 2px rgba(60, 64, 67, 0.3), 0px 1px 3px 1px rgba(60, 64, 67, 0.15);\n",
       "      fill: #174EA6;\n",
       "    }\n",
       "\n",
       "    .colab-df-buttons div {\n",
       "      margin-bottom: 4px;\n",
       "    }\n",
       "\n",
       "    [theme=dark] .colab-df-convert {\n",
       "      background-color: #3B4455;\n",
       "      fill: #D2E3FC;\n",
       "    }\n",
       "\n",
       "    [theme=dark] .colab-df-convert:hover {\n",
       "      background-color: #434B5C;\n",
       "      box-shadow: 0px 1px 3px 1px rgba(0, 0, 0, 0.15);\n",
       "      filter: drop-shadow(0px 1px 2px rgba(0, 0, 0, 0.3));\n",
       "      fill: #FFFFFF;\n",
       "    }\n",
       "  </style>\n",
       "\n",
       "    <script>\n",
       "      const buttonEl =\n",
       "        document.querySelector('#df-3cc90491-a33b-4a82-9287-ab60ead3f067 button.colab-df-convert');\n",
       "      buttonEl.style.display =\n",
       "        google.colab.kernel.accessAllowed ? 'block' : 'none';\n",
       "\n",
       "      async function convertToInteractive(key) {\n",
       "        const element = document.querySelector('#df-3cc90491-a33b-4a82-9287-ab60ead3f067');\n",
       "        const dataTable =\n",
       "          await google.colab.kernel.invokeFunction('convertToInteractive',\n",
       "                                                    [key], {});\n",
       "        if (!dataTable) return;\n",
       "\n",
       "        const docLinkHtml = 'Like what you see? Visit the ' +\n",
       "          '<a target=\"_blank\" href=https://colab.research.google.com/notebooks/data_table.ipynb>data table notebook</a>'\n",
       "          + ' to learn more about interactive tables.';\n",
       "        element.innerHTML = '';\n",
       "        dataTable['output_type'] = 'display_data';\n",
       "        await google.colab.output.renderOutput(dataTable, element);\n",
       "        const docLink = document.createElement('div');\n",
       "        docLink.innerHTML = docLinkHtml;\n",
       "        element.appendChild(docLink);\n",
       "      }\n",
       "    </script>\n",
       "  </div>\n",
       "\n",
       "\n",
       "<div id=\"df-dc0ac7da-035b-4877-abb4-89edc7e82433\">\n",
       "  <button class=\"colab-df-quickchart\" onclick=\"quickchart('df-dc0ac7da-035b-4877-abb4-89edc7e82433')\"\n",
       "            title=\"Suggest charts.\"\n",
       "            style=\"display:none;\">\n",
       "\n",
       "<svg xmlns=\"http://www.w3.org/2000/svg\" height=\"24px\"viewBox=\"0 0 24 24\"\n",
       "     width=\"24px\">\n",
       "    <g>\n",
       "        <path d=\"M19 3H5c-1.1 0-2 .9-2 2v14c0 1.1.9 2 2 2h14c1.1 0 2-.9 2-2V5c0-1.1-.9-2-2-2zM9 17H7v-7h2v7zm4 0h-2V7h2v10zm4 0h-2v-4h2v4z\"/>\n",
       "    </g>\n",
       "</svg>\n",
       "  </button>\n",
       "\n",
       "<style>\n",
       "  .colab-df-quickchart {\n",
       "      --bg-color: #E8F0FE;\n",
       "      --fill-color: #1967D2;\n",
       "      --hover-bg-color: #E2EBFA;\n",
       "      --hover-fill-color: #174EA6;\n",
       "      --disabled-fill-color: #AAA;\n",
       "      --disabled-bg-color: #DDD;\n",
       "  }\n",
       "\n",
       "  [theme=dark] .colab-df-quickchart {\n",
       "      --bg-color: #3B4455;\n",
       "      --fill-color: #D2E3FC;\n",
       "      --hover-bg-color: #434B5C;\n",
       "      --hover-fill-color: #FFFFFF;\n",
       "      --disabled-bg-color: #3B4455;\n",
       "      --disabled-fill-color: #666;\n",
       "  }\n",
       "\n",
       "  .colab-df-quickchart {\n",
       "    background-color: var(--bg-color);\n",
       "    border: none;\n",
       "    border-radius: 50%;\n",
       "    cursor: pointer;\n",
       "    display: none;\n",
       "    fill: var(--fill-color);\n",
       "    height: 32px;\n",
       "    padding: 0;\n",
       "    width: 32px;\n",
       "  }\n",
       "\n",
       "  .colab-df-quickchart:hover {\n",
       "    background-color: var(--hover-bg-color);\n",
       "    box-shadow: 0 1px 2px rgba(60, 64, 67, 0.3), 0 1px 3px 1px rgba(60, 64, 67, 0.15);\n",
       "    fill: var(--button-hover-fill-color);\n",
       "  }\n",
       "\n",
       "  .colab-df-quickchart-complete:disabled,\n",
       "  .colab-df-quickchart-complete:disabled:hover {\n",
       "    background-color: var(--disabled-bg-color);\n",
       "    fill: var(--disabled-fill-color);\n",
       "    box-shadow: none;\n",
       "  }\n",
       "\n",
       "  .colab-df-spinner {\n",
       "    border: 2px solid var(--fill-color);\n",
       "    border-color: transparent;\n",
       "    border-bottom-color: var(--fill-color);\n",
       "    animation:\n",
       "      spin 1s steps(1) infinite;\n",
       "  }\n",
       "\n",
       "  @keyframes spin {\n",
       "    0% {\n",
       "      border-color: transparent;\n",
       "      border-bottom-color: var(--fill-color);\n",
       "      border-left-color: var(--fill-color);\n",
       "    }\n",
       "    20% {\n",
       "      border-color: transparent;\n",
       "      border-left-color: var(--fill-color);\n",
       "      border-top-color: var(--fill-color);\n",
       "    }\n",
       "    30% {\n",
       "      border-color: transparent;\n",
       "      border-left-color: var(--fill-color);\n",
       "      border-top-color: var(--fill-color);\n",
       "      border-right-color: var(--fill-color);\n",
       "    }\n",
       "    40% {\n",
       "      border-color: transparent;\n",
       "      border-right-color: var(--fill-color);\n",
       "      border-top-color: var(--fill-color);\n",
       "    }\n",
       "    60% {\n",
       "      border-color: transparent;\n",
       "      border-right-color: var(--fill-color);\n",
       "    }\n",
       "    80% {\n",
       "      border-color: transparent;\n",
       "      border-right-color: var(--fill-color);\n",
       "      border-bottom-color: var(--fill-color);\n",
       "    }\n",
       "    90% {\n",
       "      border-color: transparent;\n",
       "      border-bottom-color: var(--fill-color);\n",
       "    }\n",
       "  }\n",
       "</style>\n",
       "\n",
       "  <script>\n",
       "    async function quickchart(key) {\n",
       "      const quickchartButtonEl =\n",
       "        document.querySelector('#' + key + ' button');\n",
       "      quickchartButtonEl.disabled = true;  // To prevent multiple clicks.\n",
       "      quickchartButtonEl.classList.add('colab-df-spinner');\n",
       "      try {\n",
       "        const charts = await google.colab.kernel.invokeFunction(\n",
       "            'suggestCharts', [key], {});\n",
       "      } catch (error) {\n",
       "        console.error('Error during call to suggestCharts:', error);\n",
       "      }\n",
       "      quickchartButtonEl.classList.remove('colab-df-spinner');\n",
       "      quickchartButtonEl.classList.add('colab-df-quickchart-complete');\n",
       "    }\n",
       "    (() => {\n",
       "      let quickchartButtonEl =\n",
       "        document.querySelector('#df-dc0ac7da-035b-4877-abb4-89edc7e82433 button');\n",
       "      quickchartButtonEl.style.display =\n",
       "        google.colab.kernel.accessAllowed ? 'block' : 'none';\n",
       "    })();\n",
       "  </script>\n",
       "</div>\n",
       "    </div>\n",
       "  </div>\n"
      ],
      "text/plain": [
       "   Sl. No  Patient File No.  PCOS (Y/N)   Age (yrs)  Weight (Kg)  Height(Cm)   \\\n",
       "0       1                 1           0          28         44.6        152.0   \n",
       "1       2                 2           0          36         65.0        161.5   \n",
       "2       3                 3           1          33         68.8        165.0   \n",
       "3       4                 4           0          37         65.0        148.0   \n",
       "4       5                 5           0          25         52.0        161.0   \n",
       "5       6                 6           0          36         74.1        165.0   \n",
       "6       7                 7           0          34         64.0        156.0   \n",
       "7       8                 8           0          33         58.5        159.0   \n",
       "8       9                 9           0          32         40.0        158.0   \n",
       "9      10                10           0          36         52.0        150.0   \n",
       "\n",
       "         BMI  Blood Group  Pulse rate(bpm)   RR (breaths/min)  ...  \\\n",
       "0  19.300000           15                78                22  ...   \n",
       "1  24.921163           15                74                20  ...   \n",
       "2  25.270891           11                72                18  ...   \n",
       "3  29.674945           13                72                20  ...   \n",
       "4  20.060954           11                72                18  ...   \n",
       "5  27.217631           15                78                28  ...   \n",
       "6  26.298488           11                72                18  ...   \n",
       "7  23.139907           13                72                20  ...   \n",
       "8  16.023073           11                72                18  ...   \n",
       "9  23.111111           15                80                20  ...   \n",
       "\n",
       "   Pimples(Y/N)  Fast food (Y/N)  Reg.Exercise(Y/N)  BP _Systolic (mmHg)  \\\n",
       "0             0              1.0                  0                  110   \n",
       "1             0              0.0                  0                  120   \n",
       "2             1              1.0                  0                  120   \n",
       "3             0              0.0                  0                  120   \n",
       "4             0              0.0                  0                  120   \n",
       "5             0              0.0                  0                  110   \n",
       "6             0              0.0                  0                  120   \n",
       "7             0              0.0                  0                  120   \n",
       "8             0              0.0                  0                  120   \n",
       "9             0              0.0                  0                  110   \n",
       "\n",
       "   BP _Diastolic (mmHg)  Follicle No. (L)  Follicle No. (R)  \\\n",
       "0                    80                 3                 3   \n",
       "1                    70                 3                 5   \n",
       "2                    80                13                15   \n",
       "3                    70                 2                 2   \n",
       "4                    80                 3                 4   \n",
       "5                    70                 9                 6   \n",
       "6                    80                 6                 6   \n",
       "7                    80                 7                 6   \n",
       "8                    80                 5                 7   \n",
       "9                    80                 1                 1   \n",
       "\n",
       "   Avg. F size (L) (mm)  Avg. F size (R) (mm)  Endometrium (mm)  \n",
       "0                  18.0                  18.0               8.5  \n",
       "1                  15.0                  14.0               3.7  \n",
       "2                  18.0                  20.0              10.0  \n",
       "3                  15.0                  14.0               7.5  \n",
       "4                  16.0                  14.0               7.0  \n",
       "5                  16.0                  20.0               8.0  \n",
       "6                  15.0                  16.0               6.8  \n",
       "7                  15.0                  18.0               7.1  \n",
       "8                  17.0                  17.0               4.2  \n",
       "9                  14.0                  17.0               2.5  \n",
       "\n",
       "[10 rows x 44 columns]"
      ]
     },
     "execution_count": 2,
     "metadata": {},
     "output_type": "execute_result"
    }
   ],
   "source": [
    "df = pd.read_excel(\"/content/PCOS DATA.xlsx\")\n",
    "df.head(10)"
   ]
  },
  {
   "cell_type": "code",
   "execution_count": 3,
   "metadata": {
    "executionInfo": {
     "elapsed": 16,
     "status": "ok",
     "timestamp": 1697074676449,
     "user": {
      "displayName": "Velocity Data Science",
      "userId": "12853793230690412689"
     },
     "user_tz": -330
    },
    "id": "-5aa-nw_fP6s"
   },
   "outputs": [],
   "source": [
    "df.dropna(inplace = True)"
   ]
  },
  {
   "cell_type": "code",
   "execution_count": 4,
   "metadata": {
    "colab": {
     "base_uri": "https://localhost:8080/"
    },
    "executionInfo": {
     "elapsed": 16,
     "status": "ok",
     "timestamp": 1697074676449,
     "user": {
      "displayName": "Velocity Data Science",
      "userId": "12853793230690412689"
     },
     "user_tz": -330
    },
    "id": "M7oZv6lrVOf4",
    "outputId": "3745ba5c-c78c-44a9-daa1-6c7d9f1860cc"
   },
   "outputs": [
    {
     "data": {
      "text/plain": [
       "Index(['Sl. No', 'Patient File No.', 'PCOS (Y/N)', ' Age (yrs)', 'Weight (Kg)',\n",
       "       'Height(Cm) ', 'BMI', 'Blood Group', 'Pulse rate(bpm) ',\n",
       "       'RR (breaths/min)', 'Hb(g/dl)', 'Cycle(R/I)', 'Cycle length(days)',\n",
       "       'Marraige Status (Yrs)', 'Pregnant(Y/N)', 'No. of aborptions',\n",
       "       '  I   beta-HCG(mIU/mL)', 'II    beta-HCG(mIU/mL)', 'FSH(mIU/mL)',\n",
       "       'LH(mIU/mL)', 'FSH/LH', 'Hip(inch)', 'Waist(inch)', 'Waist:Hip Ratio',\n",
       "       'TSH (mIU/L)', 'AMH(ng/mL)', 'PRL(ng/mL)', 'Vit D3 (ng/mL)',\n",
       "       'PRG(ng/mL)', 'RBS(mg/dl)', 'Weight gain(Y/N)', 'hair growth(Y/N)',\n",
       "       'Skin darkening (Y/N)', 'Hair loss(Y/N)', 'Pimples(Y/N)',\n",
       "       'Fast food (Y/N)', 'Reg.Exercise(Y/N)', 'BP _Systolic (mmHg)',\n",
       "       'BP _Diastolic (mmHg)', 'Follicle No. (L)', 'Follicle No. (R)',\n",
       "       'Avg. F size (L) (mm)', 'Avg. F size (R) (mm)', 'Endometrium (mm)'],\n",
       "      dtype='object')"
      ]
     },
     "execution_count": 4,
     "metadata": {},
     "output_type": "execute_result"
    }
   ],
   "source": [
    "df.columns"
   ]
  },
  {
   "cell_type": "code",
   "execution_count": 5,
   "metadata": {
    "colab": {
     "base_uri": "https://localhost:8080/"
    },
    "executionInfo": {
     "elapsed": 14,
     "status": "ok",
     "timestamp": 1697074676449,
     "user": {
      "displayName": "Velocity Data Science",
      "userId": "12853793230690412689"
     },
     "user_tz": -330
    },
    "id": "TmWOD0PmfT07",
    "outputId": "d6edbee8-f9b9-47bf-eb42-4dc694fb7423"
   },
   "outputs": [
    {
     "data": {
      "text/plain": [
       "Sl. No                    0\n",
       "Patient File No.          0\n",
       "PCOS (Y/N)                0\n",
       " Age (yrs)                0\n",
       "Weight (Kg)               0\n",
       "Height(Cm)                0\n",
       "BMI                       0\n",
       "Blood Group               0\n",
       "Pulse rate(bpm)           0\n",
       "RR (breaths/min)          0\n",
       "Hb(g/dl)                  0\n",
       "Cycle(R/I)                0\n",
       "Cycle length(days)        0\n",
       "Marraige Status (Yrs)     0\n",
       "Pregnant(Y/N)             0\n",
       "No. of aborptions         0\n",
       "  I   beta-HCG(mIU/mL)    0\n",
       "II    beta-HCG(mIU/mL)    0\n",
       "FSH(mIU/mL)               0\n",
       "LH(mIU/mL)                0\n",
       "FSH/LH                    0\n",
       "Hip(inch)                 0\n",
       "Waist(inch)               0\n",
       "Waist:Hip Ratio           0\n",
       "TSH (mIU/L)               0\n",
       "AMH(ng/mL)                0\n",
       "PRL(ng/mL)                0\n",
       "Vit D3 (ng/mL)            0\n",
       "PRG(ng/mL)                0\n",
       "RBS(mg/dl)                0\n",
       "Weight gain(Y/N)          0\n",
       "hair growth(Y/N)          0\n",
       "Skin darkening (Y/N)      0\n",
       "Hair loss(Y/N)            0\n",
       "Pimples(Y/N)              0\n",
       "Fast food (Y/N)           0\n",
       "Reg.Exercise(Y/N)         0\n",
       "BP _Systolic (mmHg)       0\n",
       "BP _Diastolic (mmHg)      0\n",
       "Follicle No. (L)          0\n",
       "Follicle No. (R)          0\n",
       "Avg. F size (L) (mm)      0\n",
       "Avg. F size (R) (mm)      0\n",
       "Endometrium (mm)          0\n",
       "dtype: int64"
      ]
     },
     "execution_count": 5,
     "metadata": {},
     "output_type": "execute_result"
    }
   ],
   "source": [
    "df.isna().sum()"
   ]
  },
  {
   "cell_type": "code",
   "execution_count": 6,
   "metadata": {
    "executionInfo": {
     "elapsed": 12,
     "status": "ok",
     "timestamp": 1697074676449,
     "user": {
      "displayName": "Velocity Data Science",
      "userId": "12853793230690412689"
     },
     "user_tz": -330
    },
    "id": "O7bm7uIeVOgg"
   },
   "outputs": [],
   "source": [
    "column_names = {}\n",
    "\n",
    "for i in df.columns:\n",
    "  column_names[i] = i.strip().replace(\" \",\"_\")\n",
    "\n",
    "\n",
    "df.rename(columns = column_names,inplace = True )"
   ]
  },
  {
   "cell_type": "code",
   "execution_count": 7,
   "metadata": {
    "colab": {
     "base_uri": "https://localhost:8080/"
    },
    "executionInfo": {
     "elapsed": 11,
     "status": "ok",
     "timestamp": 1697074676449,
     "user": {
      "displayName": "Velocity Data Science",
      "userId": "12853793230690412689"
     },
     "user_tz": -330
    },
    "id": "eXDOq168VOhF",
    "outputId": "45ac8410-94c3-4e77-f4fb-3a344a7f0930"
   },
   "outputs": [
    {
     "data": {
      "text/plain": [
       "Index(['Sl._No', 'Patient_File_No.', 'PCOS_(Y/N)', 'Age_(yrs)', 'Weight_(Kg)',\n",
       "       'Height(Cm)', 'BMI', 'Blood_Group', 'Pulse_rate(bpm)',\n",
       "       'RR_(breaths/min)', 'Hb(g/dl)', 'Cycle(R/I)', 'Cycle_length(days)',\n",
       "       'Marraige_Status_(Yrs)', 'Pregnant(Y/N)', 'No._of_aborptions',\n",
       "       'I___beta-HCG(mIU/mL)', 'II____beta-HCG(mIU/mL)', 'FSH(mIU/mL)',\n",
       "       'LH(mIU/mL)', 'FSH/LH', 'Hip(inch)', 'Waist(inch)', 'Waist:Hip_Ratio',\n",
       "       'TSH_(mIU/L)', 'AMH(ng/mL)', 'PRL(ng/mL)', 'Vit_D3_(ng/mL)',\n",
       "       'PRG(ng/mL)', 'RBS(mg/dl)', 'Weight_gain(Y/N)', 'hair_growth(Y/N)',\n",
       "       'Skin_darkening_(Y/N)', 'Hair_loss(Y/N)', 'Pimples(Y/N)',\n",
       "       'Fast_food_(Y/N)', 'Reg.Exercise(Y/N)', 'BP__Systolic_(mmHg)',\n",
       "       'BP__Diastolic_(mmHg)', 'Follicle_No._(L)', 'Follicle_No._(R)',\n",
       "       'Avg._F_size_(L)_(mm)', 'Avg._F_size_(R)_(mm)', 'Endometrium_(mm)'],\n",
       "      dtype='object')"
      ]
     },
     "execution_count": 7,
     "metadata": {},
     "output_type": "execute_result"
    }
   ],
   "source": [
    "df.columns"
   ]
  },
  {
   "cell_type": "code",
   "execution_count": 8,
   "metadata": {
    "colab": {
     "base_uri": "https://localhost:8080/"
    },
    "executionInfo": {
     "elapsed": 7,
     "status": "ok",
     "timestamp": 1697074677719,
     "user": {
      "displayName": "Velocity Data Science",
      "userId": "12853793230690412689"
     },
     "user_tz": -330
    },
    "id": "Qo3gVLfQVNII",
    "outputId": "8e54d0a9-2084-424d-c347-dd8d7a6a5526"
   },
   "outputs": [
    {
     "data": {
      "text/plain": [
       "0    363\n",
       "1    176\n",
       "Name: PCOS_(Y/N), dtype: int64"
      ]
     },
     "execution_count": 8,
     "metadata": {},
     "output_type": "execute_result"
    }
   ],
   "source": [
    "df['PCOS_(Y/N)'].value_counts()"
   ]
  },
  {
   "cell_type": "code",
   "execution_count": null,
   "metadata": {
    "colab": {
     "base_uri": "https://localhost:8080/"
    },
    "executionInfo": {
     "elapsed": 6647,
     "status": "ok",
     "timestamp": 1696905571134,
     "user": {
      "displayName": "Velocity Data Science",
      "userId": "12853793230690412689"
     },
     "user_tz": -330
    },
    "id": "tDpW3vsUcxmE",
    "outputId": "dfa97168-55c7-4eb0-e3d2-d41f2784a3f7"
   },
   "outputs": [
    {
     "name": "stdout",
     "output_type": "stream",
     "text": [
      "Collecting sweetviz\n",
      "  Downloading sweetviz-2.2.1-py3-none-any.whl (15.1 MB)\n",
      "\u001b[2K     \u001b[90m━━━━━━━━━━━━━━━━━━━━━━━━━━━━━━━━━━━━━━━━\u001b[0m \u001b[32m15.1/15.1 MB\u001b[0m \u001b[31m59.2 MB/s\u001b[0m eta \u001b[36m0:00:00\u001b[0m\n",
      "\u001b[?25hRequirement already satisfied: pandas!=1.0.0,!=1.0.1,!=1.0.2,>=0.25.3 in /usr/local/lib/python3.10/dist-packages (from sweetviz) (1.5.3)\n",
      "Requirement already satisfied: numpy>=1.16.0 in /usr/local/lib/python3.10/dist-packages (from sweetviz) (1.23.5)\n",
      "Requirement already satisfied: matplotlib>=3.1.3 in /usr/local/lib/python3.10/dist-packages (from sweetviz) (3.7.1)\n",
      "Requirement already satisfied: tqdm>=4.43.0 in /usr/local/lib/python3.10/dist-packages (from sweetviz) (4.66.1)\n",
      "Requirement already satisfied: scipy>=1.3.2 in /usr/local/lib/python3.10/dist-packages (from sweetviz) (1.11.3)\n",
      "Requirement already satisfied: jinja2>=2.11.1 in /usr/local/lib/python3.10/dist-packages (from sweetviz) (3.1.2)\n",
      "Requirement already satisfied: importlib-resources>=1.2.0 in /usr/local/lib/python3.10/dist-packages (from sweetviz) (6.1.0)\n",
      "Requirement already satisfied: MarkupSafe>=2.0 in /usr/local/lib/python3.10/dist-packages (from jinja2>=2.11.1->sweetviz) (2.1.3)\n",
      "Requirement already satisfied: contourpy>=1.0.1 in /usr/local/lib/python3.10/dist-packages (from matplotlib>=3.1.3->sweetviz) (1.1.1)\n",
      "Requirement already satisfied: cycler>=0.10 in /usr/local/lib/python3.10/dist-packages (from matplotlib>=3.1.3->sweetviz) (0.12.0)\n",
      "Requirement already satisfied: fonttools>=4.22.0 in /usr/local/lib/python3.10/dist-packages (from matplotlib>=3.1.3->sweetviz) (4.43.0)\n",
      "Requirement already satisfied: kiwisolver>=1.0.1 in /usr/local/lib/python3.10/dist-packages (from matplotlib>=3.1.3->sweetviz) (1.4.5)\n",
      "Requirement already satisfied: packaging>=20.0 in /usr/local/lib/python3.10/dist-packages (from matplotlib>=3.1.3->sweetviz) (23.2)\n",
      "Requirement already satisfied: pillow>=6.2.0 in /usr/local/lib/python3.10/dist-packages (from matplotlib>=3.1.3->sweetviz) (9.4.0)\n",
      "Requirement already satisfied: pyparsing>=2.3.1 in /usr/local/lib/python3.10/dist-packages (from matplotlib>=3.1.3->sweetviz) (3.1.1)\n",
      "Requirement already satisfied: python-dateutil>=2.7 in /usr/local/lib/python3.10/dist-packages (from matplotlib>=3.1.3->sweetviz) (2.8.2)\n",
      "Requirement already satisfied: pytz>=2020.1 in /usr/local/lib/python3.10/dist-packages (from pandas!=1.0.0,!=1.0.1,!=1.0.2,>=0.25.3->sweetviz) (2023.3.post1)\n",
      "Requirement already satisfied: six>=1.5 in /usr/local/lib/python3.10/dist-packages (from python-dateutil>=2.7->matplotlib>=3.1.3->sweetviz) (1.16.0)\n",
      "Installing collected packages: sweetviz\n",
      "Successfully installed sweetviz-2.2.1\n"
     ]
    }
   ],
   "source": [
    "! pip install sweetviz"
   ]
  },
  {
   "cell_type": "code",
   "execution_count": null,
   "metadata": {
    "colab": {
     "base_uri": "https://localhost:8080/",
     "height": 66,
     "referenced_widgets": [
      "1acc18e27f6d43b6bc7dd6a334f9d81c",
      "9d9d774c9bd54533b7da9b9d3d69b5d4",
      "f23ea319c4bb405296bf0cad0675d748",
      "391efb44784747bdb9131fba0ed44d68",
      "2b7cfd88adf94e5e9b504afc6bb398d0",
      "12d165af83b64fecbf944626e40a61fe",
      "66abd42ee7204ab8a2f40882af7fa8de",
      "b9514ec7570546d587c967b612d9f8dc",
      "b6ac8a1f418b44caaa7cbcf30bc2694f",
      "5dbe6c6b3d6646edbef2af26287a6411",
      "3e8e42570c0043f4815860806744d148"
     ]
    },
    "executionInfo": {
     "elapsed": 34346,
     "status": "ok",
     "timestamp": 1696905648098,
     "user": {
      "displayName": "Velocity Data Science",
      "userId": "12853793230690412689"
     },
     "user_tz": -330
    },
    "id": "ke1efqzjcxou",
    "outputId": "5e1cf88a-b28c-4209-98ea-7e9a9114ff46"
   },
   "outputs": [
    {
     "data": {
      "application/vnd.jupyter.widget-view+json": {
       "model_id": "1acc18e27f6d43b6bc7dd6a334f9d81c",
       "version_major": 2,
       "version_minor": 0
      },
      "text/plain": [
       "                                             |          | [  0%]   00:00 -> (? left)"
      ]
     },
     "metadata": {},
     "output_type": "display_data"
    },
    {
     "name": "stdout",
     "output_type": "stream",
     "text": [
      "Report eda_repost.html was generated! NOTEBOOK/COLAB USERS: the web browser MAY not pop up, regardless, the report IS saved in your notebook/colab files.\n"
     ]
    }
   ],
   "source": [
    "import sweetviz as sv\n",
    "\n",
    "report = sv.analyze(df)\n",
    "\n",
    "report.show_html(\"eda_repost.html\")"
   ]
  },
  {
   "cell_type": "code",
   "execution_count": 9,
   "metadata": {
    "colab": {
     "base_uri": "https://localhost:8080/"
    },
    "executionInfo": {
     "elapsed": 8,
     "status": "ok",
     "timestamp": 1697074681858,
     "user": {
      "displayName": "Velocity Data Science",
      "userId": "12853793230690412689"
     },
     "user_tz": -330
    },
    "id": "Fr2Hbxo6ee3g",
    "outputId": "17aec185-c95f-4af9-9505-043fc6625023"
   },
   "outputs": [
    {
     "data": {
      "text/plain": [
       "Index(['Sl._No', 'Patient_File_No.', 'PCOS_(Y/N)', 'Age_(yrs)', 'Weight_(Kg)',\n",
       "       'Height(Cm)', 'BMI', 'Blood_Group', 'Pulse_rate(bpm)',\n",
       "       'RR_(breaths/min)', 'Hb(g/dl)', 'Cycle(R/I)', 'Cycle_length(days)',\n",
       "       'Marraige_Status_(Yrs)', 'Pregnant(Y/N)', 'No._of_aborptions',\n",
       "       'I___beta-HCG(mIU/mL)', 'II____beta-HCG(mIU/mL)', 'FSH(mIU/mL)',\n",
       "       'LH(mIU/mL)', 'FSH/LH', 'Hip(inch)', 'Waist(inch)', 'Waist:Hip_Ratio',\n",
       "       'TSH_(mIU/L)', 'AMH(ng/mL)', 'PRL(ng/mL)', 'Vit_D3_(ng/mL)',\n",
       "       'PRG(ng/mL)', 'RBS(mg/dl)', 'Weight_gain(Y/N)', 'hair_growth(Y/N)',\n",
       "       'Skin_darkening_(Y/N)', 'Hair_loss(Y/N)', 'Pimples(Y/N)',\n",
       "       'Fast_food_(Y/N)', 'Reg.Exercise(Y/N)', 'BP__Systolic_(mmHg)',\n",
       "       'BP__Diastolic_(mmHg)', 'Follicle_No._(L)', 'Follicle_No._(R)',\n",
       "       'Avg._F_size_(L)_(mm)', 'Avg._F_size_(R)_(mm)', 'Endometrium_(mm)'],\n",
       "      dtype='object')"
      ]
     },
     "execution_count": 9,
     "metadata": {},
     "output_type": "execute_result"
    }
   ],
   "source": [
    "df.columns"
   ]
  },
  {
   "cell_type": "code",
   "execution_count": 10,
   "metadata": {
    "executionInfo": {
     "elapsed": 3,
     "status": "ok",
     "timestamp": 1697074683743,
     "user": {
      "displayName": "Velocity Data Science",
      "userId": "12853793230690412689"
     },
     "user_tz": -330
    },
    "id": "ZtsHmZCqcxq9"
   },
   "outputs": [],
   "source": [
    "x = df.drop(['Sl._No', 'Patient_File_No.', 'PCOS_(Y/N)'],axis = 1)\n",
    "y = df[\"PCOS_(Y/N)\"]\n",
    "\n"
   ]
  },
  {
   "cell_type": "code",
   "execution_count": 11,
   "metadata": {
    "executionInfo": {
     "elapsed": 5,
     "status": "ok",
     "timestamp": 1697074686453,
     "user": {
      "displayName": "Velocity Data Science",
      "userId": "12853793230690412689"
     },
     "user_tz": -330
    },
    "id": "ZlW719EWcxuK"
   },
   "outputs": [],
   "source": [
    "x_train, x_test, y_train, y_test = train_test_split(x,\n",
    "                                                 y,\n",
    "                                                 random_state = 42,\n",
    "                                                 test_size = 0.2,\n",
    "                                                 stratify = y)"
   ]
  },
  {
   "cell_type": "code",
   "execution_count": 11,
   "metadata": {
    "executionInfo": {
     "elapsed": 5,
     "status": "ok",
     "timestamp": 1697074686454,
     "user": {
      "displayName": "Velocity Data Science",
      "userId": "12853793230690412689"
     },
     "user_tz": -330
    },
    "id": "aDXQy7HAfIbl"
   },
   "outputs": [],
   "source": []
  },
  {
   "cell_type": "code",
   "execution_count": 12,
   "metadata": {
    "colab": {
     "base_uri": "https://localhost:8080/",
     "height": 74
    },
    "executionInfo": {
     "elapsed": 21,
     "status": "ok",
     "timestamp": 1697074689082,
     "user": {
      "displayName": "Velocity Data Science",
      "userId": "12853793230690412689"
     },
     "user_tz": -330
    },
    "id": "uQf-b64Icxxl",
    "outputId": "06b311d1-a32e-497e-8ac9-3dcb9975128b"
   },
   "outputs": [
    {
     "data": {
      "text/html": [
       "<style>#sk-container-id-1 {color: black;background-color: white;}#sk-container-id-1 pre{padding: 0;}#sk-container-id-1 div.sk-toggleable {background-color: white;}#sk-container-id-1 label.sk-toggleable__label {cursor: pointer;display: block;width: 100%;margin-bottom: 0;padding: 0.3em;box-sizing: border-box;text-align: center;}#sk-container-id-1 label.sk-toggleable__label-arrow:before {content: \"▸\";float: left;margin-right: 0.25em;color: #696969;}#sk-container-id-1 label.sk-toggleable__label-arrow:hover:before {color: black;}#sk-container-id-1 div.sk-estimator:hover label.sk-toggleable__label-arrow:before {color: black;}#sk-container-id-1 div.sk-toggleable__content {max-height: 0;max-width: 0;overflow: hidden;text-align: left;background-color: #f0f8ff;}#sk-container-id-1 div.sk-toggleable__content pre {margin: 0.2em;color: black;border-radius: 0.25em;background-color: #f0f8ff;}#sk-container-id-1 input.sk-toggleable__control:checked~div.sk-toggleable__content {max-height: 200px;max-width: 100%;overflow: auto;}#sk-container-id-1 input.sk-toggleable__control:checked~label.sk-toggleable__label-arrow:before {content: \"▾\";}#sk-container-id-1 div.sk-estimator input.sk-toggleable__control:checked~label.sk-toggleable__label {background-color: #d4ebff;}#sk-container-id-1 div.sk-label input.sk-toggleable__control:checked~label.sk-toggleable__label {background-color: #d4ebff;}#sk-container-id-1 input.sk-hidden--visually {border: 0;clip: rect(1px 1px 1px 1px);clip: rect(1px, 1px, 1px, 1px);height: 1px;margin: -1px;overflow: hidden;padding: 0;position: absolute;width: 1px;}#sk-container-id-1 div.sk-estimator {font-family: monospace;background-color: #f0f8ff;border: 1px dotted black;border-radius: 0.25em;box-sizing: border-box;margin-bottom: 0.5em;}#sk-container-id-1 div.sk-estimator:hover {background-color: #d4ebff;}#sk-container-id-1 div.sk-parallel-item::after {content: \"\";width: 100%;border-bottom: 1px solid gray;flex-grow: 1;}#sk-container-id-1 div.sk-label:hover label.sk-toggleable__label {background-color: #d4ebff;}#sk-container-id-1 div.sk-serial::before {content: \"\";position: absolute;border-left: 1px solid gray;box-sizing: border-box;top: 0;bottom: 0;left: 50%;z-index: 0;}#sk-container-id-1 div.sk-serial {display: flex;flex-direction: column;align-items: center;background-color: white;padding-right: 0.2em;padding-left: 0.2em;position: relative;}#sk-container-id-1 div.sk-item {position: relative;z-index: 1;}#sk-container-id-1 div.sk-parallel {display: flex;align-items: stretch;justify-content: center;background-color: white;position: relative;}#sk-container-id-1 div.sk-item::before, #sk-container-id-1 div.sk-parallel-item::before {content: \"\";position: absolute;border-left: 1px solid gray;box-sizing: border-box;top: 0;bottom: 0;left: 50%;z-index: -1;}#sk-container-id-1 div.sk-parallel-item {display: flex;flex-direction: column;z-index: 1;position: relative;background-color: white;}#sk-container-id-1 div.sk-parallel-item:first-child::after {align-self: flex-end;width: 50%;}#sk-container-id-1 div.sk-parallel-item:last-child::after {align-self: flex-start;width: 50%;}#sk-container-id-1 div.sk-parallel-item:only-child::after {width: 0;}#sk-container-id-1 div.sk-dashed-wrapped {border: 1px dashed gray;margin: 0 0.4em 0.5em 0.4em;box-sizing: border-box;padding-bottom: 0.4em;background-color: white;}#sk-container-id-1 div.sk-label label {font-family: monospace;font-weight: bold;display: inline-block;line-height: 1.2em;}#sk-container-id-1 div.sk-label-container {text-align: center;}#sk-container-id-1 div.sk-container {/* jupyter's `normalize.less` sets `[hidden] { display: none; }` but bootstrap.min.css set `[hidden] { display: none !important; }` so we also need the `!important` here to be able to override the default hidden behavior on the sphinx rendered scikit-learn.org. See: https://github.com/scikit-learn/scikit-learn/issues/21755 */display: inline-block !important;position: relative;}#sk-container-id-1 div.sk-text-repr-fallback {display: none;}</style><div id=\"sk-container-id-1\" class=\"sk-top-container\"><div class=\"sk-text-repr-fallback\"><pre>DecisionTreeClassifier()</pre><b>In a Jupyter environment, please rerun this cell to show the HTML representation or trust the notebook. <br />On GitHub, the HTML representation is unable to render, please try loading this page with nbviewer.org.</b></div><div class=\"sk-container\" hidden><div class=\"sk-item\"><div class=\"sk-estimator sk-toggleable\"><input class=\"sk-toggleable__control sk-hidden--visually\" id=\"sk-estimator-id-1\" type=\"checkbox\" checked><label for=\"sk-estimator-id-1\" class=\"sk-toggleable__label sk-toggleable__label-arrow\">DecisionTreeClassifier</label><div class=\"sk-toggleable__content\"><pre>DecisionTreeClassifier()</pre></div></div></div></div></div>"
      ],
      "text/plain": [
       "DecisionTreeClassifier()"
      ]
     },
     "execution_count": 12,
     "metadata": {},
     "output_type": "execute_result"
    }
   ],
   "source": [
    "dt_clf = DecisionTreeClassifier()\n",
    "\n",
    "dt_clf.fit(x_train,y_train)"
   ]
  },
  {
   "cell_type": "code",
   "execution_count": 13,
   "metadata": {
    "colab": {
     "base_uri": "https://localhost:8080/"
    },
    "executionInfo": {
     "elapsed": 20,
     "status": "ok",
     "timestamp": 1697074689082,
     "user": {
      "displayName": "Velocity Data Science",
      "userId": "12853793230690412689"
     },
     "user_tz": -330
    },
    "id": "zAlB-XDtcxyo",
    "outputId": "d090ef87-66a4-4663-dcbd-21f88ef00293"
   },
   "outputs": [
    {
     "data": {
      "text/plain": [
       "1.0"
      ]
     },
     "execution_count": 13,
     "metadata": {},
     "output_type": "execute_result"
    }
   ],
   "source": [
    "dt_clf.score(x_train,y_train)"
   ]
  },
  {
   "cell_type": "code",
   "execution_count": 14,
   "metadata": {
    "colab": {
     "base_uri": "https://localhost:8080/",
     "height": 1000
    },
    "executionInfo": {
     "elapsed": 4553,
     "status": "ok",
     "timestamp": 1697074693619,
     "user": {
      "displayName": "Velocity Data Science",
      "userId": "12853793230690412689"
     },
     "user_tz": -330
    },
    "id": "BbcA03xccx13",
    "outputId": "6880f542-f1f7-492e-9ec8-634873c5c079"
   },
   "outputs": [
    {
     "data": {
      "image/png": "[encoded data removed]",
      "text/plain": [
       "<Figure size 1000x2000 with 1 Axes>"
      ]
     },
     "metadata": {},
     "output_type": "display_data"
    }
   ],
   "source": [
    "plt.figure(figsize = (10,20))\n",
    "tree = plot_tree(dt_clf,feature_names =x.columns, class_names = [\"0\",\"1\"],filled = True)\n",
    "plt.savefig(\"Decision Tree Classifier\")"
   ]
  },
  {
   "cell_type": "code",
   "execution_count": 15,
   "metadata": {
    "colab": {
     "base_uri": "https://localhost:8080/"
    },
    "executionInfo": {
     "elapsed": 34,
     "status": "ok",
     "timestamp": 1697074693619,
     "user": {
      "displayName": "Velocity Data Science",
      "userId": "12853793230690412689"
     },
     "user_tz": -330
    },
    "id": "Jj8Kkmdbcx7I",
    "outputId": "be52f2b5-3dc1-4377-8503-424472317bad"
   },
   "outputs": [
    {
     "data": {
      "text/plain": [
       "array([0.0274755 , 0.00821392, 0.01682707, 0.00316214, 0.        ,\n",
       "       0.        , 0.        , 0.        , 0.01386781, 0.01597042,\n",
       "       0.01168177, 0.        , 0.        , 0.03243093, 0.00702698,\n",
       "       0.0229974 , 0.01405397, 0.00938433, 0.04742574, 0.        ,\n",
       "       0.        , 0.00893603, 0.04323548, 0.        , 0.        ,\n",
       "       0.02529714, 0.        , 0.02127509, 0.05202358, 0.0759754 ,\n",
       "       0.        , 0.        , 0.        , 0.        , 0.        ,\n",
       "       0.        , 0.03466388, 0.4692695 , 0.        , 0.01855201,\n",
       "       0.02025393])"
      ]
     },
     "execution_count": 15,
     "metadata": {},
     "output_type": "execute_result"
    }
   ],
   "source": [
    "dt_clf.feature_importances_"
   ]
  },
  {
   "cell_type": "code",
   "execution_count": 16,
   "metadata": {
    "colab": {
     "base_uri": "https://localhost:8080/",
     "height": 1000
    },
    "executionInfo": {
     "elapsed": 29,
     "status": "ok",
     "timestamp": 1697074693619,
     "user": {
      "displayName": "Velocity Data Science",
      "userId": "12853793230690412689"
     },
     "user_tz": -330
    },
    "id": "8m0agd8Dcx71",
    "outputId": "4aad3d13-deff-48db-f576-bdfc178ee2bd"
   },
   "outputs": [
    {
     "data": {
      "text/plain": [
       "<Axes: >"
      ]
     },
     "execution_count": 16,
     "metadata": {},
     "output_type": "execute_result"
    },
    {
     "data": {
      "image/png": "[encoded data removed]",
      "text/plain": [
       "<Figure size 1500x1500 with 1 Axes>"
      ]
     },
     "metadata": {},
     "output_type": "display_data"
    }
   ],
   "source": [
    "plt.figure(figsize=(15,15))\n",
    "s1 = pd.Series(dt_clf.feature_importances_,index = x.columns)\n",
    "s1.sort_values().plot(kind = \"barh\")"
   ]
  },
  {
   "cell_type": "code",
   "execution_count": 17,
   "metadata": {
    "colab": {
     "base_uri": "https://localhost:8080/"
    },
    "executionInfo": {
     "elapsed": 23,
     "status": "ok",
     "timestamp": 1697074693620,
     "user": {
      "displayName": "Velocity Data Science",
      "userId": "12853793230690412689"
     },
     "user_tz": -330
    },
    "id": "bN9Vg3_ocx9t",
    "outputId": "4a5124e3-02ff-4b62-8a03-9380bd3c44f1"
   },
   "outputs": [
    {
     "data": {
      "text/plain": [
       "Index(['Sl._No', 'Patient_File_No.', 'PCOS_(Y/N)', 'Age_(yrs)', 'Weight_(Kg)',\n",
       "       'Height(Cm)', 'BMI', 'Blood_Group', 'Pulse_rate(bpm)',\n",
       "       'RR_(breaths/min)', 'Hb(g/dl)', 'Cycle(R/I)', 'Cycle_length(days)',\n",
       "       'Marraige_Status_(Yrs)', 'Pregnant(Y/N)', 'No._of_aborptions',\n",
       "       'I___beta-HCG(mIU/mL)', 'II____beta-HCG(mIU/mL)', 'FSH(mIU/mL)',\n",
       "       'LH(mIU/mL)', 'FSH/LH', 'Hip(inch)', 'Waist(inch)', 'Waist:Hip_Ratio',\n",
       "       'TSH_(mIU/L)', 'AMH(ng/mL)', 'PRL(ng/mL)', 'Vit_D3_(ng/mL)',\n",
       "       'PRG(ng/mL)', 'RBS(mg/dl)', 'Weight_gain(Y/N)', 'hair_growth(Y/N)',\n",
       "       'Skin_darkening_(Y/N)', 'Hair_loss(Y/N)', 'Pimples(Y/N)',\n",
       "       'Fast_food_(Y/N)', 'Reg.Exercise(Y/N)', 'BP__Systolic_(mmHg)',\n",
       "       'BP__Diastolic_(mmHg)', 'Follicle_No._(L)', 'Follicle_No._(R)',\n",
       "       'Avg._F_size_(L)_(mm)', 'Avg._F_size_(R)_(mm)', 'Endometrium_(mm)'],\n",
       "      dtype='object')"
      ]
     },
     "execution_count": 17,
     "metadata": {},
     "output_type": "execute_result"
    }
   ],
   "source": [
    "df.columns"
   ]
  },
  {
   "cell_type": "code",
   "execution_count": 18,
   "metadata": {
    "executionInfo": {
     "elapsed": 27,
     "status": "ok",
     "timestamp": 1697074696108,
     "user": {
      "displayName": "Velocity Data Science",
      "userId": "12853793230690412689"
     },
     "user_tz": -330
    },
    "id": "WaSca0EOcyAz"
   },
   "outputs": [],
   "source": [
    "x = df[[\"hair_growth(Y/N)\",'Follicle_No._(R)','BMI','Avg._F_size_(R)_(mm)','PRL(ng/mL)','Fast_food_(Y/N)','Weight_gain(Y/N)','I___beta-HCG(mIU/mL)','Pulse_rate(bpm)']]"
   ]
  },
  {
   "cell_type": "code",
   "execution_count": 19,
   "metadata": {
    "colab": {
     "base_uri": "https://localhost:8080/",
     "height": 423
    },
    "executionInfo": {
     "elapsed": 26,
     "status": "ok",
     "timestamp": 1697074696108,
     "user": {
      "displayName": "Velocity Data Science",
      "userId": "12853793230690412689"
     },
     "user_tz": -330
    },
    "id": "o5B1bpdvcyDM",
    "outputId": "f20f240f-b9cd-4829-e1bb-07da99ff64d7"
   },
   "outputs": [
    {
     "data": {
      "text/html": [
       "\n",
       "  <div id=\"df-b870a639-d533-4c85-8037-34c1699cbed7\" class=\"colab-df-container\">\n",
       "    <div>\n",
       "<style scoped>\n",
       "    .dataframe tbody tr th:only-of-type {\n",
       "        vertical-align: middle;\n",
       "    }\n",
       "\n",
       "    .dataframe tbody tr th {\n",
       "        vertical-align: top;\n",
       "    }\n",
       "\n",
       "    .dataframe thead th {\n",
       "        text-align: right;\n",
       "    }\n",
       "</style>\n",
       "<table border=\"1\" class=\"dataframe\">\n",
       "  <thead>\n",
       "    <tr style=\"text-align: right;\">\n",
       "      <th></th>\n",
       "      <th>hair_growth(Y/N)</th>\n",
       "      <th>Follicle_No._(R)</th>\n",
       "      <th>BMI</th>\n",
       "      <th>Avg._F_size_(R)_(mm)</th>\n",
       "      <th>PRL(ng/mL)</th>\n",
       "      <th>Fast_food_(Y/N)</th>\n",
       "      <th>Weight_gain(Y/N)</th>\n",
       "      <th>I___beta-HCG(mIU/mL)</th>\n",
       "      <th>Pulse_rate(bpm)</th>\n",
       "    </tr>\n",
       "  </thead>\n",
       "  <tbody>\n",
       "    <tr>\n",
       "      <th>0</th>\n",
       "      <td>0</td>\n",
       "      <td>3</td>\n",
       "      <td>19.300000</td>\n",
       "      <td>18.0</td>\n",
       "      <td>45.16</td>\n",
       "      <td>1.0</td>\n",
       "      <td>0</td>\n",
       "      <td>1.99</td>\n",
       "      <td>78</td>\n",
       "    </tr>\n",
       "    <tr>\n",
       "      <th>1</th>\n",
       "      <td>0</td>\n",
       "      <td>5</td>\n",
       "      <td>24.921163</td>\n",
       "      <td>14.0</td>\n",
       "      <td>20.09</td>\n",
       "      <td>0.0</td>\n",
       "      <td>0</td>\n",
       "      <td>60.80</td>\n",
       "      <td>74</td>\n",
       "    </tr>\n",
       "    <tr>\n",
       "      <th>2</th>\n",
       "      <td>0</td>\n",
       "      <td>15</td>\n",
       "      <td>25.270891</td>\n",
       "      <td>20.0</td>\n",
       "      <td>10.52</td>\n",
       "      <td>1.0</td>\n",
       "      <td>0</td>\n",
       "      <td>494.08</td>\n",
       "      <td>72</td>\n",
       "    </tr>\n",
       "    <tr>\n",
       "      <th>3</th>\n",
       "      <td>0</td>\n",
       "      <td>2</td>\n",
       "      <td>29.674945</td>\n",
       "      <td>14.0</td>\n",
       "      <td>36.90</td>\n",
       "      <td>0.0</td>\n",
       "      <td>0</td>\n",
       "      <td>1.99</td>\n",
       "      <td>72</td>\n",
       "    </tr>\n",
       "    <tr>\n",
       "      <th>4</th>\n",
       "      <td>0</td>\n",
       "      <td>4</td>\n",
       "      <td>20.060954</td>\n",
       "      <td>14.0</td>\n",
       "      <td>30.09</td>\n",
       "      <td>0.0</td>\n",
       "      <td>0</td>\n",
       "      <td>801.45</td>\n",
       "      <td>72</td>\n",
       "    </tr>\n",
       "    <tr>\n",
       "      <th>...</th>\n",
       "      <td>...</td>\n",
       "      <td>...</td>\n",
       "      <td>...</td>\n",
       "      <td>...</td>\n",
       "      <td>...</td>\n",
       "      <td>...</td>\n",
       "      <td>...</td>\n",
       "      <td>...</td>\n",
       "      <td>...</td>\n",
       "    </tr>\n",
       "    <tr>\n",
       "      <th>536</th>\n",
       "      <td>0</td>\n",
       "      <td>0</td>\n",
       "      <td>18.500000</td>\n",
       "      <td>10.0</td>\n",
       "      <td>5.30</td>\n",
       "      <td>0.0</td>\n",
       "      <td>0</td>\n",
       "      <td>1.99</td>\n",
       "      <td>72</td>\n",
       "    </tr>\n",
       "    <tr>\n",
       "      <th>537</th>\n",
       "      <td>0</td>\n",
       "      <td>7</td>\n",
       "      <td>25.300000</td>\n",
       "      <td>18.0</td>\n",
       "      <td>21.09</td>\n",
       "      <td>0.0</td>\n",
       "      <td>1</td>\n",
       "      <td>80.13</td>\n",
       "      <td>72</td>\n",
       "    </tr>\n",
       "    <tr>\n",
       "      <th>538</th>\n",
       "      <td>0</td>\n",
       "      <td>0</td>\n",
       "      <td>23.400000</td>\n",
       "      <td>9.0</td>\n",
       "      <td>96.41</td>\n",
       "      <td>0.0</td>\n",
       "      <td>0</td>\n",
       "      <td>1.99</td>\n",
       "      <td>74</td>\n",
       "    </tr>\n",
       "    <tr>\n",
       "      <th>539</th>\n",
       "      <td>0</td>\n",
       "      <td>6</td>\n",
       "      <td>22.200000</td>\n",
       "      <td>16.0</td>\n",
       "      <td>38.89</td>\n",
       "      <td>0.0</td>\n",
       "      <td>0</td>\n",
       "      <td>292.92</td>\n",
       "      <td>74</td>\n",
       "    </tr>\n",
       "    <tr>\n",
       "      <th>540</th>\n",
       "      <td>1</td>\n",
       "      <td>10</td>\n",
       "      <td>30.100000</td>\n",
       "      <td>18.0</td>\n",
       "      <td>20.74</td>\n",
       "      <td>1.0</td>\n",
       "      <td>1</td>\n",
       "      <td>1.99</td>\n",
       "      <td>80</td>\n",
       "    </tr>\n",
       "  </tbody>\n",
       "</table>\n",
       "<p>539 rows × 9 columns</p>\n",
       "</div>\n",
       "    <div class=\"colab-df-buttons\">\n",
       "\n",
       "  <div class=\"colab-df-container\">\n",
       "    <button class=\"colab-df-convert\" onclick=\"convertToInteractive('df-b870a639-d533-4c85-8037-34c1699cbed7')\"\n",
       "            title=\"Convert this dataframe to an interactive table.\"\n",
       "            style=\"display:none;\">\n",
       "\n",
       "  <svg xmlns=\"http://www.w3.org/2000/svg\" height=\"24px\" viewBox=\"0 -960 960 960\">\n",
       "    <path d=\"M120-120v-720h720v720H120Zm60-500h600v-160H180v160Zm220 220h160v-160H400v160Zm0 220h160v-160H400v160ZM180-400h160v-160H180v160Zm440 0h160v-160H620v160ZM180-180h160v-160H180v160Zm440 0h160v-160H620v160Z\"/>\n",
       "  </svg>\n",
       "    </button>\n",
       "\n",
       "  <style>\n",
       "    .colab-df-container {\n",
       "      display:flex;\n",
       "      gap: 12px;\n",
       "    }\n",
       "\n",
       "    .colab-df-convert {\n",
       "      background-color: #E8F0FE;\n",
       "      border: none;\n",
       "      border-radius: 50%;\n",
       "      cursor: pointer;\n",
       "      display: none;\n",
       "      fill: #1967D2;\n",
       "      height: 32px;\n",
       "      padding: 0 0 0 0;\n",
       "      width: 32px;\n",
       "    }\n",
       "\n",
       "    .colab-df-convert:hover {\n",
       "      background-color: #E2EBFA;\n",
       "      box-shadow: 0px 1px 2px rgba(60, 64, 67, 0.3), 0px 1px 3px 1px rgba(60, 64, 67, 0.15);\n",
       "      fill: #174EA6;\n",
       "    }\n",
       "\n",
       "    .colab-df-buttons div {\n",
       "      margin-bottom: 4px;\n",
       "    }\n",
       "\n",
       "    [theme=dark] .colab-df-convert {\n",
       "      background-color: #3B4455;\n",
       "      fill: #D2E3FC;\n",
       "    }\n",
       "\n",
       "    [theme=dark] .colab-df-convert:hover {\n",
       "      background-color: #434B5C;\n",
       "      box-shadow: 0px 1px 3px 1px rgba(0, 0, 0, 0.15);\n",
       "      filter: drop-shadow(0px 1px 2px rgba(0, 0, 0, 0.3));\n",
       "      fill: #FFFFFF;\n",
       "    }\n",
       "  </style>\n",
       "\n",
       "    <script>\n",
       "      const buttonEl =\n",
       "        document.querySelector('#df-b870a639-d533-4c85-8037-34c1699cbed7 button.colab-df-convert');\n",
       "      buttonEl.style.display =\n",
       "        google.colab.kernel.accessAllowed ? 'block' : 'none';\n",
       "\n",
       "      async function convertToInteractive(key) {\n",
       "        const element = document.querySelector('#df-b870a639-d533-4c85-8037-34c1699cbed7');\n",
       "        const dataTable =\n",
       "          await google.colab.kernel.invokeFunction('convertToInteractive',\n",
       "                                                    [key], {});\n",
       "        if (!dataTable) return;\n",
       "\n",
       "        const docLinkHtml = 'Like what you see? Visit the ' +\n",
       "          '<a target=\"_blank\" href=https://colab.research.google.com/notebooks/data_table.ipynb>data table notebook</a>'\n",
       "          + ' to learn more about interactive tables.';\n",
       "        element.innerHTML = '';\n",
       "        dataTable['output_type'] = 'display_data';\n",
       "        await google.colab.output.renderOutput(dataTable, element);\n",
       "        const docLink = document.createElement('div');\n",
       "        docLink.innerHTML = docLinkHtml;\n",
       "        element.appendChild(docLink);\n",
       "      }\n",
       "    </script>\n",
       "  </div>\n",
       "\n",
       "\n",
       "<div id=\"df-d08b566c-8da3-49f4-a43c-d1b05fe08776\">\n",
       "  <button class=\"colab-df-quickchart\" onclick=\"quickchart('df-d08b566c-8da3-49f4-a43c-d1b05fe08776')\"\n",
       "            title=\"Suggest charts.\"\n",
       "            style=\"display:none;\">\n",
       "\n",
       "<svg xmlns=\"http://www.w3.org/2000/svg\" height=\"24px\"viewBox=\"0 0 24 24\"\n",
       "     width=\"24px\">\n",
       "    <g>\n",
       "        <path d=\"M19 3H5c-1.1 0-2 .9-2 2v14c0 1.1.9 2 2 2h14c1.1 0 2-.9 2-2V5c0-1.1-.9-2-2-2zM9 17H7v-7h2v7zm4 0h-2V7h2v10zm4 0h-2v-4h2v4z\"/>\n",
       "    </g>\n",
       "</svg>\n",
       "  </button>\n",
       "\n",
       "<style>\n",
       "  .colab-df-quickchart {\n",
       "      --bg-color: #E8F0FE;\n",
       "      --fill-color: #1967D2;\n",
       "      --hover-bg-color: #E2EBFA;\n",
       "      --hover-fill-color: #174EA6;\n",
       "      --disabled-fill-color: #AAA;\n",
       "      --disabled-bg-color: #DDD;\n",
       "  }\n",
       "\n",
       "  [theme=dark] .colab-df-quickchart {\n",
       "      --bg-color: #3B4455;\n",
       "      --fill-color: #D2E3FC;\n",
       "      --hover-bg-color: #434B5C;\n",
       "      --hover-fill-color: #FFFFFF;\n",
       "      --disabled-bg-color: #3B4455;\n",
       "      --disabled-fill-color: #666;\n",
       "  }\n",
       "\n",
       "  .colab-df-quickchart {\n",
       "    background-color: var(--bg-color);\n",
       "    border: none;\n",
       "    border-radius: 50%;\n",
       "    cursor: pointer;\n",
       "    display: none;\n",
       "    fill: var(--fill-color);\n",
       "    height: 32px;\n",
       "    padding: 0;\n",
       "    width: 32px;\n",
       "  }\n",
       "\n",
       "  .colab-df-quickchart:hover {\n",
       "    background-color: var(--hover-bg-color);\n",
       "    box-shadow: 0 1px 2px rgba(60, 64, 67, 0.3), 0 1px 3px 1px rgba(60, 64, 67, 0.15);\n",
       "    fill: var(--button-hover-fill-color);\n",
       "  }\n",
       "\n",
       "  .colab-df-quickchart-complete:disabled,\n",
       "  .colab-df-quickchart-complete:disabled:hover {\n",
       "    background-color: var(--disabled-bg-color);\n",
       "    fill: var(--disabled-fill-color);\n",
       "    box-shadow: none;\n",
       "  }\n",
       "\n",
       "  .colab-df-spinner {\n",
       "    border: 2px solid var(--fill-color);\n",
       "    border-color: transparent;\n",
       "    border-bottom-color: var(--fill-color);\n",
       "    animation:\n",
       "      spin 1s steps(1) infinite;\n",
       "  }\n",
       "\n",
       "  @keyframes spin {\n",
       "    0% {\n",
       "      border-color: transparent;\n",
       "      border-bottom-color: var(--fill-color);\n",
       "      border-left-color: var(--fill-color);\n",
       "    }\n",
       "    20% {\n",
       "      border-color: transparent;\n",
       "      border-left-color: var(--fill-color);\n",
       "      border-top-color: var(--fill-color);\n",
       "    }\n",
       "    30% {\n",
       "      border-color: transparent;\n",
       "      border-left-color: var(--fill-color);\n",
       "      border-top-color: var(--fill-color);\n",
       "      border-right-color: var(--fill-color);\n",
       "    }\n",
       "    40% {\n",
       "      border-color: transparent;\n",
       "      border-right-color: var(--fill-color);\n",
       "      border-top-color: var(--fill-color);\n",
       "    }\n",
       "    60% {\n",
       "      border-color: transparent;\n",
       "      border-right-color: var(--fill-color);\n",
       "    }\n",
       "    80% {\n",
       "      border-color: transparent;\n",
       "      border-right-color: var(--fill-color);\n",
       "      border-bottom-color: var(--fill-color);\n",
       "    }\n",
       "    90% {\n",
       "      border-color: transparent;\n",
       "      border-bottom-color: var(--fill-color);\n",
       "    }\n",
       "  }\n",
       "</style>\n",
       "\n",
       "  <script>\n",
       "    async function quickchart(key) {\n",
       "      const quickchartButtonEl =\n",
       "        document.querySelector('#' + key + ' button');\n",
       "      quickchartButtonEl.disabled = true;  // To prevent multiple clicks.\n",
       "      quickchartButtonEl.classList.add('colab-df-spinner');\n",
       "      try {\n",
       "        const charts = await google.colab.kernel.invokeFunction(\n",
       "            'suggestCharts', [key], {});\n",
       "      } catch (error) {\n",
       "        console.error('Error during call to suggestCharts:', error);\n",
       "      }\n",
       "      quickchartButtonEl.classList.remove('colab-df-spinner');\n",
       "      quickchartButtonEl.classList.add('colab-df-quickchart-complete');\n",
       "    }\n",
       "    (() => {\n",
       "      let quickchartButtonEl =\n",
       "        document.querySelector('#df-d08b566c-8da3-49f4-a43c-d1b05fe08776 button');\n",
       "      quickchartButtonEl.style.display =\n",
       "        google.colab.kernel.accessAllowed ? 'block' : 'none';\n",
       "    })();\n",
       "  </script>\n",
       "</div>\n",
       "    </div>\n",
       "  </div>\n"
      ],
      "text/plain": [
       "     hair_growth(Y/N)  Follicle_No._(R)        BMI  Avg._F_size_(R)_(mm)  \\\n",
       "0                   0                 3  19.300000                  18.0   \n",
       "1                   0                 5  24.921163                  14.0   \n",
       "2                   0                15  25.270891                  20.0   \n",
       "3                   0                 2  29.674945                  14.0   \n",
       "4                   0                 4  20.060954                  14.0   \n",
       "..                ...               ...        ...                   ...   \n",
       "536                 0                 0  18.500000                  10.0   \n",
       "537                 0                 7  25.300000                  18.0   \n",
       "538                 0                 0  23.400000                   9.0   \n",
       "539                 0                 6  22.200000                  16.0   \n",
       "540                 1                10  30.100000                  18.0   \n",
       "\n",
       "     PRL(ng/mL)  Fast_food_(Y/N)  Weight_gain(Y/N)  I___beta-HCG(mIU/mL)  \\\n",
       "0         45.16              1.0                 0                  1.99   \n",
       "1         20.09              0.0                 0                 60.80   \n",
       "2         10.52              1.0                 0                494.08   \n",
       "3         36.90              0.0                 0                  1.99   \n",
       "4         30.09              0.0                 0                801.45   \n",
       "..          ...              ...               ...                   ...   \n",
       "536        5.30              0.0                 0                  1.99   \n",
       "537       21.09              0.0                 1                 80.13   \n",
       "538       96.41              0.0                 0                  1.99   \n",
       "539       38.89              0.0                 0                292.92   \n",
       "540       20.74              1.0                 1                  1.99   \n",
       "\n",
       "     Pulse_rate(bpm)  \n",
       "0                 78  \n",
       "1                 74  \n",
       "2                 72  \n",
       "3                 72  \n",
       "4                 72  \n",
       "..               ...  \n",
       "536               72  \n",
       "537               72  \n",
       "538               74  \n",
       "539               74  \n",
       "540               80  \n",
       "\n",
       "[539 rows x 9 columns]"
      ]
     },
     "execution_count": 19,
     "metadata": {},
     "output_type": "execute_result"
    }
   ],
   "source": [
    "x"
   ]
  },
  {
   "cell_type": "code",
   "execution_count": 20,
   "metadata": {
    "executionInfo": {
     "elapsed": 23,
     "status": "ok",
     "timestamp": 1697074696108,
     "user": {
      "displayName": "Velocity Data Science",
      "userId": "12853793230690412689"
     },
     "user_tz": -330
    },
    "id": "Nde-ILupcyE1"
   },
   "outputs": [],
   "source": [
    "# splitting the data set in train test split\n",
    "\n",
    "x_train,x_test,y_train,y_test = train_test_split(\n",
    "                                                x,\n",
    "                                                y,\n",
    "                                                train_size = 0.8,\n",
    "                                                random_state = 42\n",
    ")"
   ]
  },
  {
   "cell_type": "code",
   "execution_count": 21,
   "metadata": {
    "colab": {
     "base_uri": "https://localhost:8080/"
    },
    "executionInfo": {
     "elapsed": 23,
     "status": "ok",
     "timestamp": 1697074696108,
     "user": {
      "displayName": "Velocity Data Science",
      "userId": "12853793230690412689"
     },
     "user_tz": -330
    },
    "id": "ZARuyOC4ZUtY",
    "outputId": "016fd300-c7fc-4154-cbfd-87b525b86140"
   },
   "outputs": [
    {
     "data": {
      "text/plain": [
       "((431, 9), (431,), (108, 9))"
      ]
     },
     "execution_count": 21,
     "metadata": {},
     "output_type": "execute_result"
    }
   ],
   "source": [
    "x_train.shape,y_train.shape,x_test.shape"
   ]
  },
  {
   "cell_type": "code",
   "execution_count": 22,
   "metadata": {
    "executionInfo": {
     "elapsed": 20,
     "status": "ok",
     "timestamp": 1697074696109,
     "user": {
      "displayName": "Velocity Data Science",
      "userId": "12853793230690412689"
     },
     "user_tz": -330
    },
    "id": "QunXHQNeZUwL"
   },
   "outputs": [],
   "source": [
    "###scaling the data in order to avoid domination of larger values to smaller values\n",
    "\n",
    "scaler = StandardScaler()\n",
    "\n",
    "x_train_scaled = pd.DataFrame(scaler.fit_transform(x_train),columns = x_train.columns)\n",
    "\n",
    "x_test_scaled = pd.DataFrame(scaler.transform(x_test),columns = x_test.columns)"
   ]
  },
  {
   "cell_type": "code",
   "execution_count": 23,
   "metadata": {
    "colab": {
     "base_uri": "https://localhost:8080/",
     "height": 423
    },
    "executionInfo": {
     "elapsed": 20,
     "status": "ok",
     "timestamp": 1697074696109,
     "user": {
      "displayName": "Velocity Data Science",
      "userId": "12853793230690412689"
     },
     "user_tz": -330
    },
    "id": "R0KhB9asZUzJ",
    "outputId": "3e950173-c5ae-437b-d482-18b7b60d4ccd"
   },
   "outputs": [
    {
     "data": {
      "text/html": [
       "\n",
       "  <div id=\"df-fe327a46-d574-4532-9098-e62adfc87fcd\" class=\"colab-df-container\">\n",
       "    <div>\n",
       "<style scoped>\n",
       "    .dataframe tbody tr th:only-of-type {\n",
       "        vertical-align: middle;\n",
       "    }\n",
       "\n",
       "    .dataframe tbody tr th {\n",
       "        vertical-align: top;\n",
       "    }\n",
       "\n",
       "    .dataframe thead th {\n",
       "        text-align: right;\n",
       "    }\n",
       "</style>\n",
       "<table border=\"1\" class=\"dataframe\">\n",
       "  <thead>\n",
       "    <tr style=\"text-align: right;\">\n",
       "      <th></th>\n",
       "      <th>hair_growth(Y/N)</th>\n",
       "      <th>Follicle_No._(R)</th>\n",
       "      <th>BMI</th>\n",
       "      <th>Avg._F_size_(R)_(mm)</th>\n",
       "      <th>PRL(ng/mL)</th>\n",
       "      <th>Fast_food_(Y/N)</th>\n",
       "      <th>Weight_gain(Y/N)</th>\n",
       "      <th>I___beta-HCG(mIU/mL)</th>\n",
       "      <th>Pulse_rate(bpm)</th>\n",
       "    </tr>\n",
       "  </thead>\n",
       "  <tbody>\n",
       "    <tr>\n",
       "      <th>0</th>\n",
       "      <td>1.564609</td>\n",
       "      <td>-1.292151</td>\n",
       "      <td>-1.637161</td>\n",
       "      <td>0.745347</td>\n",
       "      <td>-0.105331</td>\n",
       "      <td>0.934833</td>\n",
       "      <td>-0.810982</td>\n",
       "      <td>-0.167261</td>\n",
       "      <td>1.223849</td>\n",
       "    </tr>\n",
       "    <tr>\n",
       "      <th>1</th>\n",
       "      <td>1.564609</td>\n",
       "      <td>1.629529</td>\n",
       "      <td>-0.816954</td>\n",
       "      <td>0.745347</td>\n",
       "      <td>0.324959</td>\n",
       "      <td>0.934833</td>\n",
       "      <td>-0.810982</td>\n",
       "      <td>-0.086944</td>\n",
       "      <td>-0.316985</td>\n",
       "    </tr>\n",
       "    <tr>\n",
       "      <th>2</th>\n",
       "      <td>-0.639137</td>\n",
       "      <td>0.955295</td>\n",
       "      <td>0.048612</td>\n",
       "      <td>1.056893</td>\n",
       "      <td>0.505625</td>\n",
       "      <td>0.934833</td>\n",
       "      <td>-0.810982</td>\n",
       "      <td>7.850584</td>\n",
       "      <td>-0.316985</td>\n",
       "    </tr>\n",
       "    <tr>\n",
       "      <th>3</th>\n",
       "      <td>1.564609</td>\n",
       "      <td>2.079018</td>\n",
       "      <td>0.073043</td>\n",
       "      <td>-0.500837</td>\n",
       "      <td>0.101539</td>\n",
       "      <td>0.934833</td>\n",
       "      <td>1.233073</td>\n",
       "      <td>-0.193954</td>\n",
       "      <td>1.737461</td>\n",
       "    </tr>\n",
       "    <tr>\n",
       "      <th>4</th>\n",
       "      <td>-0.639137</td>\n",
       "      <td>0.281061</td>\n",
       "      <td>0.146337</td>\n",
       "      <td>0.433801</td>\n",
       "      <td>0.626989</td>\n",
       "      <td>0.934833</td>\n",
       "      <td>-0.810982</td>\n",
       "      <td>-0.129350</td>\n",
       "      <td>-0.316985</td>\n",
       "    </tr>\n",
       "    <tr>\n",
       "      <th>...</th>\n",
       "      <td>...</td>\n",
       "      <td>...</td>\n",
       "      <td>...</td>\n",
       "      <td>...</td>\n",
       "      <td>...</td>\n",
       "      <td>...</td>\n",
       "      <td>...</td>\n",
       "      <td>...</td>\n",
       "      <td>...</td>\n",
       "    </tr>\n",
       "    <tr>\n",
       "      <th>426</th>\n",
       "      <td>-0.639137</td>\n",
       "      <td>-0.168428</td>\n",
       "      <td>0.599105</td>\n",
       "      <td>-2.993205</td>\n",
       "      <td>1.206226</td>\n",
       "      <td>-1.069710</td>\n",
       "      <td>-0.810982</td>\n",
       "      <td>-0.204297</td>\n",
       "      <td>0.196626</td>\n",
       "    </tr>\n",
       "    <tr>\n",
       "      <th>427</th>\n",
       "      <td>1.564609</td>\n",
       "      <td>-0.617917</td>\n",
       "      <td>-0.210973</td>\n",
       "      <td>0.122255</td>\n",
       "      <td>-1.213465</td>\n",
       "      <td>-1.069710</td>\n",
       "      <td>1.233073</td>\n",
       "      <td>-0.207791</td>\n",
       "      <td>-0.316985</td>\n",
       "    </tr>\n",
       "    <tr>\n",
       "      <th>428</th>\n",
       "      <td>-0.639137</td>\n",
       "      <td>-0.842662</td>\n",
       "      <td>-0.751789</td>\n",
       "      <td>0.745347</td>\n",
       "      <td>-0.586649</td>\n",
       "      <td>-1.069710</td>\n",
       "      <td>-0.810982</td>\n",
       "      <td>-0.164036</td>\n",
       "      <td>-0.316985</td>\n",
       "    </tr>\n",
       "    <tr>\n",
       "      <th>429</th>\n",
       "      <td>-0.639137</td>\n",
       "      <td>-0.617917</td>\n",
       "      <td>-0.733196</td>\n",
       "      <td>-0.812383</td>\n",
       "      <td>0.471837</td>\n",
       "      <td>0.934833</td>\n",
       "      <td>-0.810982</td>\n",
       "      <td>-0.151083</td>\n",
       "      <td>-0.830597</td>\n",
       "    </tr>\n",
       "    <tr>\n",
       "      <th>430</th>\n",
       "      <td>1.564609</td>\n",
       "      <td>1.180040</td>\n",
       "      <td>1.138906</td>\n",
       "      <td>-2.058567</td>\n",
       "      <td>-0.663191</td>\n",
       "      <td>0.934833</td>\n",
       "      <td>1.233073</td>\n",
       "      <td>-0.178737</td>\n",
       "      <td>1.223849</td>\n",
       "    </tr>\n",
       "  </tbody>\n",
       "</table>\n",
       "<p>431 rows × 9 columns</p>\n",
       "</div>\n",
       "    <div class=\"colab-df-buttons\">\n",
       "\n",
       "  <div class=\"colab-df-container\">\n",
       "    <button class=\"colab-df-convert\" onclick=\"convertToInteractive('df-fe327a46-d574-4532-9098-e62adfc87fcd')\"\n",
       "            title=\"Convert this dataframe to an interactive table.\"\n",
       "            style=\"display:none;\">\n",
       "\n",
       "  <svg xmlns=\"http://www.w3.org/2000/svg\" height=\"24px\" viewBox=\"0 -960 960 960\">\n",
       "    <path d=\"M120-120v-720h720v720H120Zm60-500h600v-160H180v160Zm220 220h160v-160H400v160Zm0 220h160v-160H400v160ZM180-400h160v-160H180v160Zm440 0h160v-160H620v160ZM180-180h160v-160H180v160Zm440 0h160v-160H620v160Z\"/>\n",
       "  </svg>\n",
       "    </button>\n",
       "\n",
       "  <style>\n",
       "    .colab-df-container {\n",
       "      display:flex;\n",
       "      gap: 12px;\n",
       "    }\n",
       "\n",
       "    .colab-df-convert {\n",
       "      background-color: #E8F0FE;\n",
       "      border: none;\n",
       "      border-radius: 50%;\n",
       "      cursor: pointer;\n",
       "      display: none;\n",
       "      fill: #1967D2;\n",
       "      height: 32px;\n",
       "      padding: 0 0 0 0;\n",
       "      width: 32px;\n",
       "    }\n",
       "\n",
       "    .colab-df-convert:hover {\n",
       "      background-color: #E2EBFA;\n",
       "      box-shadow: 0px 1px 2px rgba(60, 64, 67, 0.3), 0px 1px 3px 1px rgba(60, 64, 67, 0.15);\n",
       "      fill: #174EA6;\n",
       "    }\n",
       "\n",
       "    .colab-df-buttons div {\n",
       "      margin-bottom: 4px;\n",
       "    }\n",
       "\n",
       "    [theme=dark] .colab-df-convert {\n",
       "      background-color: #3B4455;\n",
       "      fill: #D2E3FC;\n",
       "    }\n",
       "\n",
       "    [theme=dark] .colab-df-convert:hover {\n",
       "      background-color: #434B5C;\n",
       "      box-shadow: 0px 1px 3px 1px rgba(0, 0, 0, 0.15);\n",
       "      filter: drop-shadow(0px 1px 2px rgba(0, 0, 0, 0.3));\n",
       "      fill: #FFFFFF;\n",
       "    }\n",
       "  </style>\n",
       "\n",
       "    <script>\n",
       "      const buttonEl =\n",
       "        document.querySelector('#df-fe327a46-d574-4532-9098-e62adfc87fcd button.colab-df-convert');\n",
       "      buttonEl.style.display =\n",
       "        google.colab.kernel.accessAllowed ? 'block' : 'none';\n",
       "\n",
       "      async function convertToInteractive(key) {\n",
       "        const element = document.querySelector('#df-fe327a46-d574-4532-9098-e62adfc87fcd');\n",
       "        const dataTable =\n",
       "          await google.colab.kernel.invokeFunction('convertToInteractive',\n",
       "                                                    [key], {});\n",
       "        if (!dataTable) return;\n",
       "\n",
       "        const docLinkHtml = 'Like what you see? Visit the ' +\n",
       "          '<a target=\"_blank\" href=https://colab.research.google.com/notebooks/data_table.ipynb>data table notebook</a>'\n",
       "          + ' to learn more about interactive tables.';\n",
       "        element.innerHTML = '';\n",
       "        dataTable['output_type'] = 'display_data';\n",
       "        await google.colab.output.renderOutput(dataTable, element);\n",
       "        const docLink = document.createElement('div');\n",
       "        docLink.innerHTML = docLinkHtml;\n",
       "        element.appendChild(docLink);\n",
       "      }\n",
       "    </script>\n",
       "  </div>\n",
       "\n",
       "\n",
       "<div id=\"df-c59d9623-7872-491d-b2d0-45899c0ce3e6\">\n",
       "  <button class=\"colab-df-quickchart\" onclick=\"quickchart('df-c59d9623-7872-491d-b2d0-45899c0ce3e6')\"\n",
       "            title=\"Suggest charts.\"\n",
       "            style=\"display:none;\">\n",
       "\n",
       "<svg xmlns=\"http://www.w3.org/2000/svg\" height=\"24px\"viewBox=\"0 0 24 24\"\n",
       "     width=\"24px\">\n",
       "    <g>\n",
       "        <path d=\"M19 3H5c-1.1 0-2 .9-2 2v14c0 1.1.9 2 2 2h14c1.1 0 2-.9 2-2V5c0-1.1-.9-2-2-2zM9 17H7v-7h2v7zm4 0h-2V7h2v10zm4 0h-2v-4h2v4z\"/>\n",
       "    </g>\n",
       "</svg>\n",
       "  </button>\n",
       "\n",
       "<style>\n",
       "  .colab-df-quickchart {\n",
       "      --bg-color: #E8F0FE;\n",
       "      --fill-color: #1967D2;\n",
       "      --hover-bg-color: #E2EBFA;\n",
       "      --hover-fill-color: #174EA6;\n",
       "      --disabled-fill-color: #AAA;\n",
       "      --disabled-bg-color: #DDD;\n",
       "  }\n",
       "\n",
       "  [theme=dark] .colab-df-quickchart {\n",
       "      --bg-color: #3B4455;\n",
       "      --fill-color: #D2E3FC;\n",
       "      --hover-bg-color: #434B5C;\n",
       "      --hover-fill-color: #FFFFFF;\n",
       "      --disabled-bg-color: #3B4455;\n",
       "      --disabled-fill-color: #666;\n",
       "  }\n",
       "\n",
       "  .colab-df-quickchart {\n",
       "    background-color: var(--bg-color);\n",
       "    border: none;\n",
       "    border-radius: 50%;\n",
       "    cursor: pointer;\n",
       "    display: none;\n",
       "    fill: var(--fill-color);\n",
       "    height: 32px;\n",
       "    padding: 0;\n",
       "    width: 32px;\n",
       "  }\n",
       "\n",
       "  .colab-df-quickchart:hover {\n",
       "    background-color: var(--hover-bg-color);\n",
       "    box-shadow: 0 1px 2px rgba(60, 64, 67, 0.3), 0 1px 3px 1px rgba(60, 64, 67, 0.15);\n",
       "    fill: var(--button-hover-fill-color);\n",
       "  }\n",
       "\n",
       "  .colab-df-quickchart-complete:disabled,\n",
       "  .colab-df-quickchart-complete:disabled:hover {\n",
       "    background-color: var(--disabled-bg-color);\n",
       "    fill: var(--disabled-fill-color);\n",
       "    box-shadow: none;\n",
       "  }\n",
       "\n",
       "  .colab-df-spinner {\n",
       "    border: 2px solid var(--fill-color);\n",
       "    border-color: transparent;\n",
       "    border-bottom-color: var(--fill-color);\n",
       "    animation:\n",
       "      spin 1s steps(1) infinite;\n",
       "  }\n",
       "\n",
       "  @keyframes spin {\n",
       "    0% {\n",
       "      border-color: transparent;\n",
       "      border-bottom-color: var(--fill-color);\n",
       "      border-left-color: var(--fill-color);\n",
       "    }\n",
       "    20% {\n",
       "      border-color: transparent;\n",
       "      border-left-color: var(--fill-color);\n",
       "      border-top-color: var(--fill-color);\n",
       "    }\n",
       "    30% {\n",
       "      border-color: transparent;\n",
       "      border-left-color: var(--fill-color);\n",
       "      border-top-color: var(--fill-color);\n",
       "      border-right-color: var(--fill-color);\n",
       "    }\n",
       "    40% {\n",
       "      border-color: transparent;\n",
       "      border-right-color: var(--fill-color);\n",
       "      border-top-color: var(--fill-color);\n",
       "    }\n",
       "    60% {\n",
       "      border-color: transparent;\n",
       "      border-right-color: var(--fill-color);\n",
       "    }\n",
       "    80% {\n",
       "      border-color: transparent;\n",
       "      border-right-color: var(--fill-color);\n",
       "      border-bottom-color: var(--fill-color);\n",
       "    }\n",
       "    90% {\n",
       "      border-color: transparent;\n",
       "      border-bottom-color: var(--fill-color);\n",
       "    }\n",
       "  }\n",
       "</style>\n",
       "\n",
       "  <script>\n",
       "    async function quickchart(key) {\n",
       "      const quickchartButtonEl =\n",
       "        document.querySelector('#' + key + ' button');\n",
       "      quickchartButtonEl.disabled = true;  // To prevent multiple clicks.\n",
       "      quickchartButtonEl.classList.add('colab-df-spinner');\n",
       "      try {\n",
       "        const charts = await google.colab.kernel.invokeFunction(\n",
       "            'suggestCharts', [key], {});\n",
       "      } catch (error) {\n",
       "        console.error('Error during call to suggestCharts:', error);\n",
       "      }\n",
       "      quickchartButtonEl.classList.remove('colab-df-spinner');\n",
       "      quickchartButtonEl.classList.add('colab-df-quickchart-complete');\n",
       "    }\n",
       "    (() => {\n",
       "      let quickchartButtonEl =\n",
       "        document.querySelector('#df-c59d9623-7872-491d-b2d0-45899c0ce3e6 button');\n",
       "      quickchartButtonEl.style.display =\n",
       "        google.colab.kernel.accessAllowed ? 'block' : 'none';\n",
       "    })();\n",
       "  </script>\n",
       "</div>\n",
       "    </div>\n",
       "  </div>\n"
      ],
      "text/plain": [
       "     hair_growth(Y/N)  Follicle_No._(R)       BMI  Avg._F_size_(R)_(mm)  \\\n",
       "0            1.564609         -1.292151 -1.637161              0.745347   \n",
       "1            1.564609          1.629529 -0.816954              0.745347   \n",
       "2           -0.639137          0.955295  0.048612              1.056893   \n",
       "3            1.564609          2.079018  0.073043             -0.500837   \n",
       "4           -0.639137          0.281061  0.146337              0.433801   \n",
       "..                ...               ...       ...                   ...   \n",
       "426         -0.639137         -0.168428  0.599105             -2.993205   \n",
       "427          1.564609         -0.617917 -0.210973              0.122255   \n",
       "428         -0.639137         -0.842662 -0.751789              0.745347   \n",
       "429         -0.639137         -0.617917 -0.733196             -0.812383   \n",
       "430          1.564609          1.180040  1.138906             -2.058567   \n",
       "\n",
       "     PRL(ng/mL)  Fast_food_(Y/N)  Weight_gain(Y/N)  I___beta-HCG(mIU/mL)  \\\n",
       "0     -0.105331         0.934833         -0.810982             -0.167261   \n",
       "1      0.324959         0.934833         -0.810982             -0.086944   \n",
       "2      0.505625         0.934833         -0.810982              7.850584   \n",
       "3      0.101539         0.934833          1.233073             -0.193954   \n",
       "4      0.626989         0.934833         -0.810982             -0.129350   \n",
       "..          ...              ...               ...                   ...   \n",
       "426    1.206226        -1.069710         -0.810982             -0.204297   \n",
       "427   -1.213465        -1.069710          1.233073             -0.207791   \n",
       "428   -0.586649        -1.069710         -0.810982             -0.164036   \n",
       "429    0.471837         0.934833         -0.810982             -0.151083   \n",
       "430   -0.663191         0.934833          1.233073             -0.178737   \n",
       "\n",
       "     Pulse_rate(bpm)  \n",
       "0           1.223849  \n",
       "1          -0.316985  \n",
       "2          -0.316985  \n",
       "3           1.737461  \n",
       "4          -0.316985  \n",
       "..               ...  \n",
       "426         0.196626  \n",
       "427        -0.316985  \n",
       "428        -0.316985  \n",
       "429        -0.830597  \n",
       "430         1.223849  \n",
       "\n",
       "[431 rows x 9 columns]"
      ]
     },
     "execution_count": 23,
     "metadata": {},
     "output_type": "execute_result"
    }
   ],
   "source": [
    "x_train_scaled"
   ]
  },
  {
   "cell_type": "code",
   "execution_count": 24,
   "metadata": {
    "executionInfo": {
     "elapsed": 1544,
     "status": "ok",
     "timestamp": 1697074701733,
     "user": {
      "displayName": "Velocity Data Science",
      "userId": "12853793230690412689"
     },
     "user_tz": -330
    },
    "id": "Wgch2mwpZU1-"
   },
   "outputs": [],
   "source": [
    "# Building an architecture\n",
    "\n",
    "model = tf.keras.Sequential(name = \"Main_container\")\n",
    "\n",
    "# adding input layer\n",
    "model.add(tf.keras.layers.Input(shape = [9],name= \"Input_Layer\"))\n",
    "\n",
    "# add hidden layers also\n",
    "model.add(tf.keras.layers.Dense(units = 9,activation = \"elu\",kernel_initializer= \"he_normal\",name = \"hidden_layer_1\"))\n",
    "\n",
    "model.add(tf.keras.layers.Dense(units = 8,activation = \"elu\",kernel_initializer= \"he_normal\",name = \"hidden_layer_2\"))\n",
    "\n",
    "model.add(tf.keras.layers.Dense(units = 4,activation = \"elu\",kernel_initializer= \"he_normal\",name = \"hidden_layer_3\"))\n",
    "\n",
    "# adding output layer\n",
    "model.add(tf.keras.layers.Dense(units = 1,activation = \"sigmoid\",kernel_initializer= \"glorot_normal\",name = \"Output_layer\"))"
   ]
  },
  {
   "cell_type": "code",
   "execution_count": 25,
   "metadata": {
    "executionInfo": {
     "elapsed": 12,
     "status": "ok",
     "timestamp": 1697074701734,
     "user": {
      "displayName": "Velocity Data Science",
      "userId": "12853793230690412689"
     },
     "user_tz": -330
    },
    "id": "jTABcBeOZU49"
   },
   "outputs": [],
   "source": [
    "# once the architecture is been created we add functionality to model\n",
    "\n",
    "model.compile(\n",
    "          optimizer = \"adam\",\n",
    "          loss = \"binary_crossentropy\",\n",
    "          metrics = [\"accuracy\"]\n",
    ")"
   ]
  },
  {
   "cell_type": "code",
   "execution_count": 26,
   "metadata": {
    "colab": {
     "base_uri": "https://localhost:8080/"
    },
    "executionInfo": {
     "elapsed": 17201,
     "status": "ok",
     "timestamp": 1697074718924,
     "user": {
      "displayName": "Velocity Data Science",
      "userId": "12853793230690412689"
     },
     "user_tz": -330
    },
    "id": "aK5HPki7ZVCh",
    "outputId": "ac8de082-f86d-46c1-d645-d1830521b383"
   },
   "outputs": [
    {
     "name": "stdout",
     "output_type": "stream",
     "text": [
      "Epoch 1/100\n",
      "22/22 [==============================] - 6s 13ms/step - loss: 0.6759 - accuracy: 0.6134 - val_loss: 0.6495 - val_accuracy: 0.6552\n",
      "Epoch 2/100\n",
      "22/22 [==============================] - 0s 6ms/step - loss: 0.6133 - accuracy: 0.6890 - val_loss: 0.6056 - val_accuracy: 0.6897\n",
      "Epoch 3/100\n",
      "22/22 [==============================] - 0s 5ms/step - loss: 0.5636 - accuracy: 0.7180 - val_loss: 0.5695 - val_accuracy: 0.6897\n",
      "Epoch 4/100\n",
      "22/22 [==============================] - 0s 5ms/step - loss: 0.5231 - accuracy: 0.7471 - val_loss: 0.5361 - val_accuracy: 0.7126\n",
      "Epoch 5/100\n",
      "22/22 [==============================] - 0s 5ms/step - loss: 0.4884 - accuracy: 0.7907 - val_loss: 0.5064 - val_accuracy: 0.7586\n",
      "Epoch 6/100\n",
      "22/22 [==============================] - 0s 5ms/step - loss: 0.4557 - accuracy: 0.8023 - val_loss: 0.4809 - val_accuracy: 0.7931\n",
      "Epoch 7/100\n",
      "22/22 [==============================] - 0s 5ms/step - loss: 0.4277 - accuracy: 0.8285 - val_loss: 0.4548 - val_accuracy: 0.7931\n",
      "Epoch 8/100\n",
      "22/22 [==============================] - 0s 6ms/step - loss: 0.4008 - accuracy: 0.8372 - val_loss: 0.4314 - val_accuracy: 0.8161\n",
      "Epoch 9/100\n",
      "22/22 [==============================] - 0s 6ms/step - loss: 0.3742 - accuracy: 0.8547 - val_loss: 0.4110 - val_accuracy: 0.8276\n",
      "Epoch 10/100\n",
      "22/22 [==============================] - 0s 6ms/step - loss: 0.3511 - accuracy: 0.8663 - val_loss: 0.3928 - val_accuracy: 0.8506\n",
      "Epoch 11/100\n",
      "22/22 [==============================] - 0s 5ms/step - loss: 0.3296 - accuracy: 0.8721 - val_loss: 0.3776 - val_accuracy: 0.8621\n",
      "Epoch 12/100\n",
      "22/22 [==============================] - 0s 6ms/step - loss: 0.3104 - accuracy: 0.8779 - val_loss: 0.3643 - val_accuracy: 0.8851\n",
      "Epoch 13/100\n",
      "22/22 [==============================] - 0s 5ms/step - loss: 0.2930 - accuracy: 0.8924 - val_loss: 0.3559 - val_accuracy: 0.8851\n",
      "Epoch 14/100\n",
      "22/22 [==============================] - 0s 5ms/step - loss: 0.2785 - accuracy: 0.9012 - val_loss: 0.3520 - val_accuracy: 0.8851\n",
      "Epoch 15/100\n",
      "22/22 [==============================] - 0s 5ms/step - loss: 0.2675 - accuracy: 0.9012 - val_loss: 0.3493 - val_accuracy: 0.8736\n",
      "Epoch 16/100\n",
      "22/22 [==============================] - 0s 6ms/step - loss: 0.2582 - accuracy: 0.9012 - val_loss: 0.3470 - val_accuracy: 0.8736\n",
      "Epoch 17/100\n",
      "22/22 [==============================] - 0s 5ms/step - loss: 0.2498 - accuracy: 0.9099 - val_loss: 0.3458 - val_accuracy: 0.8736\n",
      "Epoch 18/100\n",
      "22/22 [==============================] - 0s 6ms/step - loss: 0.2436 - accuracy: 0.9099 - val_loss: 0.3459 - val_accuracy: 0.8736\n",
      "Epoch 19/100\n",
      "22/22 [==============================] - 0s 5ms/step - loss: 0.2389 - accuracy: 0.9128 - val_loss: 0.3491 - val_accuracy: 0.8736\n",
      "Epoch 20/100\n",
      "22/22 [==============================] - 0s 5ms/step - loss: 0.2350 - accuracy: 0.9099 - val_loss: 0.3488 - val_accuracy: 0.8621\n",
      "Epoch 21/100\n",
      "22/22 [==============================] - 0s 5ms/step - loss: 0.2315 - accuracy: 0.9128 - val_loss: 0.3481 - val_accuracy: 0.8736\n",
      "Epoch 22/100\n",
      "22/22 [==============================] - 0s 5ms/step - loss: 0.2281 - accuracy: 0.9157 - val_loss: 0.3507 - val_accuracy: 0.8506\n",
      "Epoch 23/100\n",
      "22/22 [==============================] - 0s 5ms/step - loss: 0.2264 - accuracy: 0.9186 - val_loss: 0.3532 - val_accuracy: 0.8506\n",
      "Epoch 24/100\n",
      "22/22 [==============================] - 0s 6ms/step - loss: 0.2240 - accuracy: 0.9157 - val_loss: 0.3529 - val_accuracy: 0.8506\n",
      "Epoch 25/100\n",
      "22/22 [==============================] - 0s 6ms/step - loss: 0.2216 - accuracy: 0.9186 - val_loss: 0.3542 - val_accuracy: 0.8506\n",
      "Epoch 26/100\n",
      "22/22 [==============================] - 0s 8ms/step - loss: 0.2207 - accuracy: 0.9186 - val_loss: 0.3570 - val_accuracy: 0.8506\n",
      "Epoch 27/100\n",
      "22/22 [==============================] - 0s 7ms/step - loss: 0.2196 - accuracy: 0.9215 - val_loss: 0.3552 - val_accuracy: 0.8621\n",
      "Epoch 28/100\n",
      "22/22 [==============================] - 0s 9ms/step - loss: 0.2180 - accuracy: 0.9215 - val_loss: 0.3568 - val_accuracy: 0.8621\n",
      "Epoch 29/100\n",
      "22/22 [==============================] - 0s 8ms/step - loss: 0.2170 - accuracy: 0.9215 - val_loss: 0.3581 - val_accuracy: 0.8506\n",
      "Epoch 30/100\n",
      "22/22 [==============================] - 0s 8ms/step - loss: 0.2157 - accuracy: 0.9215 - val_loss: 0.3590 - val_accuracy: 0.8506\n",
      "Epoch 31/100\n",
      "22/22 [==============================] - 0s 9ms/step - loss: 0.2152 - accuracy: 0.9186 - val_loss: 0.3595 - val_accuracy: 0.8391\n",
      "Epoch 32/100\n",
      "22/22 [==============================] - 0s 8ms/step - loss: 0.2148 - accuracy: 0.9215 - val_loss: 0.3614 - val_accuracy: 0.8506\n",
      "Epoch 33/100\n",
      "22/22 [==============================] - 0s 8ms/step - loss: 0.2127 - accuracy: 0.9244 - val_loss: 0.3605 - val_accuracy: 0.8506\n",
      "Epoch 34/100\n",
      "22/22 [==============================] - 0s 7ms/step - loss: 0.2127 - accuracy: 0.9302 - val_loss: 0.3598 - val_accuracy: 0.8506\n",
      "Epoch 35/100\n",
      "22/22 [==============================] - 0s 7ms/step - loss: 0.2117 - accuracy: 0.9273 - val_loss: 0.3594 - val_accuracy: 0.8621\n",
      "Epoch 36/100\n",
      "22/22 [==============================] - 0s 8ms/step - loss: 0.2111 - accuracy: 0.9273 - val_loss: 0.3625 - val_accuracy: 0.8506\n",
      "Epoch 37/100\n",
      "22/22 [==============================] - 0s 8ms/step - loss: 0.2103 - accuracy: 0.9273 - val_loss: 0.3627 - val_accuracy: 0.8506\n",
      "Epoch 38/100\n",
      "22/22 [==============================] - 0s 8ms/step - loss: 0.2097 - accuracy: 0.9244 - val_loss: 0.3618 - val_accuracy: 0.8621\n",
      "Epoch 39/100\n",
      "22/22 [==============================] - 0s 8ms/step - loss: 0.2092 - accuracy: 0.9273 - val_loss: 0.3628 - val_accuracy: 0.8506\n",
      "Epoch 40/100\n",
      "22/22 [==============================] - 0s 5ms/step - loss: 0.2079 - accuracy: 0.9273 - val_loss: 0.3627 - val_accuracy: 0.8621\n",
      "Epoch 41/100\n",
      "22/22 [==============================] - 0s 5ms/step - loss: 0.2065 - accuracy: 0.9273 - val_loss: 0.3607 - val_accuracy: 0.8621\n",
      "Epoch 42/100\n",
      "22/22 [==============================] - 0s 5ms/step - loss: 0.2055 - accuracy: 0.9331 - val_loss: 0.3618 - val_accuracy: 0.8506\n",
      "Epoch 43/100\n",
      "22/22 [==============================] - 0s 5ms/step - loss: 0.2057 - accuracy: 0.9302 - val_loss: 0.3625 - val_accuracy: 0.8621\n",
      "Epoch 44/100\n",
      "22/22 [==============================] - 0s 5ms/step - loss: 0.2051 - accuracy: 0.9331 - val_loss: 0.3627 - val_accuracy: 0.8506\n",
      "Epoch 45/100\n",
      "22/22 [==============================] - 0s 6ms/step - loss: 0.2040 - accuracy: 0.9302 - val_loss: 0.3636 - val_accuracy: 0.8506\n",
      "Epoch 46/100\n",
      "22/22 [==============================] - 0s 5ms/step - loss: 0.2036 - accuracy: 0.9273 - val_loss: 0.3633 - val_accuracy: 0.8506\n",
      "Epoch 47/100\n",
      "22/22 [==============================] - 0s 5ms/step - loss: 0.2031 - accuracy: 0.9302 - val_loss: 0.3615 - val_accuracy: 0.8506\n",
      "Epoch 48/100\n",
      "22/22 [==============================] - 0s 5ms/step - loss: 0.2018 - accuracy: 0.9302 - val_loss: 0.3627 - val_accuracy: 0.8506\n",
      "Epoch 49/100\n",
      "22/22 [==============================] - 0s 5ms/step - loss: 0.2016 - accuracy: 0.9302 - val_loss: 0.3634 - val_accuracy: 0.8506\n",
      "Epoch 50/100\n",
      "22/22 [==============================] - 0s 6ms/step - loss: 0.2004 - accuracy: 0.9331 - val_loss: 0.3626 - val_accuracy: 0.8621\n",
      "Epoch 51/100\n",
      "22/22 [==============================] - 0s 5ms/step - loss: 0.2000 - accuracy: 0.9331 - val_loss: 0.3633 - val_accuracy: 0.8506\n",
      "Epoch 52/100\n",
      "22/22 [==============================] - 0s 6ms/step - loss: 0.1992 - accuracy: 0.9331 - val_loss: 0.3623 - val_accuracy: 0.8621\n",
      "Epoch 53/100\n",
      "22/22 [==============================] - 0s 6ms/step - loss: 0.1989 - accuracy: 0.9302 - val_loss: 0.3608 - val_accuracy: 0.8621\n",
      "Epoch 54/100\n",
      "22/22 [==============================] - 0s 6ms/step - loss: 0.1979 - accuracy: 0.9302 - val_loss: 0.3618 - val_accuracy: 0.8621\n",
      "Epoch 55/100\n",
      "22/22 [==============================] - 0s 5ms/step - loss: 0.1973 - accuracy: 0.9331 - val_loss: 0.3625 - val_accuracy: 0.8621\n",
      "Epoch 56/100\n",
      "22/22 [==============================] - 0s 6ms/step - loss: 0.1976 - accuracy: 0.9302 - val_loss: 0.3653 - val_accuracy: 0.8506\n",
      "Epoch 57/100\n",
      "22/22 [==============================] - 0s 6ms/step - loss: 0.1958 - accuracy: 0.9302 - val_loss: 0.3641 - val_accuracy: 0.8621\n",
      "Epoch 58/100\n",
      "22/22 [==============================] - 0s 6ms/step - loss: 0.1955 - accuracy: 0.9331 - val_loss: 0.3625 - val_accuracy: 0.8621\n",
      "Epoch 59/100\n",
      "22/22 [==============================] - 0s 5ms/step - loss: 0.1949 - accuracy: 0.9331 - val_loss: 0.3630 - val_accuracy: 0.8506\n",
      "Epoch 60/100\n",
      "22/22 [==============================] - 0s 6ms/step - loss: 0.1946 - accuracy: 0.9302 - val_loss: 0.3649 - val_accuracy: 0.8506\n",
      "Epoch 61/100\n",
      "22/22 [==============================] - 0s 6ms/step - loss: 0.1938 - accuracy: 0.9273 - val_loss: 0.3634 - val_accuracy: 0.8736\n",
      "Epoch 62/100\n",
      "22/22 [==============================] - 0s 5ms/step - loss: 0.1934 - accuracy: 0.9302 - val_loss: 0.3655 - val_accuracy: 0.8736\n",
      "Epoch 63/100\n",
      "22/22 [==============================] - 0s 5ms/step - loss: 0.1933 - accuracy: 0.9331 - val_loss: 0.3644 - val_accuracy: 0.8621\n",
      "Epoch 64/100\n",
      "22/22 [==============================] - 0s 6ms/step - loss: 0.1916 - accuracy: 0.9360 - val_loss: 0.3639 - val_accuracy: 0.8851\n",
      "Epoch 65/100\n",
      "22/22 [==============================] - 0s 5ms/step - loss: 0.1912 - accuracy: 0.9331 - val_loss: 0.3651 - val_accuracy: 0.8736\n",
      "Epoch 66/100\n",
      "22/22 [==============================] - 0s 5ms/step - loss: 0.1914 - accuracy: 0.9302 - val_loss: 0.3637 - val_accuracy: 0.8736\n",
      "Epoch 67/100\n",
      "22/22 [==============================] - 0s 5ms/step - loss: 0.1912 - accuracy: 0.9360 - val_loss: 0.3643 - val_accuracy: 0.8851\n",
      "Epoch 68/100\n",
      "22/22 [==============================] - 0s 6ms/step - loss: 0.1905 - accuracy: 0.9390 - val_loss: 0.3667 - val_accuracy: 0.8736\n",
      "Epoch 69/100\n",
      "22/22 [==============================] - 0s 5ms/step - loss: 0.1893 - accuracy: 0.9360 - val_loss: 0.3668 - val_accuracy: 0.8736\n",
      "Epoch 70/100\n",
      "22/22 [==============================] - 0s 6ms/step - loss: 0.1886 - accuracy: 0.9360 - val_loss: 0.3659 - val_accuracy: 0.8851\n",
      "Epoch 71/100\n",
      "22/22 [==============================] - 0s 5ms/step - loss: 0.1880 - accuracy: 0.9360 - val_loss: 0.3693 - val_accuracy: 0.8736\n",
      "Epoch 72/100\n",
      "22/22 [==============================] - 0s 5ms/step - loss: 0.1878 - accuracy: 0.9331 - val_loss: 0.3675 - val_accuracy: 0.8851\n",
      "Epoch 73/100\n",
      "22/22 [==============================] - 0s 6ms/step - loss: 0.1873 - accuracy: 0.9419 - val_loss: 0.3727 - val_accuracy: 0.8736\n",
      "Epoch 74/100\n",
      "22/22 [==============================] - 0s 6ms/step - loss: 0.1879 - accuracy: 0.9419 - val_loss: 0.3702 - val_accuracy: 0.8621\n",
      "Epoch 75/100\n",
      "22/22 [==============================] - 0s 6ms/step - loss: 0.1862 - accuracy: 0.9419 - val_loss: 0.3704 - val_accuracy: 0.8736\n",
      "Epoch 76/100\n",
      "22/22 [==============================] - 0s 6ms/step - loss: 0.1855 - accuracy: 0.9360 - val_loss: 0.3698 - val_accuracy: 0.8851\n",
      "Epoch 77/100\n",
      "22/22 [==============================] - 0s 5ms/step - loss: 0.1864 - accuracy: 0.9360 - val_loss: 0.3723 - val_accuracy: 0.8621\n",
      "Epoch 78/100\n",
      "22/22 [==============================] - 0s 5ms/step - loss: 0.1845 - accuracy: 0.9390 - val_loss: 0.3694 - val_accuracy: 0.8621\n",
      "Epoch 79/100\n",
      "22/22 [==============================] - 0s 6ms/step - loss: 0.1840 - accuracy: 0.9360 - val_loss: 0.3692 - val_accuracy: 0.8851\n",
      "Epoch 80/100\n",
      "22/22 [==============================] - 0s 5ms/step - loss: 0.1834 - accuracy: 0.9360 - val_loss: 0.3711 - val_accuracy: 0.8736\n",
      "Epoch 81/100\n",
      "22/22 [==============================] - 0s 5ms/step - loss: 0.1835 - accuracy: 0.9331 - val_loss: 0.3715 - val_accuracy: 0.8736\n",
      "Epoch 82/100\n",
      "22/22 [==============================] - 0s 5ms/step - loss: 0.1832 - accuracy: 0.9390 - val_loss: 0.3709 - val_accuracy: 0.8851\n",
      "Epoch 83/100\n",
      "22/22 [==============================] - 0s 6ms/step - loss: 0.1820 - accuracy: 0.9360 - val_loss: 0.3723 - val_accuracy: 0.8736\n",
      "Epoch 84/100\n",
      "22/22 [==============================] - 0s 6ms/step - loss: 0.1821 - accuracy: 0.9390 - val_loss: 0.3697 - val_accuracy: 0.8851\n",
      "Epoch 85/100\n",
      "22/22 [==============================] - 0s 5ms/step - loss: 0.1821 - accuracy: 0.9419 - val_loss: 0.3749 - val_accuracy: 0.8736\n",
      "Epoch 86/100\n",
      "22/22 [==============================] - 0s 6ms/step - loss: 0.1801 - accuracy: 0.9448 - val_loss: 0.3721 - val_accuracy: 0.8851\n",
      "Epoch 87/100\n",
      "22/22 [==============================] - 0s 6ms/step - loss: 0.1810 - accuracy: 0.9360 - val_loss: 0.3731 - val_accuracy: 0.8851\n",
      "Epoch 88/100\n",
      "22/22 [==============================] - 0s 5ms/step - loss: 0.1791 - accuracy: 0.9390 - val_loss: 0.3749 - val_accuracy: 0.8736\n",
      "Epoch 89/100\n",
      "22/22 [==============================] - 0s 5ms/step - loss: 0.1796 - accuracy: 0.9390 - val_loss: 0.3727 - val_accuracy: 0.8736\n",
      "Epoch 90/100\n",
      "22/22 [==============================] - 0s 6ms/step - loss: 0.1779 - accuracy: 0.9390 - val_loss: 0.3731 - val_accuracy: 0.8851\n",
      "Epoch 91/100\n",
      "22/22 [==============================] - 0s 5ms/step - loss: 0.1789 - accuracy: 0.9360 - val_loss: 0.3734 - val_accuracy: 0.8851\n",
      "Epoch 92/100\n",
      "22/22 [==============================] - 0s 6ms/step - loss: 0.1780 - accuracy: 0.9360 - val_loss: 0.3729 - val_accuracy: 0.8851\n",
      "Epoch 93/100\n",
      "22/22 [==============================] - 0s 6ms/step - loss: 0.1775 - accuracy: 0.9390 - val_loss: 0.3731 - val_accuracy: 0.8736\n",
      "Epoch 94/100\n",
      "22/22 [==============================] - 0s 5ms/step - loss: 0.1777 - accuracy: 0.9419 - val_loss: 0.3743 - val_accuracy: 0.8736\n",
      "Epoch 95/100\n",
      "22/22 [==============================] - 0s 5ms/step - loss: 0.1761 - accuracy: 0.9419 - val_loss: 0.3768 - val_accuracy: 0.8851\n",
      "Epoch 96/100\n",
      "22/22 [==============================] - 0s 5ms/step - loss: 0.1763 - accuracy: 0.9390 - val_loss: 0.3746 - val_accuracy: 0.8851\n",
      "Epoch 97/100\n",
      "22/22 [==============================] - 0s 6ms/step - loss: 0.1759 - accuracy: 0.9448 - val_loss: 0.3772 - val_accuracy: 0.8736\n",
      "Epoch 98/100\n",
      "22/22 [==============================] - 0s 5ms/step - loss: 0.1751 - accuracy: 0.9360 - val_loss: 0.3759 - val_accuracy: 0.8851\n",
      "Epoch 99/100\n",
      "22/22 [==============================] - 0s 5ms/step - loss: 0.1748 - accuracy: 0.9360 - val_loss: 0.3779 - val_accuracy: 0.8851\n",
      "Epoch 100/100\n",
      "22/22 [==============================] - 0s 6ms/step - loss: 0.1750 - accuracy: 0.9390 - val_loss: 0.3781 - val_accuracy: 0.8851\n"
     ]
    }
   ],
   "source": [
    "# now we will be fitting the model\n",
    "\n",
    "history = model.fit(\n",
    "                  x_train_scaled,\n",
    "                  y_train,\n",
    "                  verbose = True,\n",
    "                  batch_size = 16,\n",
    "                  validation_split = 0.2,\n",
    "                  epochs = 100,\n",
    "                  workers = 10,\n",
    "                  use_multiprocessing = True\n",
    ")"
   ]
  },
  {
   "cell_type": "code",
   "execution_count": 27,
   "metadata": {
    "executionInfo": {
     "elapsed": 31,
     "status": "ok",
     "timestamp": 1697074718925,
     "user": {
      "displayName": "Velocity Data Science",
      "userId": "12853793230690412689"
     },
     "user_tz": -330
    },
    "id": "aSzkfHoyZVDk"
   },
   "outputs": [],
   "source": [
    "def plotting(history,keyword):\n",
    "\n",
    "  plt.plot(history.history[keyword])\n",
    "  plt.plot(history.history[\"val_\"+keyword])\n",
    "\n",
    "  plt.title(\"model \"+ keyword)\n",
    "  plt.ylabel(keyword)\n",
    "  plt.xlabel(\"epoch\")\n",
    "\n",
    "  plt.legend([\"training data\",\"validation_data\"])\n"
   ]
  },
  {
   "cell_type": "code",
   "execution_count": 28,
   "metadata": {
    "colab": {
     "base_uri": "https://localhost:8080/",
     "height": 472
    },
    "executionInfo": {
     "elapsed": 30,
     "status": "ok",
     "timestamp": 1697074718925,
     "user": {
      "displayName": "Velocity Data Science",
      "userId": "12853793230690412689"
     },
     "user_tz": -330
    },
    "id": "jKxFoFE2ZVEs",
    "outputId": "97c8e7b5-38b2-419c-ddf1-fc6cba37a2aa"
   },
   "outputs": [
    {
     "data": {
      "image/png": "[encoded data removed]",
      "text/plain": [
       "<Figure size 640x480 with 1 Axes>"
      ]
     },
     "metadata": {},
     "output_type": "display_data"
    }
   ],
   "source": [
    "plotting(history,\"accuracy\")"
   ]
  },
  {
   "cell_type": "code",
   "execution_count": 29,
   "metadata": {
    "colab": {
     "base_uri": "https://localhost:8080/",
     "height": 472
    },
    "executionInfo": {
     "elapsed": 1024,
     "status": "ok",
     "timestamp": 1697074719921,
     "user": {
      "displayName": "Velocity Data Science",
      "userId": "12853793230690412689"
     },
     "user_tz": -330
    },
    "id": "bht3VdUvZVF2",
    "outputId": "2d550136-1bdd-47e1-aca8-0defe1497ba2"
   },
   "outputs": [
    {
     "data": {
      "image/png": "[encoded data removed]",
      "text/plain": [
       "<Figure size 640x480 with 1 Axes>"
      ]
     },
     "metadata": {},
     "output_type": "display_data"
    }
   ],
   "source": [
    "plotting(history,\"loss\")"
   ]
  },
  {
   "cell_type": "code",
   "execution_count": 30,
   "metadata": {
    "colab": {
     "base_uri": "https://localhost:8080/"
    },
    "executionInfo": {
     "elapsed": 29,
     "status": "ok",
     "timestamp": 1697074719921,
     "user": {
      "displayName": "Velocity Data Science",
      "userId": "12853793230690412689"
     },
     "user_tz": -330
    },
    "id": "q9KT5s9BZVGs",
    "outputId": "4e9c1a6f-9469-4d19-eaf6-40f540d4c526"
   },
   "outputs": [
    {
     "name": "stdout",
     "output_type": "stream",
     "text": [
      "4/4 [==============================] - 0s 3ms/step\n"
     ]
    },
    {
     "data": {
      "text/plain": [
       "array([[1],\n",
       "       [0],\n",
       "       [0]])"
      ]
     },
     "execution_count": 30,
     "metadata": {},
     "output_type": "execute_result"
    }
   ],
   "source": [
    "y_logs = model.predict(x_test_scaled)\n",
    "\n",
    "y_pred = np.where(y_logs>0.5,1,0)\n",
    "\n",
    "y_pred[:3]"
   ]
  },
  {
   "cell_type": "code",
   "execution_count": 31,
   "metadata": {
    "colab": {
     "base_uri": "https://localhost:8080/"
    },
    "executionInfo": {
     "elapsed": 27,
     "status": "ok",
     "timestamp": 1697074719922,
     "user": {
      "displayName": "Velocity Data Science",
      "userId": "12853793230690412689"
     },
     "user_tz": -330
    },
    "id": "bKbItCZiZVIG",
    "outputId": "65b593f0-c153-4ef9-da88-f75323992cd8"
   },
   "outputs": [
    {
     "name": "stdout",
     "output_type": "stream",
     "text": [
      "accuracy of given model on testing data is :  0.89\n"
     ]
    }
   ],
   "source": [
    "# printing accuracy score\n",
    "\n",
    "from sklearn.metrics import accuracy_score,classification_report,confusion_matrix\n",
    "\n",
    "acc = accuracy_score(y_test,y_pred)\n",
    "\n",
    "print(\"accuracy of given model on testing data is : \",np.round(acc,2))"
   ]
  },
  {
   "cell_type": "code",
   "execution_count": 32,
   "metadata": {
    "colab": {
     "base_uri": "https://localhost:8080/"
    },
    "executionInfo": {
     "elapsed": 25,
     "status": "ok",
     "timestamp": 1697074719922,
     "user": {
      "displayName": "Velocity Data Science",
      "userId": "12853793230690412689"
     },
     "user_tz": -330
    },
    "id": "B-UB3ZHpZVKT",
    "outputId": "e1989675-33db-4cca-e0ba-01fc58382399"
   },
   "outputs": [
    {
     "name": "stdout",
     "output_type": "stream",
     "text": [
      "              precision    recall  f1-score   support\n",
      "\n",
      "           0       0.94      0.91      0.92        80\n",
      "           1       0.77      0.82      0.79        28\n",
      "\n",
      "    accuracy                           0.89       108\n",
      "   macro avg       0.85      0.87      0.86       108\n",
      "weighted avg       0.89      0.89      0.89       108\n",
      "\n"
     ]
    }
   ],
   "source": [
    "clf_report = classification_report(y_test,y_pred)\n",
    "\n",
    "print(clf_report)"
   ]
  },
  {
   "cell_type": "code",
   "execution_count": 33,
   "metadata": {
    "colab": {
     "base_uri": "https://localhost:8080/"
    },
    "executionInfo": {
     "elapsed": 24,
     "status": "ok",
     "timestamp": 1697074719922,
     "user": {
      "displayName": "Velocity Data Science",
      "userId": "12853793230690412689"
     },
     "user_tz": -330
    },
    "id": "gd1I1qs4ZVN5",
    "outputId": "22ca4a01-535a-4400-f239-a9c7fb4f6370"
   },
   "outputs": [
    {
     "data": {
      "text/plain": [
       "array([[73,  7],\n",
       "       [ 5, 23]])"
      ]
     },
     "execution_count": 33,
     "metadata": {},
     "output_type": "execute_result"
    }
   ],
   "source": [
    "cnf = confusion_matrix(y_test,y_pred)\n",
    "\n",
    "cnf"
   ]
  },
  {
   "cell_type": "code",
   "execution_count": 33,
   "metadata": {
    "executionInfo": {
     "elapsed": 23,
     "status": "ok",
     "timestamp": 1697074719922,
     "user": {
      "displayName": "Velocity Data Science",
      "userId": "12853793230690412689"
     },
     "user_tz": -330
    },
    "id": "I2ZN5J_nZVPv"
   },
   "outputs": [],
   "source": []
  },
  {
   "cell_type": "markdown",
   "metadata": {
    "id": "pzxNb2AGeGXx"
   },
   "source": [
    "## Conditional Callbacks"
   ]
  },
  {
   "cell_type": "code",
   "execution_count": 34,
   "metadata": {
    "executionInfo": {
     "elapsed": 23,
     "status": "ok",
     "timestamp": 1697074719922,
     "user": {
      "displayName": "Velocity Data Science",
      "userId": "12853793230690412689"
     },
     "user_tz": -330
    },
    "id": "wE1iY_-cZVTL"
   },
   "outputs": [],
   "source": [
    "class Conditionalcallback(tf.keras.callbacks.Callback):\n",
    "  def end_epoch(self,epoch,logs={}):\n",
    "    if (logs.get(\"accuracy\")>=0.85 and logs.get(\"val_accuracy\")>=0.85):\n",
    "      self.model.stop_traning = True"
   ]
  },
  {
   "cell_type": "code",
   "execution_count": 35,
   "metadata": {
    "executionInfo": {
     "elapsed": 22,
     "status": "ok",
     "timestamp": 1697074719922,
     "user": {
      "displayName": "Velocity Data Science",
      "userId": "12853793230690412689"
     },
     "user_tz": -330
    },
    "id": "YjKJLda8ZVUZ"
   },
   "outputs": [],
   "source": [
    "conditional_callback = Conditionalcallback()"
   ]
  },
  {
   "cell_type": "code",
   "execution_count": 36,
   "metadata": {
    "executionInfo": {
     "elapsed": 22,
     "status": "ok",
     "timestamp": 1697074719922,
     "user": {
      "displayName": "Velocity Data Science",
      "userId": "12853793230690412689"
     },
     "user_tz": -330
    },
    "id": "FcB9lj4QZVXe"
   },
   "outputs": [],
   "source": [
    "early_stopper = EarlyStopping(\n",
    "                          monitor = \"val_accuracy\",\n",
    "                          min_delta = 0.02,\n",
    "                          patience = 10,\n",
    "                          mode= \"max\",\n",
    "                          restore_best_weights = True\n",
    ")"
   ]
  },
  {
   "cell_type": "code",
   "execution_count": 37,
   "metadata": {
    "executionInfo": {
     "elapsed": 22,
     "status": "ok",
     "timestamp": 1697074719922,
     "user": {
      "displayName": "Velocity Data Science",
      "userId": "12853793230690412689"
     },
     "user_tz": -330
    },
    "id": "H0FAm4NkZVaU"
   },
   "outputs": [],
   "source": [
    "# Building an architecture\n",
    "\n",
    "model_2 = tf.keras.Sequential(name = \"Main_container\")\n",
    "\n",
    "# adding input layer\n",
    "model_2.add(tf.keras.layers.Input(shape = [9],name= \"Input_Layer\"))\n",
    "\n",
    "# add hidden layers also\n",
    "model_2.add(tf.keras.layers.Dense(units = 9,activation = \"elu\",kernel_initializer= \"he_normal\",name = \"hidden_layer_1\"))\n",
    "\n",
    "model_2.add(tf.keras.layers.Dense(units = 8,activation = \"elu\",kernel_initializer= \"he_normal\",name = \"hidden_layer_2\"))\n",
    "\n",
    "model_2.add(tf.keras.layers.Dense(units = 4,activation = \"elu\",kernel_initializer= \"he_normal\",name = \"hidden_layer_3\"))\n",
    "\n",
    "# adding output layer\n",
    "model_2.add(tf.keras.layers.Dense(units = 1,activation = \"sigmoid\",kernel_initializer= \"glorot_normal\",name = \"Output_layer\"))"
   ]
  },
  {
   "cell_type": "code",
   "execution_count": 38,
   "metadata": {
    "executionInfo": {
     "elapsed": 22,
     "status": "ok",
     "timestamp": 1697074719922,
     "user": {
      "displayName": "Velocity Data Science",
      "userId": "12853793230690412689"
     },
     "user_tz": -330
    },
    "id": "ewXYUya2ZVcM"
   },
   "outputs": [],
   "source": [
    "# once the architecture is been created we add functionality to model\n",
    "\n",
    "model_2.compile(\n",
    "          optimizer = \"adam\",\n",
    "          loss = \"binary_crossentropy\",\n",
    "          metrics = [\"accuracy\"]\n",
    ")"
   ]
  },
  {
   "cell_type": "code",
   "execution_count": 39,
   "metadata": {
    "colab": {
     "base_uri": "https://localhost:8080/"
    },
    "executionInfo": {
     "elapsed": 4803,
     "status": "ok",
     "timestamp": 1697074724703,
     "user": {
      "displayName": "Velocity Data Science",
      "userId": "12853793230690412689"
     },
     "user_tz": -330
    },
    "id": "veCSymwzZVd7",
    "outputId": "1622fd92-057a-4ec7-b685-bd71100ffe55"
   },
   "outputs": [
    {
     "name": "stdout",
     "output_type": "stream",
     "text": [
      "Epoch 1/100\n",
      "27/27 [==============================] - 2s 18ms/step - loss: 0.5874 - accuracy: 0.6961 - val_loss: 0.5345 - val_accuracy: 0.7870\n",
      "Epoch 2/100\n",
      "27/27 [==============================] - 0s 8ms/step - loss: 0.5324 - accuracy: 0.7564 - val_loss: 0.4782 - val_accuracy: 0.8241\n",
      "Epoch 3/100\n",
      "27/27 [==============================] - 0s 10ms/step - loss: 0.4885 - accuracy: 0.7935 - val_loss: 0.4266 - val_accuracy: 0.8426\n",
      "Epoch 4/100\n",
      "27/27 [==============================] - 0s 7ms/step - loss: 0.4481 - accuracy: 0.8237 - val_loss: 0.3924 - val_accuracy: 0.8426\n",
      "Epoch 5/100\n",
      "27/27 [==============================] - 0s 7ms/step - loss: 0.4156 - accuracy: 0.8306 - val_loss: 0.3657 - val_accuracy: 0.8426\n",
      "Epoch 6/100\n",
      "27/27 [==============================] - 0s 8ms/step - loss: 0.3893 - accuracy: 0.8469 - val_loss: 0.3454 - val_accuracy: 0.8426\n",
      "Epoch 7/100\n",
      "27/27 [==============================] - 0s 9ms/step - loss: 0.3649 - accuracy: 0.8538 - val_loss: 0.3312 - val_accuracy: 0.8519\n",
      "Epoch 8/100\n",
      "27/27 [==============================] - 0s 5ms/step - loss: 0.3453 - accuracy: 0.8747 - val_loss: 0.3214 - val_accuracy: 0.8611\n",
      "Epoch 9/100\n",
      "27/27 [==============================] - 0s 6ms/step - loss: 0.3305 - accuracy: 0.8817 - val_loss: 0.3121 - val_accuracy: 0.8704\n",
      "Epoch 10/100\n",
      "27/27 [==============================] - 0s 6ms/step - loss: 0.3166 - accuracy: 0.8817 - val_loss: 0.3063 - val_accuracy: 0.8889\n",
      "Epoch 11/100\n",
      "27/27 [==============================] - 0s 5ms/step - loss: 0.3049 - accuracy: 0.8910 - val_loss: 0.3028 - val_accuracy: 0.8889\n",
      "Epoch 12/100\n",
      "27/27 [==============================] - 0s 5ms/step - loss: 0.2970 - accuracy: 0.8910 - val_loss: 0.3003 - val_accuracy: 0.8889\n",
      "Epoch 13/100\n",
      "27/27 [==============================] - 0s 5ms/step - loss: 0.2881 - accuracy: 0.8956 - val_loss: 0.2988 - val_accuracy: 0.8796\n",
      "Epoch 14/100\n",
      "27/27 [==============================] - 0s 5ms/step - loss: 0.2817 - accuracy: 0.8956 - val_loss: 0.3000 - val_accuracy: 0.8796\n",
      "Epoch 15/100\n",
      "27/27 [==============================] - 0s 5ms/step - loss: 0.2764 - accuracy: 0.8979 - val_loss: 0.3013 - val_accuracy: 0.8704\n",
      "Epoch 16/100\n",
      "27/27 [==============================] - 0s 5ms/step - loss: 0.2725 - accuracy: 0.8979 - val_loss: 0.3026 - val_accuracy: 0.8704\n",
      "Epoch 17/100\n",
      "27/27 [==============================] - 0s 5ms/step - loss: 0.2684 - accuracy: 0.9049 - val_loss: 0.3046 - val_accuracy: 0.8796\n",
      "Epoch 18/100\n",
      "27/27 [==============================] - 0s 5ms/step - loss: 0.2658 - accuracy: 0.9095 - val_loss: 0.3072 - val_accuracy: 0.8796\n",
      "Epoch 19/100\n",
      "27/27 [==============================] - 0s 6ms/step - loss: 0.2631 - accuracy: 0.9072 - val_loss: 0.3097 - val_accuracy: 0.8704\n",
      "Epoch 20/100\n",
      "27/27 [==============================] - 0s 5ms/step - loss: 0.2606 - accuracy: 0.9142 - val_loss: 0.3100 - val_accuracy: 0.8704\n"
     ]
    }
   ],
   "source": [
    "# now we will be fitting the model\n",
    "\n",
    "history_2 = model_2.fit(\n",
    "                  x_train_scaled,\n",
    "                  y_train,\n",
    "                  verbose = True,\n",
    "                  batch_size = 16,\n",
    "                  validation_data = [x_test_scaled,y_test],\n",
    "                  callbacks = [conditional_callback,early_stopper],\n",
    "                  epochs = 100,\n",
    "                  workers = 10,\n",
    "                  use_multiprocessing = True\n",
    ")"
   ]
  },
  {
   "cell_type": "code",
   "execution_count": 40,
   "metadata": {
    "colab": {
     "base_uri": "https://localhost:8080/",
     "height": 472
    },
    "executionInfo": {
     "elapsed": 997,
     "status": "ok",
     "timestamp": 1697074725674,
     "user": {
      "displayName": "Velocity Data Science",
      "userId": "12853793230690412689"
     },
     "user_tz": -330
    },
    "id": "H9jPnpQ2f0Xr",
    "outputId": "04c5bce8-c5ac-4244-86d4-8ace3046710e"
   },
   "outputs": [
    {
     "data": {
      "image/png": "[encoded data removed]",
      "text/plain": [
       "<Figure size 640x480 with 1 Axes>"
      ]
     },
     "metadata": {},
     "output_type": "display_data"
    }
   ],
   "source": [
    "plotting(history_2,\"accuracy\")"
   ]
  },
  {
   "cell_type": "code",
   "execution_count": 41,
   "metadata": {
    "colab": {
     "base_uri": "https://localhost:8080/",
     "height": 472
    },
    "executionInfo": {
     "elapsed": 993,
     "status": "ok",
     "timestamp": 1697074726652,
     "user": {
      "displayName": "Velocity Data Science",
      "userId": "12853793230690412689"
     },
     "user_tz": -330
    },
    "id": "yylImQbxf0zl",
    "outputId": "f4de5b94-eff8-4901-de2c-62cf75747d5c"
   },
   "outputs": [
    {
     "data": {
      "image/png": "[encoded data removed]",
      "text/plain": [
       "<Figure size 640x480 with 1 Axes>"
      ]
     },
     "metadata": {},
     "output_type": "display_data"
    }
   ],
   "source": [
    "plotting(history_2,\"loss\")"
   ]
  },
  {
   "cell_type": "markdown",
   "metadata": {
    "id": "7r73Xe9fhygF"
   },
   "source": [
    "#HYPER Parameter Tunning"
   ]
  },
  {
   "cell_type": "code",
   "execution_count": 42,
   "metadata": {
    "colab": {
     "base_uri": "https://localhost:8080/"
    },
    "executionInfo": {
     "elapsed": 6949,
     "status": "ok",
     "timestamp": 1697074736710,
     "user": {
      "displayName": "Velocity Data Science",
      "userId": "12853793230690412689"
     },
     "user_tz": -330
    },
    "id": "RQpZ05Bvf01B",
    "outputId": "4c5e2fbd-89a6-4de7-8aa8-1ef61bd447c6"
   },
   "outputs": [
    {
     "name": "stdout",
     "output_type": "stream",
     "text": [
      "Collecting keras-tuner\n",
      "  Downloading keras_tuner-1.4.4-py3-none-any.whl (127 kB)\n",
      "\u001b[2K     \u001b[90m━━━━━━━━━━━━━━━━━━━━━━━━━━━━━━━━━━━━━━━\u001b[0m \u001b[32m128.0/128.0 kB\u001b[0m \u001b[31m3.0 MB/s\u001b[0m eta \u001b[36m0:00:00\u001b[0m\n",
      "\u001b[?25hCollecting keras-core (from keras-tuner)\n",
      "  Downloading keras_core-0.1.7-py3-none-any.whl (950 kB)\n",
      "\u001b[2K     \u001b[90m━━━━━━━━━━━━━━━━━━━━━━━━━━━━━━━━━━━━━━━\u001b[0m \u001b[32m950.8/950.8 kB\u001b[0m \u001b[31m9.6 MB/s\u001b[0m eta \u001b[36m0:00:00\u001b[0m\n",
      "\u001b[?25hRequirement already satisfied: packaging in /usr/local/lib/python3.10/dist-packages (from keras-tuner) (23.2)\n",
      "Requirement already satisfied: requests in /usr/local/lib/python3.10/dist-packages (from keras-tuner) (2.31.0)\n",
      "Collecting kt-legacy (from keras-tuner)\n",
      "  Downloading kt_legacy-1.0.5-py3-none-any.whl (9.6 kB)\n",
      "Requirement already satisfied: absl-py in /usr/local/lib/python3.10/dist-packages (from keras-core->keras-tuner) (1.4.0)\n",
      "Requirement already satisfied: numpy in /usr/local/lib/python3.10/dist-packages (from keras-core->keras-tuner) (1.23.5)\n",
      "Requirement already satisfied: rich in /usr/local/lib/python3.10/dist-packages (from keras-core->keras-tuner) (13.6.0)\n",
      "Collecting namex (from keras-core->keras-tuner)\n",
      "  Downloading namex-0.0.7-py3-none-any.whl (5.8 kB)\n",
      "Requirement already satisfied: h5py in /usr/local/lib/python3.10/dist-packages (from keras-core->keras-tuner) (3.9.0)\n",
      "Requirement already satisfied: dm-tree in /usr/local/lib/python3.10/dist-packages (from keras-core->keras-tuner) (0.1.8)\n",
      "Requirement already satisfied: charset-normalizer<4,>=2 in /usr/local/lib/python3.10/dist-packages (from requests->keras-tuner) (3.3.0)\n",
      "Requirement already satisfied: idna<4,>=2.5 in /usr/local/lib/python3.10/dist-packages (from requests->keras-tuner) (3.4)\n",
      "Requirement already satisfied: urllib3<3,>=1.21.1 in /usr/local/lib/python3.10/dist-packages (from requests->keras-tuner) (2.0.6)\n",
      "Requirement already satisfied: certifi>=2017.4.17 in /usr/local/lib/python3.10/dist-packages (from requests->keras-tuner) (2023.7.22)\n",
      "Requirement already satisfied: markdown-it-py>=2.2.0 in /usr/local/lib/python3.10/dist-packages (from rich->keras-core->keras-tuner) (3.0.0)\n",
      "Requirement already satisfied: pygments<3.0.0,>=2.13.0 in /usr/local/lib/python3.10/dist-packages (from rich->keras-core->keras-tuner) (2.16.1)\n",
      "Requirement already satisfied: mdurl~=0.1 in /usr/local/lib/python3.10/dist-packages (from markdown-it-py>=2.2.0->rich->keras-core->keras-tuner) (0.1.2)\n",
      "Installing collected packages: namex, kt-legacy, keras-core, keras-tuner\n",
      "Successfully installed keras-core-0.1.7 keras-tuner-1.4.4 kt-legacy-1.0.5 namex-0.0.7\n"
     ]
    }
   ],
   "source": [
    "!pip install keras-tuner"
   ]
  },
  {
   "cell_type": "code",
   "execution_count": 43,
   "metadata": {
    "colab": {
     "base_uri": "https://localhost:8080/"
    },
    "executionInfo": {
     "elapsed": 730,
     "status": "ok",
     "timestamp": 1697074737428,
     "user": {
      "displayName": "Velocity Data Science",
      "userId": "12853793230690412689"
     },
     "user_tz": -330
    },
    "id": "iyV3wE5Uf034",
    "outputId": "b6f360e8-18db-4e9e-896a-f49dd084c26c"
   },
   "outputs": [
    {
     "name": "stdout",
     "output_type": "stream",
     "text": [
      "Using TensorFlow backend\n"
     ]
    }
   ],
   "source": [
    "from keras_tuner.tuners import RandomSearch"
   ]
  },
  {
   "cell_type": "code",
   "execution_count": 44,
   "metadata": {
    "executionInfo": {
     "elapsed": 9,
     "status": "ok",
     "timestamp": 1697074737429,
     "user": {
      "displayName": "Velocity Data Science",
      "userId": "12853793230690412689"
     },
     "user_tz": -330
    },
    "id": "RgCqAJtXf07N"
   },
   "outputs": [],
   "source": [
    "# Building the hypermodel\n",
    "def model_maker_hyp(hyp):\n",
    "    # -------------------------- Building the model\n",
    "#     Instantiating the sequential container\n",
    "    model = tf.keras.Sequential()\n",
    "#     Adding the input layer\n",
    "    model.add(tf.keras.layers.Input(shape = [9]))\n",
    "\n",
    "#     Adding the hidden layers\n",
    "    for num_layer in range(hyp.Int('The optimal number of hidden layers', min_value = 1, max_value = 10, step = 1)):\n",
    "        model.add(tf.keras.layers.Dense(units = hyp.Int(f'The number of neurons in hidden layer number {num_layer}', min_value = 2, max_value = 16, step = 1),\n",
    "                                        activation = hyp.Choice(f'The activation function for hidden layer number {num_layer}', ['relu', 'sigmoid', 'elu']),\n",
    "                                        kernel_initializer = hyp.Choice(f'The kernel initializer for hidden layer number {num_layer}', ['he_normal','he_uniform','glorot_normal','glorot_uniform'])))\n",
    "\n",
    "#     Adding the output layer\n",
    "    model.add(tf.keras.layers.Dense(units = 1, activation = 'sigmoid', kernel_initializer = hyp.Choice('kernel initializer for the output layer', ['he_normal','he_uniform','glorot_normal','glorot_uniform'])))\n",
    "    # -------------------------- Building the model\n",
    "\n",
    "    # -------------------------- Compiling the model\n",
    "    model.compile(optimizer = hyp.Choice('Optimization function',['Adam', 'rmsprop','adagrad','SGD']),\n",
    "                  loss = 'binary_crossentropy',\n",
    "                  metrics = ['accuracy', 'Precision', 'Recall'])\n",
    "    # -------------------------- Compiling the model\n",
    "\n",
    "    return model"
   ]
  },
  {
   "cell_type": "code",
   "execution_count": 45,
   "metadata": {
    "executionInfo": {
     "elapsed": 8,
     "status": "ok",
     "timestamp": 1697074737429,
     "user": {
      "displayName": "Velocity Data Science",
      "userId": "12853793230690412689"
     },
     "user_tz": -330
    },
    "id": "8zz71f0Kf09N"
   },
   "outputs": [],
   "source": [
    "# creating the tuner object\n",
    "\n",
    "tuner_obj = RandomSearch(hypermodel = model_maker_hyp,\n",
    "                         objective = \"val_accuracy\",\n",
    "                         max_trials = 10,\n",
    "                         executions_per_trial = 3)"
   ]
  },
  {
   "cell_type": "code",
   "execution_count": 46,
   "metadata": {
    "colab": {
     "base_uri": "https://localhost:8080/"
    },
    "executionInfo": {
     "elapsed": 8,
     "status": "ok",
     "timestamp": 1697074737429,
     "user": {
      "displayName": "Velocity Data Science",
      "userId": "12853793230690412689"
     },
     "user_tz": -330
    },
    "id": "79r_kMMnf1AH",
    "outputId": "268520d8-3670-43f6-ccef-f6b1166a5526"
   },
   "outputs": [
    {
     "name": "stdout",
     "output_type": "stream",
     "text": [
      "Search space summary\n",
      "Default search space size: 6\n",
      "The optimal number of hidden layers (Int)\n",
      "{'default': None, 'conditions': [], 'min_value': 1, 'max_value': 10, 'step': 1, 'sampling': 'linear'}\n",
      "The number of neurons in hidden layer number 0 (Int)\n",
      "{'default': None, 'conditions': [], 'min_value': 2, 'max_value': 16, 'step': 1, 'sampling': 'linear'}\n",
      "The activation function for hidden layer number 0 (Choice)\n",
      "{'default': 'relu', 'conditions': [], 'values': ['relu', 'sigmoid', 'elu'], 'ordered': False}\n",
      "The kernel initializer for hidden layer number 0 (Choice)\n",
      "{'default': 'he_normal', 'conditions': [], 'values': ['he_normal', 'he_uniform', 'glorot_normal', 'glorot_uniform'], 'ordered': False}\n",
      "kernel initializer for the output layer (Choice)\n",
      "{'default': 'he_normal', 'conditions': [], 'values': ['he_normal', 'he_uniform', 'glorot_normal', 'glorot_uniform'], 'ordered': False}\n",
      "Optimization function (Choice)\n",
      "{'default': 'Adam', 'conditions': [], 'values': ['Adam', 'rmsprop', 'adagrad', 'SGD'], 'ordered': False}\n"
     ]
    }
   ],
   "source": [
    "tuner_obj.search_space_summary()"
   ]
  },
  {
   "cell_type": "code",
   "execution_count": 47,
   "metadata": {
    "colab": {
     "base_uri": "https://localhost:8080/"
    },
    "executionInfo": {
     "elapsed": 203323,
     "status": "ok",
     "timestamp": 1697074947140,
     "user": {
      "displayName": "Velocity Data Science",
      "userId": "12853793230690412689"
     },
     "user_tz": -330
    },
    "id": "gt4jTSKcf1DO",
    "outputId": "1a7a0455-86ee-445c-fed6-7a5b5d0bb144"
   },
   "outputs": [
    {
     "name": "stdout",
     "output_type": "stream",
     "text": [
      "Trial 10 Complete [00h 00m 14s]\n",
      "val_accuracy: 0.8271604975064596\n",
      "\n",
      "Best val_accuracy So Far: 0.8919752836227417\n",
      "Total elapsed time: 00h 03m 23s\n"
     ]
    }
   ],
   "source": [
    "tuner_obj.search(x_train_scaled,\n",
    "                 y_train,\n",
    "                 epochs = 10,\n",
    "                 validation_data = [x_test_scaled,y_test],\n",
    "                 batch_size = 16)"
   ]
  },
  {
   "cell_type": "code",
   "execution_count": 48,
   "metadata": {
    "colab": {
     "base_uri": "https://localhost:8080/"
    },
    "executionInfo": {
     "elapsed": 1860,
     "status": "ok",
     "timestamp": 1697075078871,
     "user": {
      "displayName": "Velocity Data Science",
      "userId": "12853793230690412689"
     },
     "user_tz": -330
    },
    "id": "9Pu87lyzf1Eh",
    "outputId": "77fefa04-ad06-4e85-d7fd-870d2d514c9d"
   },
   "outputs": [
    {
     "data": {
      "text/plain": [
       "[<keras.src.engine.sequential.Sequential at 0x78354a2af0a0>,\n",
       " <keras.src.engine.sequential.Sequential at 0x78345073bc40>,\n",
       " <keras.src.engine.sequential.Sequential at 0x7834bd2dbc40>]"
      ]
     },
     "execution_count": 48,
     "metadata": {},
     "output_type": "execute_result"
    }
   ],
   "source": [
    "best_models_list = tuner_obj.get_best_models(num_models = 3)\n",
    "best_models_list"
   ]
  },
  {
   "cell_type": "code",
   "execution_count": 49,
   "metadata": {
    "colab": {
     "base_uri": "https://localhost:8080/"
    },
    "executionInfo": {
     "elapsed": 414,
     "status": "ok",
     "timestamp": 1697075116022,
     "user": {
      "displayName": "Velocity Data Science",
      "userId": "12853793230690412689"
     },
     "user_tz": -330
    },
    "id": "FC_4lL5Xf1N1",
    "outputId": "694c6c2e-b048-4b5d-f38d-4b8c017fbfce"
   },
   "outputs": [
    {
     "name": "stdout",
     "output_type": "stream",
     "text": [
      "Model: \"sequential\"\n",
      "_________________________________________________________________\n",
      " Layer (type)                Output Shape              Param #   \n",
      "=================================================================\n",
      " dense (Dense)               (None, 9)                 90        \n",
      "                                                                 \n",
      " dense_1 (Dense)             (None, 7)                 70        \n",
      "                                                                 \n",
      " dense_2 (Dense)             (None, 14)                112       \n",
      "                                                                 \n",
      " dense_3 (Dense)             (None, 14)                210       \n",
      "                                                                 \n",
      " dense_4 (Dense)             (None, 11)                165       \n",
      "                                                                 \n",
      " dense_5 (Dense)             (None, 2)                 24        \n",
      "                                                                 \n",
      " dense_6 (Dense)             (None, 9)                 27        \n",
      "                                                                 \n",
      " dense_7 (Dense)             (None, 14)                140       \n",
      "                                                                 \n",
      " dense_8 (Dense)             (None, 1)                 15        \n",
      "                                                                 \n",
      "=================================================================\n",
      "Total params: 853 (3.33 KB)\n",
      "Trainable params: 853 (3.33 KB)\n",
      "Non-trainable params: 0 (0.00 Byte)\n",
      "_________________________________________________________________\n"
     ]
    }
   ],
   "source": [
    "best_model = best_models_list[0]\n",
    "best_model.summary()"
   ]
  },
  {
   "cell_type": "code",
   "execution_count": 51,
   "metadata": {
    "colab": {
     "base_uri": "https://localhost:8080/",
     "height": 1000
    },
    "executionInfo": {
     "elapsed": 1417,
     "status": "ok",
     "timestamp": 1697075276488,
     "user": {
      "displayName": "Velocity Data Science",
      "userId": "12853793230690412689"
     },
     "user_tz": -330
    },
    "id": "-HaMl9Nzf1Ow",
    "outputId": "0197ba45-edf6-4e2c-ea36-2a13bad125db"
   },
   "outputs": [
    {
     "data": {
      "image/png": "[encoded data removed]",
      "text/plain": [
       "<IPython.core.display.Image object>"
      ]
     },
     "execution_count": 51,
     "metadata": {},
     "output_type": "execute_result"
    }
   ],
   "source": [
    "plot_model(\n",
    "        best_model,\n",
    "        show_dtype = True,\n",
    "        show_shapes = True,\n",
    "        show_layer_names = True,\n",
    "        show_layer_activations = True\n",
    ")"
   ]
  },
  {
   "cell_type": "code",
   "execution_count": 52,
   "metadata": {
    "colab": {
     "base_uri": "https://localhost:8080/"
    },
    "executionInfo": {
     "elapsed": 1756,
     "status": "ok",
     "timestamp": 1697075364222,
     "user": {
      "displayName": "Velocity Data Science",
      "userId": "12853793230690412689"
     },
     "user_tz": -330
    },
    "id": "YYz-fdBTf1Py",
    "outputId": "a8880e42-6892-49fe-caaf-8f9b4019eacf"
   },
   "outputs": [
    {
     "name": "stdout",
     "output_type": "stream",
     "text": [
      "27/27 [==============================] - 1s 6ms/step - loss: 0.4079 - accuracy: 0.8770 - precision: 0.8322 - recall: 0.8041\n"
     ]
    },
    {
     "data": {
      "text/plain": [
       "[0.40790995955467224,\n",
       " 0.8770301342010498,\n",
       " 0.8321678042411804,\n",
       " 0.8040540814399719]"
      ]
     },
     "execution_count": 52,
     "metadata": {},
     "output_type": "execute_result"
    }
   ],
   "source": [
    "best_model.evaluate(x_train_scaled,\n",
    "                    y_train,\n",
    "                    batch_size = 16)"
   ]
  },
  {
   "cell_type": "code",
   "execution_count": 53,
   "metadata": {
    "executionInfo": {
     "elapsed": 429,
     "status": "ok",
     "timestamp": 1697075508019,
     "user": {
      "displayName": "Velocity Data Science",
      "userId": "12853793230690412689"
     },
     "user_tz": -330
    },
    "id": "kEQIfBW0f1Qv"
   },
   "outputs": [],
   "source": [
    "import pickle\n",
    "\n",
    "filename = \"trained_model.sav\"\n",
    "pickle.dump(best_model,open(filename,\"wb\"))\n",
    "\n",
    "filename_sc = \"scaler.pkl\"\n",
    "pickle.dump(scaler,open(filename_sc,\"wb\"))"
   ]
  },
  {
   "cell_type": "code",
   "execution_count": 54,
   "metadata": {
    "colab": {
     "base_uri": "https://localhost:8080/"
    },
    "executionInfo": {
     "elapsed": 416,
     "status": "ok",
     "timestamp": 1697075591781,
     "user": {
      "displayName": "Velocity Data Science",
      "userId": "12853793230690412689"
     },
     "user_tz": -330
    },
    "id": "EzZdgG7Uf1SE",
    "outputId": "587e5d1c-4a32-4cbe-de1b-6c9af655a75a"
   },
   "outputs": [
    {
     "name": "stderr",
     "output_type": "stream",
     "text": [
      "WARNING:absl:Skipping variable loading for optimizer 'Adam', because it has 37 variables whereas the saved optimizer has 1 variables. \n"
     ]
    }
   ],
   "source": [
    "# loading the model\n",
    "\n",
    "loaded_model = pickle.load(open(\"/content/trained_model.sav\",\"rb\"))\n",
    "\n",
    "loaded_scaler = pickle.load(open(\"/content/scaler.pkl\",\"rb\"))"
   ]
  },
  {
   "cell_type": "code",
   "execution_count": 55,
   "metadata": {
    "colab": {
     "base_uri": "https://localhost:8080/",
     "height": 206
    },
    "executionInfo": {
     "elapsed": 18,
     "status": "ok",
     "timestamp": 1697075797809,
     "user": {
      "displayName": "Velocity Data Science",
      "userId": "12853793230690412689"
     },
     "user_tz": -330
    },
    "id": "Ryy9y8swmW_K",
    "outputId": "e8b1b7b3-fdec-4a72-c4e0-cf34be923a81"
   },
   "outputs": [
    {
     "data": {
      "text/html": [
       "\n",
       "  <div id=\"df-a91e6c1f-fca6-4741-b3c9-0a6a1e898244\" class=\"colab-df-container\">\n",
       "    <div>\n",
       "<style scoped>\n",
       "    .dataframe tbody tr th:only-of-type {\n",
       "        vertical-align: middle;\n",
       "    }\n",
       "\n",
       "    .dataframe tbody tr th {\n",
       "        vertical-align: top;\n",
       "    }\n",
       "\n",
       "    .dataframe thead th {\n",
       "        text-align: right;\n",
       "    }\n",
       "</style>\n",
       "<table border=\"1\" class=\"dataframe\">\n",
       "  <thead>\n",
       "    <tr style=\"text-align: right;\">\n",
       "      <th></th>\n",
       "      <th>hair_growth(Y/N)</th>\n",
       "      <th>Follicle_No._(R)</th>\n",
       "      <th>BMI</th>\n",
       "      <th>Avg._F_size_(R)_(mm)</th>\n",
       "      <th>PRL(ng/mL)</th>\n",
       "      <th>Fast_food_(Y/N)</th>\n",
       "      <th>Weight_gain(Y/N)</th>\n",
       "      <th>I___beta-HCG(mIU/mL)</th>\n",
       "      <th>Pulse_rate(bpm)</th>\n",
       "    </tr>\n",
       "  </thead>\n",
       "  <tbody>\n",
       "    <tr>\n",
       "      <th>463</th>\n",
       "      <td>1</td>\n",
       "      <td>1</td>\n",
       "      <td>17.600000</td>\n",
       "      <td>18.0</td>\n",
       "      <td>22.61</td>\n",
       "      <td>1.0</td>\n",
       "      <td>0</td>\n",
       "      <td>152.90</td>\n",
       "      <td>78</td>\n",
       "    </tr>\n",
       "    <tr>\n",
       "      <th>232</th>\n",
       "      <td>1</td>\n",
       "      <td>14</td>\n",
       "      <td>20.957171</td>\n",
       "      <td>18.0</td>\n",
       "      <td>28.85</td>\n",
       "      <td>1.0</td>\n",
       "      <td>0</td>\n",
       "      <td>451.96</td>\n",
       "      <td>72</td>\n",
       "    </tr>\n",
       "    <tr>\n",
       "      <th>447</th>\n",
       "      <td>0</td>\n",
       "      <td>11</td>\n",
       "      <td>24.500000</td>\n",
       "      <td>19.0</td>\n",
       "      <td>31.47</td>\n",
       "      <td>1.0</td>\n",
       "      <td>0</td>\n",
       "      <td>30007.00</td>\n",
       "      <td>72</td>\n",
       "    </tr>\n",
       "    <tr>\n",
       "      <th>450</th>\n",
       "      <td>1</td>\n",
       "      <td>16</td>\n",
       "      <td>24.600000</td>\n",
       "      <td>14.0</td>\n",
       "      <td>25.61</td>\n",
       "      <td>1.0</td>\n",
       "      <td>1</td>\n",
       "      <td>53.51</td>\n",
       "      <td>80</td>\n",
       "    </tr>\n",
       "    <tr>\n",
       "      <th>449</th>\n",
       "      <td>0</td>\n",
       "      <td>8</td>\n",
       "      <td>24.900000</td>\n",
       "      <td>17.0</td>\n",
       "      <td>33.23</td>\n",
       "      <td>1.0</td>\n",
       "      <td>0</td>\n",
       "      <td>294.06</td>\n",
       "      <td>72</td>\n",
       "    </tr>\n",
       "  </tbody>\n",
       "</table>\n",
       "</div>\n",
       "    <div class=\"colab-df-buttons\">\n",
       "\n",
       "  <div class=\"colab-df-container\">\n",
       "    <button class=\"colab-df-convert\" onclick=\"convertToInteractive('df-a91e6c1f-fca6-4741-b3c9-0a6a1e898244')\"\n",
       "            title=\"Convert this dataframe to an interactive table.\"\n",
       "            style=\"display:none;\">\n",
       "\n",
       "  <svg xmlns=\"http://www.w3.org/2000/svg\" height=\"24px\" viewBox=\"0 -960 960 960\">\n",
       "    <path d=\"M120-120v-720h720v720H120Zm60-500h600v-160H180v160Zm220 220h160v-160H400v160Zm0 220h160v-160H400v160ZM180-400h160v-160H180v160Zm440 0h160v-160H620v160ZM180-180h160v-160H180v160Zm440 0h160v-160H620v160Z\"/>\n",
       "  </svg>\n",
       "    </button>\n",
       "\n",
       "  <style>\n",
       "    .colab-df-container {\n",
       "      display:flex;\n",
       "      gap: 12px;\n",
       "    }\n",
       "\n",
       "    .colab-df-convert {\n",
       "      background-color: #E8F0FE;\n",
       "      border: none;\n",
       "      border-radius: 50%;\n",
       "      cursor: pointer;\n",
       "      display: none;\n",
       "      fill: #1967D2;\n",
       "      height: 32px;\n",
       "      padding: 0 0 0 0;\n",
       "      width: 32px;\n",
       "    }\n",
       "\n",
       "    .colab-df-convert:hover {\n",
       "      background-color: #E2EBFA;\n",
       "      box-shadow: 0px 1px 2px rgba(60, 64, 67, 0.3), 0px 1px 3px 1px rgba(60, 64, 67, 0.15);\n",
       "      fill: #174EA6;\n",
       "    }\n",
       "\n",
       "    .colab-df-buttons div {\n",
       "      margin-bottom: 4px;\n",
       "    }\n",
       "\n",
       "    [theme=dark] .colab-df-convert {\n",
       "      background-color: #3B4455;\n",
       "      fill: #D2E3FC;\n",
       "    }\n",
       "\n",
       "    [theme=dark] .colab-df-convert:hover {\n",
       "      background-color: #434B5C;\n",
       "      box-shadow: 0px 1px 3px 1px rgba(0, 0, 0, 0.15);\n",
       "      filter: drop-shadow(0px 1px 2px rgba(0, 0, 0, 0.3));\n",
       "      fill: #FFFFFF;\n",
       "    }\n",
       "  </style>\n",
       "\n",
       "    <script>\n",
       "      const buttonEl =\n",
       "        document.querySelector('#df-a91e6c1f-fca6-4741-b3c9-0a6a1e898244 button.colab-df-convert');\n",
       "      buttonEl.style.display =\n",
       "        google.colab.kernel.accessAllowed ? 'block' : 'none';\n",
       "\n",
       "      async function convertToInteractive(key) {\n",
       "        const element = document.querySelector('#df-a91e6c1f-fca6-4741-b3c9-0a6a1e898244');\n",
       "        const dataTable =\n",
       "          await google.colab.kernel.invokeFunction('convertToInteractive',\n",
       "                                                    [key], {});\n",
       "        if (!dataTable) return;\n",
       "\n",
       "        const docLinkHtml = 'Like what you see? Visit the ' +\n",
       "          '<a target=\"_blank\" href=https://colab.research.google.com/notebooks/data_table.ipynb>data table notebook</a>'\n",
       "          + ' to learn more about interactive tables.';\n",
       "        element.innerHTML = '';\n",
       "        dataTable['output_type'] = 'display_data';\n",
       "        await google.colab.output.renderOutput(dataTable, element);\n",
       "        const docLink = document.createElement('div');\n",
       "        docLink.innerHTML = docLinkHtml;\n",
       "        element.appendChild(docLink);\n",
       "      }\n",
       "    </script>\n",
       "  </div>\n",
       "\n",
       "\n",
       "<div id=\"df-930d2a1b-6a1c-4e0a-a1d4-a90483a7c308\">\n",
       "  <button class=\"colab-df-quickchart\" onclick=\"quickchart('df-930d2a1b-6a1c-4e0a-a1d4-a90483a7c308')\"\n",
       "            title=\"Suggest charts.\"\n",
       "            style=\"display:none;\">\n",
       "\n",
       "<svg xmlns=\"http://www.w3.org/2000/svg\" height=\"24px\"viewBox=\"0 0 24 24\"\n",
       "     width=\"24px\">\n",
       "    <g>\n",
       "        <path d=\"M19 3H5c-1.1 0-2 .9-2 2v14c0 1.1.9 2 2 2h14c1.1 0 2-.9 2-2V5c0-1.1-.9-2-2-2zM9 17H7v-7h2v7zm4 0h-2V7h2v10zm4 0h-2v-4h2v4z\"/>\n",
       "    </g>\n",
       "</svg>\n",
       "  </button>\n",
       "\n",
       "<style>\n",
       "  .colab-df-quickchart {\n",
       "      --bg-color: #E8F0FE;\n",
       "      --fill-color: #1967D2;\n",
       "      --hover-bg-color: #E2EBFA;\n",
       "      --hover-fill-color: #174EA6;\n",
       "      --disabled-fill-color: #AAA;\n",
       "      --disabled-bg-color: #DDD;\n",
       "  }\n",
       "\n",
       "  [theme=dark] .colab-df-quickchart {\n",
       "      --bg-color: #3B4455;\n",
       "      --fill-color: #D2E3FC;\n",
       "      --hover-bg-color: #434B5C;\n",
       "      --hover-fill-color: #FFFFFF;\n",
       "      --disabled-bg-color: #3B4455;\n",
       "      --disabled-fill-color: #666;\n",
       "  }\n",
       "\n",
       "  .colab-df-quickchart {\n",
       "    background-color: var(--bg-color);\n",
       "    border: none;\n",
       "    border-radius: 50%;\n",
       "    cursor: pointer;\n",
       "    display: none;\n",
       "    fill: var(--fill-color);\n",
       "    height: 32px;\n",
       "    padding: 0;\n",
       "    width: 32px;\n",
       "  }\n",
       "\n",
       "  .colab-df-quickchart:hover {\n",
       "    background-color: var(--hover-bg-color);\n",
       "    box-shadow: 0 1px 2px rgba(60, 64, 67, 0.3), 0 1px 3px 1px rgba(60, 64, 67, 0.15);\n",
       "    fill: var(--button-hover-fill-color);\n",
       "  }\n",
       "\n",
       "  .colab-df-quickchart-complete:disabled,\n",
       "  .colab-df-quickchart-complete:disabled:hover {\n",
       "    background-color: var(--disabled-bg-color);\n",
       "    fill: var(--disabled-fill-color);\n",
       "    box-shadow: none;\n",
       "  }\n",
       "\n",
       "  .colab-df-spinner {\n",
       "    border: 2px solid var(--fill-color);\n",
       "    border-color: transparent;\n",
       "    border-bottom-color: var(--fill-color);\n",
       "    animation:\n",
       "      spin 1s steps(1) infinite;\n",
       "  }\n",
       "\n",
       "  @keyframes spin {\n",
       "    0% {\n",
       "      border-color: transparent;\n",
       "      border-bottom-color: var(--fill-color);\n",
       "      border-left-color: var(--fill-color);\n",
       "    }\n",
       "    20% {\n",
       "      border-color: transparent;\n",
       "      border-left-color: var(--fill-color);\n",
       "      border-top-color: var(--fill-color);\n",
       "    }\n",
       "    30% {\n",
       "      border-color: transparent;\n",
       "      border-left-color: var(--fill-color);\n",
       "      border-top-color: var(--fill-color);\n",
       "      border-right-color: var(--fill-color);\n",
       "    }\n",
       "    40% {\n",
       "      border-color: transparent;\n",
       "      border-right-color: var(--fill-color);\n",
       "      border-top-color: var(--fill-color);\n",
       "    }\n",
       "    60% {\n",
       "      border-color: transparent;\n",
       "      border-right-color: var(--fill-color);\n",
       "    }\n",
       "    80% {\n",
       "      border-color: transparent;\n",
       "      border-right-color: var(--fill-color);\n",
       "      border-bottom-color: var(--fill-color);\n",
       "    }\n",
       "    90% {\n",
       "      border-color: transparent;\n",
       "      border-bottom-color: var(--fill-color);\n",
       "    }\n",
       "  }\n",
       "</style>\n",
       "\n",
       "  <script>\n",
       "    async function quickchart(key) {\n",
       "      const quickchartButtonEl =\n",
       "        document.querySelector('#' + key + ' button');\n",
       "      quickchartButtonEl.disabled = true;  // To prevent multiple clicks.\n",
       "      quickchartButtonEl.classList.add('colab-df-spinner');\n",
       "      try {\n",
       "        const charts = await google.colab.kernel.invokeFunction(\n",
       "            'suggestCharts', [key], {});\n",
       "      } catch (error) {\n",
       "        console.error('Error during call to suggestCharts:', error);\n",
       "      }\n",
       "      quickchartButtonEl.classList.remove('colab-df-spinner');\n",
       "      quickchartButtonEl.classList.add('colab-df-quickchart-complete');\n",
       "    }\n",
       "    (() => {\n",
       "      let quickchartButtonEl =\n",
       "        document.querySelector('#df-930d2a1b-6a1c-4e0a-a1d4-a90483a7c308 button');\n",
       "      quickchartButtonEl.style.display =\n",
       "        google.colab.kernel.accessAllowed ? 'block' : 'none';\n",
       "    })();\n",
       "  </script>\n",
       "</div>\n",
       "    </div>\n",
       "  </div>\n"
      ],
      "text/plain": [
       "     hair_growth(Y/N)  Follicle_No._(R)        BMI  Avg._F_size_(R)_(mm)  \\\n",
       "463                 1                 1  17.600000                  18.0   \n",
       "232                 1                14  20.957171                  18.0   \n",
       "447                 0                11  24.500000                  19.0   \n",
       "450                 1                16  24.600000                  14.0   \n",
       "449                 0                 8  24.900000                  17.0   \n",
       "\n",
       "     PRL(ng/mL)  Fast_food_(Y/N)  Weight_gain(Y/N)  I___beta-HCG(mIU/mL)  \\\n",
       "463       22.61              1.0                 0                152.90   \n",
       "232       28.85              1.0                 0                451.96   \n",
       "447       31.47              1.0                 0              30007.00   \n",
       "450       25.61              1.0                 1                 53.51   \n",
       "449       33.23              1.0                 0                294.06   \n",
       "\n",
       "     Pulse_rate(bpm)  \n",
       "463               78  \n",
       "232               72  \n",
       "447               72  \n",
       "450               80  \n",
       "449               72  "
      ]
     },
     "execution_count": 55,
     "metadata": {},
     "output_type": "execute_result"
    }
   ],
   "source": [
    "x_train.head()"
   ]
  },
  {
   "cell_type": "code",
   "execution_count": 56,
   "metadata": {
    "colab": {
     "base_uri": "https://localhost:8080/"
    },
    "executionInfo": {
     "elapsed": 716,
     "status": "ok",
     "timestamp": 1697075833823,
     "user": {
      "displayName": "Velocity Data Science",
      "userId": "12853793230690412689"
     },
     "user_tz": -330
    },
    "id": "4dl_fBTYf1TN",
    "outputId": "571c93f7-09ac-4904-d749-329422e0a8bb"
   },
   "outputs": [
    {
     "name": "stderr",
     "output_type": "stream",
     "text": [
      "/usr/local/lib/python3.10/dist-packages/sklearn/base.py:439: UserWarning: X does not have valid feature names, but StandardScaler was fitted with feature names\n",
      "  warnings.warn(\n"
     ]
    },
    {
     "name": "stdout",
     "output_type": "stream",
     "text": [
      "1/1 [==============================] - 0s 161ms/step\n",
      "THE WOMEN IS NOT SUFFERING FROM PCOS\n"
     ]
    }
   ],
   "source": [
    "input_data = (1,1,17.60,18,22.61,1,0,152.90,78)\n",
    "\n",
    "input_data = np.asarray(input_data)\n",
    "\n",
    "input_data_reshape = input_data.reshape(1,-1)\n",
    "\n",
    "x_test_scaling= loaded_scaler.transform(input_data_reshape)\n",
    "\n",
    "prediction = loaded_model.predict(x_test_scaling)\n",
    "\n",
    "y_pred = np.where(prediction > 0.5,1,0)\n",
    "\n",
    "if y_pred[0][0] ==1 :\n",
    "  print(\"the women is suffering from pcos\".upper())\n",
    "else:\n",
    "  print(\"the women is not suffering from pcos\".upper())"
   ]
  },
  {
   "cell_type": "code",
   "execution_count": 62,
   "metadata": {
    "colab": {
     "base_uri": "https://localhost:8080/"
    },
    "executionInfo": {
     "elapsed": 7508,
     "status": "ok",
     "timestamp": 1697076718243,
     "user": {
      "displayName": "Velocity Data Science",
      "userId": "12853793230690412689"
     },
     "user_tz": -330
    },
    "id": "WIl7HVF2f1WT",
    "outputId": "f40592e8-1681-4272-f6f1-82247cf8347b"
   },
   "outputs": [
    {
     "name": "stdout",
     "output_type": "stream",
     "text": [
      "\u001b[2K     \u001b[90m━━━━━━━━━━━━━━━━━━━━━━━━━━━━━━━━━━━━━━━━\u001b[0m \u001b[32m7.6/7.6 MB\u001b[0m \u001b[31m65.6 MB/s\u001b[0m eta \u001b[36m0:00:00\u001b[0m\n",
      "\u001b[2K     \u001b[90m━━━━━━━━━━━━━━━━━━━━━━━━━━━━━━━━━━━━━━\u001b[0m \u001b[32m190.0/190.0 kB\u001b[0m \u001b[31m21.2 MB/s\u001b[0m eta \u001b[36m0:00:00\u001b[0m\n",
      "\u001b[2K     \u001b[90m━━━━━━━━━━━━━━━━━━━━━━━━━━━━━━━━━━━━━━━━\u001b[0m \u001b[32m4.8/4.8 MB\u001b[0m \u001b[31m87.4 MB/s\u001b[0m eta \u001b[36m0:00:00\u001b[0m\n",
      "\u001b[2K     \u001b[90m━━━━━━━━━━━━━━━━━━━━━━━━━━━━━━━━━━━━━━━━\u001b[0m \u001b[32m82.1/82.1 kB\u001b[0m \u001b[31m11.0 MB/s\u001b[0m eta \u001b[36m0:00:00\u001b[0m\n",
      "\u001b[2K     \u001b[90m━━━━━━━━━━━━━━━━━━━━━━━━━━━━━━━━━━━━━━━━\u001b[0m \u001b[32m62.7/62.7 kB\u001b[0m \u001b[31m7.7 MB/s\u001b[0m eta \u001b[36m0:00:00\u001b[0m\n",
      "\u001b[?25h"
     ]
    }
   ],
   "source": [
    "!pip install -q streamlit"
   ]
  },
  {
   "cell_type": "code",
   "execution_count": 63,
   "metadata": {
    "colab": {
     "base_uri": "https://localhost:8080/"
    },
    "executionInfo": {
     "elapsed": 14,
     "status": "ok",
     "timestamp": 1697076718243,
     "user": {
      "displayName": "Velocity Data Science",
      "userId": "12853793230690412689"
     },
     "user_tz": -330
    },
    "id": "hh0x0-w4mpS1",
    "outputId": "a3b6812b-1867-43d6-8e0c-1b30e08caf8a"
   },
   "outputs": [
    {
     "name": "stdout",
     "output_type": "stream",
     "text": [
      "Writing app.py\n"
     ]
    }
   ],
   "source": [
    "%%writefile app.py\n",
    "\n",
    "import numpy as np\n",
    "import pandas as pd\n",
    "import streamlit as st\n",
    "import pickle\n",
    "\n",
    "# loading the model\n",
    "loaded_model = pickle.load(open(\"/content/trained_model.sav\",\"rb\"))\n",
    "\n",
    "# loading the scler object\n",
    "loaded_scaler = pickle.load(open(\"/content/scaler.pkl\",\"rb\"))\n",
    "\n",
    "\n",
    "def pcos_prediction(input_data):\n",
    "\n",
    "  input_data = np.asarray(input_data)\n",
    "\n",
    "  input_data_reshape = input_data.reshape(1,-1)\n",
    "\n",
    "  x_test_scaling= loaded_scaler.transform(input_data_reshape)\n",
    "\n",
    "  prediction = loaded_model.predict(x_test_scaling)\n",
    "\n",
    "  y_pred = np.where(prediction > 0.5,1,0)\n",
    "\n",
    "  if y_pred[0][0] ==1 :\n",
    "    print(\"the women is suffering from pcos\".upper())\n",
    "    st.text(\"the women is suffering from pcos\".upper())\n",
    "  else:\n",
    "    print(\"the women is not suffering from pcos\".upper())\n",
    "    st.text(\"the women is not suffering from pcos\".upper())\n",
    "\n",
    "\n",
    "def main():\n",
    "\n",
    "  # giving the title for project\n",
    "  st.title(\"PCOS Prediction Web Application\")\n",
    "\n",
    "  # getting the input from web page\n",
    "\n",
    "  hair_growth = st.text_input(\"Hair_Growth(Y/N)\")\n",
    "  follicle_no_r = st.text_input(\"Follicle_No._(R)\")\n",
    "  bmi = st.text_input(\"BMI\")\n",
    "  avg_f_size_r = st.text_input(\"Avg._F_size_(R)_(mm)\")\n",
    "  prl = st.text_input(\"PRL(ng/mL)\")\n",
    "  fast_food = st.text_input(\"Fast_food_(Y/N)\")\n",
    "  weight_gain = st.text_input(\"Weight_gain(Y/N)\")\n",
    "  i_beta_hcg = st.text_input(\"I___beta-HCG(mIU/mL)\")\n",
    "  pulse_rate = st.text_input(\"Pulse_rate(bpm)\")\n",
    "\n",
    "  diagnosis = \"\"\n",
    "\n",
    "  # creating the button\n",
    "  if st.button(\"PCOS Test Result\"):\n",
    "    diagnosis = pcos_prediction([hair_growth,follicle_no_r,bmi,avg_f_size_r,prl,fast_food,weight_gain,i_beta_hcg,pulse_rate])\n",
    "\n",
    "  st.success(diagnosis)\n",
    "\n",
    "\n",
    "if __name__ == '__main__':\n",
    "  main()\n"
   ]
  },
  {
   "cell_type": "code",
   "execution_count": 64,
   "metadata": {
    "colab": {
     "base_uri": "https://localhost:8080/"
    },
    "executionInfo": {
     "elapsed": 9,
     "status": "ok",
     "timestamp": 1697076718243,
     "user": {
      "displayName": "Velocity Data Science",
      "userId": "12853793230690412689"
     },
     "user_tz": -330
    },
    "id": "QdtjeVtfmpUL",
    "outputId": "fb8867ef-40d5-43e8-bade-623cd2f048b3"
   },
   "outputs": [
    {
     "data": {
      "text/plain": [
       "Index(['hair_growth(Y/N)', 'Follicle_No._(R)', 'BMI', 'Avg._F_size_(R)_(mm)',\n",
       "       'PRL(ng/mL)', 'Fast_food_(Y/N)', 'Weight_gain(Y/N)',\n",
       "       'I___beta-HCG(mIU/mL)', 'Pulse_rate(bpm)'],\n",
       "      dtype='object')"
      ]
     },
     "execution_count": 64,
     "metadata": {},
     "output_type": "execute_result"
    }
   ],
   "source": [
    "x.columns"
   ]
  },
  {
   "cell_type": "code",
   "execution_count": 65,
   "metadata": {
    "colab": {
     "base_uri": "https://localhost:8080/"
    },
    "executionInfo": {
     "elapsed": 4365,
     "status": "ok",
     "timestamp": 1697076797924,
     "user": {
      "displayName": "Velocity Data Science",
      "userId": "12853793230690412689"
     },
     "user_tz": -330
    },
    "id": "p188eaSompVo",
    "outputId": "b6f53b81-063f-4bf7-b718-1f8c9117454e"
   },
   "outputs": [
    {
     "name": "stdout",
     "output_type": "stream",
     "text": [
      "Collecting pyngrok\n",
      "  Downloading pyngrok-7.0.0.tar.gz (718 kB)\n",
      "\u001b[?25l     \u001b[90m━━━━━━━━━━━━━━━━━━━━━━━━━━━━━━━━━━━━━━━━\u001b[0m \u001b[32m0.0/718.7 kB\u001b[0m \u001b[31m?\u001b[0m eta \u001b[36m-:--:--\u001b[0m\r",
      "\u001b[2K     \u001b[91m━━━━━━━━━━━━━\u001b[0m\u001b[91m╸\u001b[0m\u001b[90m━━━━━━━━━━━━━━━━━━━━━━━━━\u001b[0m \u001b[32m256.0/718.7 kB\u001b[0m \u001b[31m7.4 MB/s\u001b[0m eta \u001b[36m0:00:01\u001b[0m\r",
      "\u001b[2K     \u001b[90m━━━━━━━━━━━━━━━━━━━━━━━━━━━━━━━━━━━━━━\u001b[0m \u001b[32m718.7/718.7 kB\u001b[0m \u001b[31m10.9 MB/s\u001b[0m eta \u001b[36m0:00:00\u001b[0m\n",
      "\u001b[?25h  Preparing metadata (setup.py) ... \u001b[?25l\u001b[?25hdone\n",
      "Requirement already satisfied: PyYAML in /usr/local/lib/python3.10/dist-packages (from pyngrok) (6.0.1)\n",
      "Building wheels for collected packages: pyngrok\n",
      "  Building wheel for pyngrok (setup.py) ... \u001b[?25l\u001b[?25hdone\n",
      "  Created wheel for pyngrok: filename=pyngrok-7.0.0-py3-none-any.whl size=21129 sha256=fecfb4861d735ba88f039be767695987955b757a2ee4974416ac3ca11233ee0f\n",
      "  Stored in directory: /root/.cache/pip/wheels/60/29/7b/f64332aa7e5e88fbd56d4002185ae22dcdc83b35b3d1c2cbf5\n",
      "Successfully built pyngrok\n",
      "Installing collected packages: pyngrok\n",
      "Successfully installed pyngrok-7.0.0\n"
     ]
    }
   ],
   "source": [
    "pip install pyngrok"
   ]
  },
  {
   "cell_type": "code",
   "execution_count": 66,
   "metadata": {
    "colab": {
     "base_uri": "https://localhost:8080/"
    },
    "executionInfo": {
     "elapsed": 4576,
     "status": "ok",
     "timestamp": 1697076802487,
     "user": {
      "displayName": "Velocity Data Science",
      "userId": "12853793230690412689"
     },
     "user_tz": -330
    },
    "id": "J7hDGzfimpY-",
    "outputId": "c08bc11e-f98f-41b8-92a4-cc24957b0bf8"
   },
   "outputs": [
    {
     "name": "stdout",
     "output_type": "stream",
     "text": [
      "Requirement already satisfied: protobuf==3.20.* in /usr/local/lib/python3.10/dist-packages (3.20.3)\n"
     ]
    }
   ],
   "source": [
    "pip install protobuf==3.20.*"
   ]
  },
  {
   "cell_type": "code",
   "execution_count": 67,
   "metadata": {
    "colab": {
     "base_uri": "https://localhost:8080/",
     "height": 1000
    },
    "executionInfo": {
     "elapsed": 15463,
     "status": "ok",
     "timestamp": 1697076817935,
     "user": {
      "displayName": "Velocity Data Science",
      "userId": "12853793230690412689"
     },
     "user_tz": -330
    },
    "id": "OcDrp7C2mpbG",
    "outputId": "210950dc-da05-471f-9eee-3be0b21893bd"
   },
   "outputs": [
    {
     "name": "stdout",
     "output_type": "stream",
     "text": [
      "Collecting google-cloud-logging==3.1.1\n",
      "  Downloading google_cloud_logging-3.1.1-py2.py3-none-any.whl (188 kB)\n",
      "\u001b[2K     \u001b[90m━━━━━━━━━━━━━━━━━━━━━━━━━━━━━━━━━━━━━━━\u001b[0m \u001b[32m188.7/188.7 kB\u001b[0m \u001b[31m5.0 MB/s\u001b[0m eta \u001b[36m0:00:00\u001b[0m\n",
      "\u001b[?25hCollecting protobuf==4.21.0\n",
      "  Downloading protobuf-4.21.0-cp37-abi3-manylinux2014_x86_64.whl (407 kB)\n",
      "\u001b[2K     \u001b[90m━━━━━━━━━━━━━━━━━━━━━━━━━━━━━━━━━━━━━━\u001b[0m \u001b[32m407.6/407.6 kB\u001b[0m \u001b[31m13.5 MB/s\u001b[0m eta \u001b[36m0:00:00\u001b[0m\n",
      "\u001b[?25hRequirement already satisfied: google-api-core[grpc]!=2.0.*,!=2.1.*,!=2.2.*,!=2.3.0,<3.0.0dev,>=1.31.5 in /usr/local/lib/python3.10/dist-packages (from google-cloud-logging==3.1.1) (2.11.1)\n",
      "Collecting google-cloud-appengine-logging<2.0.0dev,>=0.1.0 (from google-cloud-logging==3.1.1)\n",
      "  Downloading google_cloud_appengine_logging-1.3.2-py2.py3-none-any.whl (16 kB)\n",
      "Collecting google-cloud-audit-log<1.0.0dev,>=0.1.0 (from google-cloud-logging==3.1.1)\n",
      "  Downloading google_cloud_audit_log-0.2.5-py2.py3-none-any.whl (12 kB)\n",
      "Requirement already satisfied: google-cloud-core<3.0.0dev,>=1.4.1 in /usr/local/lib/python3.10/dist-packages (from google-cloud-logging==3.1.1) (2.3.3)\n",
      "Requirement already satisfied: grpc-google-iam-v1<0.13dev,>=0.12.3 in /usr/local/lib/python3.10/dist-packages (from google-cloud-logging==3.1.1) (0.12.6)\n",
      "Requirement already satisfied: proto-plus>=1.15.0 in /usr/local/lib/python3.10/dist-packages (from google-cloud-logging==3.1.1) (1.22.3)\n",
      "Requirement already satisfied: googleapis-common-protos<2.0.dev0,>=1.56.2 in /usr/local/lib/python3.10/dist-packages (from google-api-core[grpc]!=2.0.*,!=2.1.*,!=2.2.*,!=2.3.0,<3.0.0dev,>=1.31.5->google-cloud-logging==3.1.1) (1.60.0)\n",
      "INFO: pip is looking at multiple versions of google-api-core[grpc] to determine which version is compatible with other requirements. This could take a while.\n",
      "Collecting google-api-core[grpc]!=2.0.*,!=2.1.*,!=2.2.*,!=2.3.0,<3.0.0dev,>=1.31.5 (from google-cloud-logging==3.1.1)\n",
      "  Downloading google_api_core-2.12.0-py3-none-any.whl (121 kB)\n",
      "\u001b[2K     \u001b[90m━━━━━━━━━━━━━━━━━━━━━━━━━━━━━━━━━━━━━━\u001b[0m \u001b[32m121.4/121.4 kB\u001b[0m \u001b[31m14.9 MB/s\u001b[0m eta \u001b[36m0:00:00\u001b[0m\n",
      "\u001b[?25h  Downloading google_api_core-2.11.0-py3-none-any.whl (120 kB)\n",
      "\u001b[2K     \u001b[90m━━━━━━━━━━━━━━━━━━━━━━━━━━━━━━━━━━━━━━━\u001b[0m \u001b[32m120.3/120.3 kB\u001b[0m \u001b[31m9.2 MB/s\u001b[0m eta \u001b[36m0:00:00\u001b[0m\n",
      "\u001b[?25h  Downloading google_api_core-2.10.2-py3-none-any.whl (115 kB)\n",
      "\u001b[2K     \u001b[90m━━━━━━━━━━━━━━━━━━━━━━━━━━━━━━━━━━━━━━━\u001b[0m \u001b[32m115.6/115.6 kB\u001b[0m \u001b[31m9.2 MB/s\u001b[0m eta \u001b[36m0:00:00\u001b[0m\n",
      "\u001b[?25h  Downloading google_api_core-2.10.1-py3-none-any.whl (115 kB)\n",
      "\u001b[2K     \u001b[90m━━━━━━━━━━━━━━━━━━━━━━━━━━━━━━━━━━━━━━━\u001b[0m \u001b[32m115.5/115.5 kB\u001b[0m \u001b[31m8.9 MB/s\u001b[0m eta \u001b[36m0:00:00\u001b[0m\n",
      "\u001b[?25hRequirement already satisfied: google-auth<3.0dev,>=1.25.0 in /usr/local/lib/python3.10/dist-packages (from google-api-core[grpc]!=2.0.*,!=2.1.*,!=2.2.*,!=2.3.0,<3.0.0dev,>=1.31.5->google-cloud-logging==3.1.1) (2.17.3)\n",
      "Requirement already satisfied: requests<3.0.0dev,>=2.18.0 in /usr/local/lib/python3.10/dist-packages (from google-api-core[grpc]!=2.0.*,!=2.1.*,!=2.2.*,!=2.3.0,<3.0.0dev,>=1.31.5->google-cloud-logging==3.1.1) (2.31.0)\n",
      "Requirement already satisfied: grpcio<2.0dev,>=1.33.2 in /usr/local/lib/python3.10/dist-packages (from google-api-core[grpc]!=2.0.*,!=2.1.*,!=2.2.*,!=2.3.0,<3.0.0dev,>=1.31.5->google-cloud-logging==3.1.1) (1.59.0)\n",
      "Requirement already satisfied: grpcio-status<2.0dev,>=1.33.2 in /usr/local/lib/python3.10/dist-packages (from google-api-core[grpc]!=2.0.*,!=2.1.*,!=2.2.*,!=2.3.0,<3.0.0dev,>=1.31.5->google-cloud-logging==3.1.1) (1.48.2)\n",
      "INFO: pip is looking at multiple versions of google-cloud-appengine-logging to determine which version is compatible with other requirements. This could take a while.\n",
      "Collecting google-cloud-appengine-logging<2.0.0dev,>=0.1.0 (from google-cloud-logging==3.1.1)\n",
      "  Downloading google_cloud_appengine_logging-1.3.1-py2.py3-none-any.whl (16 kB)\n",
      "  Downloading google_cloud_appengine_logging-1.3.0-py2.py3-none-any.whl (15 kB)\n",
      "  Downloading google_cloud_appengine_logging-1.2.0-py2.py3-none-any.whl (15 kB)\n",
      "  Downloading google_cloud_appengine_logging-1.1.6-py2.py3-none-any.whl (14 kB)\n",
      "  Downloading google_cloud_appengine_logging-1.1.5-py2.py3-none-any.whl (14 kB)\n",
      "Requirement already satisfied: cachetools<6.0,>=2.0.0 in /usr/local/lib/python3.10/dist-packages (from google-auth<3.0dev,>=1.25.0->google-api-core[grpc]!=2.0.*,!=2.1.*,!=2.2.*,!=2.3.0,<3.0.0dev,>=1.31.5->google-cloud-logging==3.1.1) (5.3.1)\n",
      "Requirement already satisfied: pyasn1-modules>=0.2.1 in /usr/local/lib/python3.10/dist-packages (from google-auth<3.0dev,>=1.25.0->google-api-core[grpc]!=2.0.*,!=2.1.*,!=2.2.*,!=2.3.0,<3.0.0dev,>=1.31.5->google-cloud-logging==3.1.1) (0.3.0)\n",
      "Requirement already satisfied: six>=1.9.0 in /usr/local/lib/python3.10/dist-packages (from google-auth<3.0dev,>=1.25.0->google-api-core[grpc]!=2.0.*,!=2.1.*,!=2.2.*,!=2.3.0,<3.0.0dev,>=1.31.5->google-cloud-logging==3.1.1) (1.16.0)\n",
      "Requirement already satisfied: rsa<5,>=3.1.4 in /usr/local/lib/python3.10/dist-packages (from google-auth<3.0dev,>=1.25.0->google-api-core[grpc]!=2.0.*,!=2.1.*,!=2.2.*,!=2.3.0,<3.0.0dev,>=1.31.5->google-cloud-logging==3.1.1) (4.9)\n",
      "Requirement already satisfied: charset-normalizer<4,>=2 in /usr/local/lib/python3.10/dist-packages (from requests<3.0.0dev,>=2.18.0->google-api-core[grpc]!=2.0.*,!=2.1.*,!=2.2.*,!=2.3.0,<3.0.0dev,>=1.31.5->google-cloud-logging==3.1.1) (3.3.0)\n",
      "Requirement already satisfied: idna<4,>=2.5 in /usr/local/lib/python3.10/dist-packages (from requests<3.0.0dev,>=2.18.0->google-api-core[grpc]!=2.0.*,!=2.1.*,!=2.2.*,!=2.3.0,<3.0.0dev,>=1.31.5->google-cloud-logging==3.1.1) (3.4)\n",
      "Requirement already satisfied: urllib3<3,>=1.21.1 in /usr/local/lib/python3.10/dist-packages (from requests<3.0.0dev,>=2.18.0->google-api-core[grpc]!=2.0.*,!=2.1.*,!=2.2.*,!=2.3.0,<3.0.0dev,>=1.31.5->google-cloud-logging==3.1.1) (2.0.6)\n",
      "Requirement already satisfied: certifi>=2017.4.17 in /usr/local/lib/python3.10/dist-packages (from requests<3.0.0dev,>=2.18.0->google-api-core[grpc]!=2.0.*,!=2.1.*,!=2.2.*,!=2.3.0,<3.0.0dev,>=1.31.5->google-cloud-logging==3.1.1) (2023.7.22)\n",
      "Requirement already satisfied: pyasn1<0.6.0,>=0.4.6 in /usr/local/lib/python3.10/dist-packages (from pyasn1-modules>=0.2.1->google-auth<3.0dev,>=1.25.0->google-api-core[grpc]!=2.0.*,!=2.1.*,!=2.2.*,!=2.3.0,<3.0.0dev,>=1.31.5->google-cloud-logging==3.1.1) (0.5.0)\n",
      "\u001b[33mWARNING: The candidate selected for download or install is a yanked version: 'protobuf' candidate (version 4.21.0 at https://files.pythonhosted.org/packages/9d/82/b3131637daf2a27eab76b0de8e139ecf0f6624832c03531dce8a7d59ddc1/protobuf-4.21.0-cp37-abi3-manylinux2014_x86_64.whl (from https://pypi.org/simple/protobuf/))\n",
      "Reason for being yanked: Required python version not configured correctly (https://github.com/protocolbuffers/protobuf/issues/10076)\u001b[0m\u001b[33m\n",
      "\u001b[0mInstalling collected packages: protobuf, google-cloud-audit-log, google-api-core, google-cloud-appengine-logging, google-cloud-logging\n",
      "  Attempting uninstall: protobuf\n",
      "    Found existing installation: protobuf 3.20.3\n",
      "    Uninstalling protobuf-3.20.3:\n",
      "      Successfully uninstalled protobuf-3.20.3\n",
      "  Attempting uninstall: google-api-core\n",
      "    Found existing installation: google-api-core 2.11.1\n",
      "    Uninstalling google-api-core-2.11.1:\n",
      "      Successfully uninstalled google-api-core-2.11.1\n",
      "\u001b[31mERROR: pip's dependency resolver does not currently take into account all the packages that are installed. This behaviour is the source of the following dependency conflicts.\n",
      "google-cloud-bigquery 3.10.0 requires protobuf!=3.20.0,!=3.20.1,!=4.21.0,!=4.21.1,!=4.21.2,!=4.21.3,!=4.21.4,!=4.21.5,<5.0.0dev,>=3.19.5, but you have protobuf 4.21.0 which is incompatible.\n",
      "google-cloud-bigquery-connection 1.12.1 requires google-api-core[grpc]!=2.0.*,!=2.1.*,!=2.10.*,!=2.2.*,!=2.3.*,!=2.4.*,!=2.5.*,!=2.6.*,!=2.7.*,!=2.8.*,!=2.9.*,<3.0.0dev,>=1.34.0, but you have google-api-core 2.10.1 which is incompatible.\n",
      "google-cloud-bigquery-connection 1.12.1 requires protobuf!=3.20.0,!=3.20.1,!=4.21.0,!=4.21.1,!=4.21.2,!=4.21.3,!=4.21.4,!=4.21.5,<5.0.0dev,>=3.19.5, but you have protobuf 4.21.0 which is incompatible.\n",
      "google-cloud-bigquery-storage 2.22.0 requires google-api-core[grpc]!=2.0.*,!=2.1.*,!=2.10.*,!=2.2.*,!=2.3.*,!=2.4.*,!=2.5.*,!=2.6.*,!=2.7.*,!=2.8.*,!=2.9.*,<3.0.0dev,>=1.34.0, but you have google-api-core 2.10.1 which is incompatible.\n",
      "google-cloud-bigquery-storage 2.22.0 requires protobuf!=3.20.0,!=3.20.1,!=4.21.0,!=4.21.1,!=4.21.2,!=4.21.3,!=4.21.4,!=4.21.5,<5.0.0dev,>=3.19.5, but you have protobuf 4.21.0 which is incompatible.\n",
      "google-cloud-datastore 2.15.2 requires google-api-core[grpc]!=2.0.*,!=2.1.*,!=2.10.*,!=2.2.*,!=2.3.*,!=2.4.*,!=2.5.*,!=2.6.*,!=2.7.*,!=2.8.*,!=2.9.*,<3.0.0dev,>=1.34.0, but you have google-api-core 2.10.1 which is incompatible.\n",
      "google-cloud-datastore 2.15.2 requires protobuf!=3.20.0,!=3.20.1,!=4.21.0,!=4.21.1,!=4.21.2,!=4.21.3,!=4.21.4,!=4.21.5,<5.0.0dev,>=3.19.5, but you have protobuf 4.21.0 which is incompatible.\n",
      "google-cloud-firestore 2.11.1 requires google-api-core[grpc]!=2.0.*,!=2.1.*,!=2.10.*,!=2.2.*,!=2.3.*,!=2.4.*,!=2.5.*,!=2.6.*,!=2.7.*,!=2.8.*,!=2.9.*,<3.0.0dev,>=1.34.0, but you have google-api-core 2.10.1 which is incompatible.\n",
      "google-cloud-firestore 2.11.1 requires protobuf!=3.20.0,!=3.20.1,!=4.21.0,!=4.21.1,!=4.21.2,!=4.21.3,!=4.21.4,!=4.21.5,<5.0.0dev,>=3.19.5, but you have protobuf 4.21.0 which is incompatible.\n",
      "google-cloud-functions 1.13.3 requires google-api-core[grpc]!=2.0.*,!=2.1.*,!=2.10.*,!=2.2.*,!=2.3.*,!=2.4.*,!=2.5.*,!=2.6.*,!=2.7.*,!=2.8.*,!=2.9.*,<3.0.0dev,>=1.34.0, but you have google-api-core 2.10.1 which is incompatible.\n",
      "google-cloud-functions 1.13.3 requires protobuf!=3.20.0,!=3.20.1,!=4.21.0,!=4.21.1,!=4.21.2,!=4.21.3,!=4.21.4,!=4.21.5,<5.0.0dev,>=3.19.5, but you have protobuf 4.21.0 which is incompatible.\n",
      "google-cloud-language 2.9.1 requires google-api-core[grpc]!=2.0.*,!=2.1.*,!=2.10.*,!=2.2.*,!=2.3.*,!=2.4.*,!=2.5.*,!=2.6.*,!=2.7.*,!=2.8.*,!=2.9.*,<3.0.0dev,>=1.34.0, but you have google-api-core 2.10.1 which is incompatible.\n",
      "google-cloud-language 2.9.1 requires protobuf!=3.20.0,!=3.20.1,!=4.21.0,!=4.21.1,!=4.21.2,!=4.21.3,!=4.21.4,!=4.21.5,<5.0.0dev,>=3.19.5, but you have protobuf 4.21.0 which is incompatible.\n",
      "google-cloud-translate 3.11.3 requires google-api-core[grpc]!=2.0.*,!=2.1.*,!=2.10.*,!=2.2.*,!=2.3.*,!=2.4.*,!=2.5.*,!=2.6.*,!=2.7.*,!=2.8.*,!=2.9.*,<3.0.0dev,>=1.34.0, but you have google-api-core 2.10.1 which is incompatible.\n",
      "google-cloud-translate 3.11.3 requires protobuf!=3.20.0,!=3.20.1,!=4.21.0,!=4.21.1,!=4.21.2,!=4.21.3,!=4.21.4,!=4.21.5,<5.0.0dev,>=3.19.5, but you have protobuf 4.21.0 which is incompatible.\n",
      "tensorflow 2.13.0 requires protobuf!=4.21.0,!=4.21.1,!=4.21.2,!=4.21.3,!=4.21.4,!=4.21.5,<5.0.0dev,>=3.20.3, but you have protobuf 4.21.0 which is incompatible.\n",
      "tensorflow-metadata 1.14.0 requires protobuf<4.21,>=3.20.3, but you have protobuf 4.21.0 which is incompatible.\u001b[0m\u001b[31m\n",
      "\u001b[0mSuccessfully installed google-api-core-2.10.1 google-cloud-appengine-logging-1.1.5 google-cloud-audit-log-0.2.5 google-cloud-logging-3.1.1 protobuf-4.21.0\n"
     ]
    },
    {
     "data": {
      "application/vnd.colab-display-data+json": {
       "pip_warning": {
        "packages": [
         "google"
        ]
       }
      }
     },
     "metadata": {},
     "output_type": "display_data"
    }
   ],
   "source": [
    "#docker run -it python:3.10 /bin/bash\n",
    "# Within the Docker container:\n",
    "!pip3 install google-cloud-logging==3.1.1 protobuf==4.21.0\n",
    "!python3 -c \"import google.cloud.logging\""
   ]
  },
  {
   "cell_type": "code",
   "execution_count": 68,
   "metadata": {
    "executionInfo": {
     "elapsed": 12,
     "status": "ok",
     "timestamp": 1697076817936,
     "user": {
      "displayName": "Velocity Data Science",
      "userId": "12853793230690412689"
     },
     "user_tz": -330
    },
    "id": "EzVZ4XJ7mpdU"
   },
   "outputs": [],
   "source": [
    "!export PROTOCOL_BUFFERS_PYTHON_IMPLEMENTATION=python"
   ]
  },
  {
   "cell_type": "code",
   "execution_count": 69,
   "metadata": {
    "colab": {
     "base_uri": "https://localhost:8080/",
     "height": 671
    },
    "executionInfo": {
     "elapsed": 7756,
     "status": "ok",
     "timestamp": 1697076825682,
     "user": {
      "displayName": "Velocity Data Science",
      "userId": "12853793230690412689"
     },
     "user_tz": -330
    },
    "id": "ANNDr1Dxmpgc",
    "outputId": "d415d1a1-0e2f-4354-bd96-7c19a3b896bd"
   },
   "outputs": [
    {
     "name": "stdout",
     "output_type": "stream",
     "text": [
      "Collecting protobuf<=3.20.1\n",
      "  Downloading protobuf-3.20.1-cp310-cp310-manylinux_2_12_x86_64.manylinux2010_x86_64.whl (1.1 MB)\n",
      "\u001b[?25l     \u001b[90m━━━━━━━━━━━━━━━━━━━━━━━━━━━━━━━━━━━━━━━━\u001b[0m \u001b[32m0.0/1.1 MB\u001b[0m \u001b[31m?\u001b[0m eta \u001b[36m-:--:--\u001b[0m\r",
      "\u001b[2K     \u001b[91m━━━━━━━━━━\u001b[0m\u001b[90m╺\u001b[0m\u001b[90m━━━━━━━━━━━━━━━━━━━━━━━━━━━━━\u001b[0m \u001b[32m0.3/1.1 MB\u001b[0m \u001b[31m8.2 MB/s\u001b[0m eta \u001b[36m0:00:01\u001b[0m\r",
      "\u001b[2K     \u001b[90m━━━━━━━━━━━━━━━━━━━━━━━━━━━━━━━━━━━━━━━━\u001b[0m \u001b[32m1.1/1.1 MB\u001b[0m \u001b[31m18.4 MB/s\u001b[0m eta \u001b[36m0:00:00\u001b[0m\n",
      "\u001b[?25hInstalling collected packages: protobuf\n",
      "  Attempting uninstall: protobuf\n",
      "    Found existing installation: protobuf 4.21.0\n",
      "    Uninstalling protobuf-4.21.0:\n",
      "      Successfully uninstalled protobuf-4.21.0\n",
      "\u001b[31mERROR: pip's dependency resolver does not currently take into account all the packages that are installed. This behaviour is the source of the following dependency conflicts.\n",
      "google-cloud-appengine-logging 1.1.5 requires protobuf<5.0.0dev,>=3.20.2, but you have protobuf 3.20.1 which is incompatible.\n",
      "google-cloud-audit-log 0.2.5 requires protobuf!=3.20.0,!=3.20.1,!=4.21.1,!=4.21.2,!=4.21.3,!=4.21.4,!=4.21.5,<5.0.0dev,>=3.19.5, but you have protobuf 3.20.1 which is incompatible.\n",
      "google-cloud-bigquery 3.10.0 requires protobuf!=3.20.0,!=3.20.1,!=4.21.0,!=4.21.1,!=4.21.2,!=4.21.3,!=4.21.4,!=4.21.5,<5.0.0dev,>=3.19.5, but you have protobuf 3.20.1 which is incompatible.\n",
      "google-cloud-bigquery-connection 1.12.1 requires google-api-core[grpc]!=2.0.*,!=2.1.*,!=2.10.*,!=2.2.*,!=2.3.*,!=2.4.*,!=2.5.*,!=2.6.*,!=2.7.*,!=2.8.*,!=2.9.*,<3.0.0dev,>=1.34.0, but you have google-api-core 2.10.1 which is incompatible.\n",
      "google-cloud-bigquery-connection 1.12.1 requires protobuf!=3.20.0,!=3.20.1,!=4.21.0,!=4.21.1,!=4.21.2,!=4.21.3,!=4.21.4,!=4.21.5,<5.0.0dev,>=3.19.5, but you have protobuf 3.20.1 which is incompatible.\n",
      "google-cloud-bigquery-storage 2.22.0 requires google-api-core[grpc]!=2.0.*,!=2.1.*,!=2.10.*,!=2.2.*,!=2.3.*,!=2.4.*,!=2.5.*,!=2.6.*,!=2.7.*,!=2.8.*,!=2.9.*,<3.0.0dev,>=1.34.0, but you have google-api-core 2.10.1 which is incompatible.\n",
      "google-cloud-bigquery-storage 2.22.0 requires protobuf!=3.20.0,!=3.20.1,!=4.21.0,!=4.21.1,!=4.21.2,!=4.21.3,!=4.21.4,!=4.21.5,<5.0.0dev,>=3.19.5, but you have protobuf 3.20.1 which is incompatible.\n",
      "google-cloud-datastore 2.15.2 requires google-api-core[grpc]!=2.0.*,!=2.1.*,!=2.10.*,!=2.2.*,!=2.3.*,!=2.4.*,!=2.5.*,!=2.6.*,!=2.7.*,!=2.8.*,!=2.9.*,<3.0.0dev,>=1.34.0, but you have google-api-core 2.10.1 which is incompatible.\n",
      "google-cloud-datastore 2.15.2 requires protobuf!=3.20.0,!=3.20.1,!=4.21.0,!=4.21.1,!=4.21.2,!=4.21.3,!=4.21.4,!=4.21.5,<5.0.0dev,>=3.19.5, but you have protobuf 3.20.1 which is incompatible.\n",
      "google-cloud-firestore 2.11.1 requires google-api-core[grpc]!=2.0.*,!=2.1.*,!=2.10.*,!=2.2.*,!=2.3.*,!=2.4.*,!=2.5.*,!=2.6.*,!=2.7.*,!=2.8.*,!=2.9.*,<3.0.0dev,>=1.34.0, but you have google-api-core 2.10.1 which is incompatible.\n",
      "google-cloud-firestore 2.11.1 requires protobuf!=3.20.0,!=3.20.1,!=4.21.0,!=4.21.1,!=4.21.2,!=4.21.3,!=4.21.4,!=4.21.5,<5.0.0dev,>=3.19.5, but you have protobuf 3.20.1 which is incompatible.\n",
      "google-cloud-functions 1.13.3 requires google-api-core[grpc]!=2.0.*,!=2.1.*,!=2.10.*,!=2.2.*,!=2.3.*,!=2.4.*,!=2.5.*,!=2.6.*,!=2.7.*,!=2.8.*,!=2.9.*,<3.0.0dev,>=1.34.0, but you have google-api-core 2.10.1 which is incompatible.\n",
      "google-cloud-functions 1.13.3 requires protobuf!=3.20.0,!=3.20.1,!=4.21.0,!=4.21.1,!=4.21.2,!=4.21.3,!=4.21.4,!=4.21.5,<5.0.0dev,>=3.19.5, but you have protobuf 3.20.1 which is incompatible.\n",
      "google-cloud-language 2.9.1 requires google-api-core[grpc]!=2.0.*,!=2.1.*,!=2.10.*,!=2.2.*,!=2.3.*,!=2.4.*,!=2.5.*,!=2.6.*,!=2.7.*,!=2.8.*,!=2.9.*,<3.0.0dev,>=1.34.0, but you have google-api-core 2.10.1 which is incompatible.\n",
      "google-cloud-language 2.9.1 requires protobuf!=3.20.0,!=3.20.1,!=4.21.0,!=4.21.1,!=4.21.2,!=4.21.3,!=4.21.4,!=4.21.5,<5.0.0dev,>=3.19.5, but you have protobuf 3.20.1 which is incompatible.\n",
      "google-cloud-translate 3.11.3 requires google-api-core[grpc]!=2.0.*,!=2.1.*,!=2.10.*,!=2.2.*,!=2.3.*,!=2.4.*,!=2.5.*,!=2.6.*,!=2.7.*,!=2.8.*,!=2.9.*,<3.0.0dev,>=1.34.0, but you have google-api-core 2.10.1 which is incompatible.\n",
      "google-cloud-translate 3.11.3 requires protobuf!=3.20.0,!=3.20.1,!=4.21.0,!=4.21.1,!=4.21.2,!=4.21.3,!=4.21.4,!=4.21.5,<5.0.0dev,>=3.19.5, but you have protobuf 3.20.1 which is incompatible.\n",
      "googleapis-common-protos 1.60.0 requires protobuf!=3.20.0,!=3.20.1,!=4.21.1,!=4.21.2,!=4.21.3,!=4.21.4,!=4.21.5,<5.0.0.dev0,>=3.19.5, but you have protobuf 3.20.1 which is incompatible.\n",
      "grpc-google-iam-v1 0.12.6 requires protobuf!=3.20.0,!=3.20.1,!=4.21.1,!=4.21.2,!=4.21.3,!=4.21.4,!=4.21.5,<5.0.0dev,>=3.19.5, but you have protobuf 3.20.1 which is incompatible.\n",
      "tensorflow 2.13.0 requires protobuf!=4.21.0,!=4.21.1,!=4.21.2,!=4.21.3,!=4.21.4,!=4.21.5,<5.0.0dev,>=3.20.3, but you have protobuf 3.20.1 which is incompatible.\n",
      "tensorflow-metadata 1.14.0 requires protobuf<4.21,>=3.20.3, but you have protobuf 3.20.1 which is incompatible.\u001b[0m\u001b[31m\n",
      "\u001b[0mSuccessfully installed protobuf-3.20.1\n"
     ]
    },
    {
     "data": {
      "application/vnd.colab-display-data+json": {
       "pip_warning": {
        "packages": [
         "google"
        ]
       }
      }
     },
     "metadata": {},
     "output_type": "display_data"
    }
   ],
   "source": [
    "pip install --upgrade \"protobuf<=3.20.1\""
   ]
  },
  {
   "cell_type": "code",
   "execution_count": 70,
   "metadata": {
    "colab": {
     "base_uri": "https://localhost:8080/",
     "height": 654
    },
    "executionInfo": {
     "elapsed": 15615,
     "status": "ok",
     "timestamp": 1697076841270,
     "user": {
      "displayName": "Velocity Data Science",
      "userId": "12853793230690412689"
     },
     "user_tz": -330
    },
    "id": "tdlxKoyumpiA",
    "outputId": "3bf9d601-8add-4dec-acf6-4fa9a205fa99"
   },
   "outputs": [
    {
     "name": "stdout",
     "output_type": "stream",
     "text": [
      "Collecting protobuf<=3.20.1\n",
      "  Using cached protobuf-3.20.1-cp310-cp310-manylinux_2_12_x86_64.manylinux2010_x86_64.whl (1.1 MB)\n",
      "Installing collected packages: protobuf\n",
      "  Attempting uninstall: protobuf\n",
      "    Found existing installation: protobuf 3.20.1\n",
      "    Uninstalling protobuf-3.20.1:\n",
      "      Successfully uninstalled protobuf-3.20.1\n",
      "\u001b[31mERROR: pip's dependency resolver does not currently take into account all the packages that are installed. This behaviour is the source of the following dependency conflicts.\n",
      "google-cloud-appengine-logging 1.1.5 requires protobuf<5.0.0dev,>=3.20.2, but you have protobuf 3.20.1 which is incompatible.\n",
      "google-cloud-audit-log 0.2.5 requires protobuf!=3.20.0,!=3.20.1,!=4.21.1,!=4.21.2,!=4.21.3,!=4.21.4,!=4.21.5,<5.0.0dev,>=3.19.5, but you have protobuf 3.20.1 which is incompatible.\n",
      "google-cloud-bigquery 3.10.0 requires protobuf!=3.20.0,!=3.20.1,!=4.21.0,!=4.21.1,!=4.21.2,!=4.21.3,!=4.21.4,!=4.21.5,<5.0.0dev,>=3.19.5, but you have protobuf 3.20.1 which is incompatible.\n",
      "google-cloud-bigquery-connection 1.12.1 requires google-api-core[grpc]!=2.0.*,!=2.1.*,!=2.10.*,!=2.2.*,!=2.3.*,!=2.4.*,!=2.5.*,!=2.6.*,!=2.7.*,!=2.8.*,!=2.9.*,<3.0.0dev,>=1.34.0, but you have google-api-core 2.10.1 which is incompatible.\n",
      "google-cloud-bigquery-connection 1.12.1 requires protobuf!=3.20.0,!=3.20.1,!=4.21.0,!=4.21.1,!=4.21.2,!=4.21.3,!=4.21.4,!=4.21.5,<5.0.0dev,>=3.19.5, but you have protobuf 3.20.1 which is incompatible.\n",
      "google-cloud-bigquery-storage 2.22.0 requires google-api-core[grpc]!=2.0.*,!=2.1.*,!=2.10.*,!=2.2.*,!=2.3.*,!=2.4.*,!=2.5.*,!=2.6.*,!=2.7.*,!=2.8.*,!=2.9.*,<3.0.0dev,>=1.34.0, but you have google-api-core 2.10.1 which is incompatible.\n",
      "google-cloud-bigquery-storage 2.22.0 requires protobuf!=3.20.0,!=3.20.1,!=4.21.0,!=4.21.1,!=4.21.2,!=4.21.3,!=4.21.4,!=4.21.5,<5.0.0dev,>=3.19.5, but you have protobuf 3.20.1 which is incompatible.\n",
      "google-cloud-datastore 2.15.2 requires google-api-core[grpc]!=2.0.*,!=2.1.*,!=2.10.*,!=2.2.*,!=2.3.*,!=2.4.*,!=2.5.*,!=2.6.*,!=2.7.*,!=2.8.*,!=2.9.*,<3.0.0dev,>=1.34.0, but you have google-api-core 2.10.1 which is incompatible.\n",
      "google-cloud-datastore 2.15.2 requires protobuf!=3.20.0,!=3.20.1,!=4.21.0,!=4.21.1,!=4.21.2,!=4.21.3,!=4.21.4,!=4.21.5,<5.0.0dev,>=3.19.5, but you have protobuf 3.20.1 which is incompatible.\n",
      "google-cloud-firestore 2.11.1 requires google-api-core[grpc]!=2.0.*,!=2.1.*,!=2.10.*,!=2.2.*,!=2.3.*,!=2.4.*,!=2.5.*,!=2.6.*,!=2.7.*,!=2.8.*,!=2.9.*,<3.0.0dev,>=1.34.0, but you have google-api-core 2.10.1 which is incompatible.\n",
      "google-cloud-firestore 2.11.1 requires protobuf!=3.20.0,!=3.20.1,!=4.21.0,!=4.21.1,!=4.21.2,!=4.21.3,!=4.21.4,!=4.21.5,<5.0.0dev,>=3.19.5, but you have protobuf 3.20.1 which is incompatible.\n",
      "google-cloud-functions 1.13.3 requires google-api-core[grpc]!=2.0.*,!=2.1.*,!=2.10.*,!=2.2.*,!=2.3.*,!=2.4.*,!=2.5.*,!=2.6.*,!=2.7.*,!=2.8.*,!=2.9.*,<3.0.0dev,>=1.34.0, but you have google-api-core 2.10.1 which is incompatible.\n",
      "google-cloud-functions 1.13.3 requires protobuf!=3.20.0,!=3.20.1,!=4.21.0,!=4.21.1,!=4.21.2,!=4.21.3,!=4.21.4,!=4.21.5,<5.0.0dev,>=3.19.5, but you have protobuf 3.20.1 which is incompatible.\n",
      "google-cloud-language 2.9.1 requires google-api-core[grpc]!=2.0.*,!=2.1.*,!=2.10.*,!=2.2.*,!=2.3.*,!=2.4.*,!=2.5.*,!=2.6.*,!=2.7.*,!=2.8.*,!=2.9.*,<3.0.0dev,>=1.34.0, but you have google-api-core 2.10.1 which is incompatible.\n",
      "google-cloud-language 2.9.1 requires protobuf!=3.20.0,!=3.20.1,!=4.21.0,!=4.21.1,!=4.21.2,!=4.21.3,!=4.21.4,!=4.21.5,<5.0.0dev,>=3.19.5, but you have protobuf 3.20.1 which is incompatible.\n",
      "google-cloud-translate 3.11.3 requires google-api-core[grpc]!=2.0.*,!=2.1.*,!=2.10.*,!=2.2.*,!=2.3.*,!=2.4.*,!=2.5.*,!=2.6.*,!=2.7.*,!=2.8.*,!=2.9.*,<3.0.0dev,>=1.34.0, but you have google-api-core 2.10.1 which is incompatible.\n",
      "google-cloud-translate 3.11.3 requires protobuf!=3.20.0,!=3.20.1,!=4.21.0,!=4.21.1,!=4.21.2,!=4.21.3,!=4.21.4,!=4.21.5,<5.0.0dev,>=3.19.5, but you have protobuf 3.20.1 which is incompatible.\n",
      "googleapis-common-protos 1.60.0 requires protobuf!=3.20.0,!=3.20.1,!=4.21.1,!=4.21.2,!=4.21.3,!=4.21.4,!=4.21.5,<5.0.0.dev0,>=3.19.5, but you have protobuf 3.20.1 which is incompatible.\n",
      "grpc-google-iam-v1 0.12.6 requires protobuf!=3.20.0,!=3.20.1,!=4.21.1,!=4.21.2,!=4.21.3,!=4.21.4,!=4.21.5,<5.0.0dev,>=3.19.5, but you have protobuf 3.20.1 which is incompatible.\n",
      "tensorflow 2.13.0 requires protobuf!=4.21.0,!=4.21.1,!=4.21.2,!=4.21.3,!=4.21.4,!=4.21.5,<5.0.0dev,>=3.20.3, but you have protobuf 3.20.1 which is incompatible.\n",
      "tensorflow-metadata 1.14.0 requires protobuf<4.21,>=3.20.3, but you have protobuf 3.20.1 which is incompatible.\u001b[0m\u001b[31m\n",
      "\u001b[0mSuccessfully installed protobuf-3.20.1\n"
     ]
    },
    {
     "data": {
      "application/vnd.colab-display-data+json": {
       "pip_warning": {
        "packages": [
         "google"
        ]
       }
      }
     },
     "metadata": {},
     "output_type": "display_data"
    }
   ],
   "source": [
    "!pip install 'protobuf<=3.20.1' --force-reinstall"
   ]
  },
  {
   "cell_type": "code",
   "execution_count": 71,
   "metadata": {
    "colab": {
     "base_uri": "https://localhost:8080/"
    },
    "executionInfo": {
     "elapsed": 450939,
     "status": "ok",
     "timestamp": 1697077292180,
     "user": {
      "displayName": "Velocity Data Science",
      "userId": "12853793230690412689"
     },
     "user_tz": -330
    },
    "id": "k9-62Hfumpnu",
    "outputId": "5fbb87fd-0bea-489d-aaad-d90e93b067ee"
   },
   "outputs": [
    {
     "name": "stdout",
     "output_type": "stream",
     "text": [
      "\n",
      "Collecting usage statistics. To deactivate, set browser.gatherUsageStats to False.\n",
      "\u001b[0m\n",
      "\u001b[0m\n",
      "\u001b[34m\u001b[1m  You can now view your Streamlit app in your browser.\u001b[0m\n",
      "\u001b[0m\n",
      "\u001b[34m  Network URL: \u001b[0m\u001b[1mhttp://172.28.0.12:8501\u001b[0m\n",
      "\u001b[34m  External URL: \u001b[0m\u001b[1mhttp://34.125.14.21:8501\u001b[0m\n",
      "\u001b[0m\n",
      "\u001b[K\u001b[?25hnpx: installed 22 in 3.836s\n",
      "your url is: https://ripe-webs-stare.loca.lt\n",
      "2023-10-12 02:14:25.983321: W tensorflow/compiler/tf2tensorrt/utils/py_utils.cc:38] TF-TRT Warning: Could not find TensorRT\n",
      "2023-10-12 02:14:31.925032: W tensorflow/core/common_runtime/gpu/gpu_bfc_allocator.cc:47] Overriding orig_value setting because the TF_FORCE_GPU_ALLOW_GROWTH environment variable is set. Original config value was 0.\n",
      "WARNING:absl:Skipping variable loading for optimizer 'Adam', because it has 37 variables whereas the saved optimizer has 1 variables. \n",
      "WARNING:absl:Skipping variable loading for optimizer 'Adam', because it has 37 variables whereas the saved optimizer has 1 variables. \n",
      "WARNING:absl:Skipping variable loading for optimizer 'Adam', because it has 37 variables whereas the saved optimizer has 1 variables. \n",
      "WARNING:absl:Skipping variable loading for optimizer 'Adam', because it has 37 variables whereas the saved optimizer has 1 variables. \n",
      "WARNING:absl:Skipping variable loading for optimizer 'Adam', because it has 37 variables whereas the saved optimizer has 1 variables. \n",
      "WARNING:absl:Skipping variable loading for optimizer 'Adam', because it has 37 variables whereas the saved optimizer has 1 variables. \n",
      "WARNING:absl:Skipping variable loading for optimizer 'Adam', because it has 37 variables whereas the saved optimizer has 1 variables. \n",
      "WARNING:absl:Skipping variable loading for optimizer 'Adam', because it has 37 variables whereas the saved optimizer has 1 variables. \n",
      "WARNING:absl:Skipping variable loading for optimizer 'Adam', because it has 37 variables whereas the saved optimizer has 1 variables. \n",
      "WARNING:absl:Skipping variable loading for optimizer 'Adam', because it has 37 variables whereas the saved optimizer has 1 variables. \n",
      "WARNING:absl:Skipping variable loading for optimizer 'Adam', because it has 37 variables whereas the saved optimizer has 1 variables. \n",
      "WARNING:absl:Skipping variable loading for optimizer 'Adam', because it has 37 variables whereas the saved optimizer has 1 variables. \n",
      "/usr/local/lib/python3.10/dist-packages/sklearn/base.py:439: UserWarning: X does not have valid feature names, but StandardScaler was fitted with feature names\n",
      "  warnings.warn(\n",
      "1/1 [==============================] - 3s 3s/step\n",
      "THE WOMEN IS NOT SUFFERING FROM PCOS\n",
      "WARNING:absl:Skipping variable loading for optimizer 'Adam', because it has 37 variables whereas the saved optimizer has 1 variables. \n",
      "WARNING:absl:Skipping variable loading for optimizer 'Adam', because it has 37 variables whereas the saved optimizer has 1 variables. \n",
      "WARNING:absl:Skipping variable loading for optimizer 'Adam', because it has 37 variables whereas the saved optimizer has 1 variables. \n",
      "WARNING:absl:Skipping variable loading for optimizer 'Adam', because it has 37 variables whereas the saved optimizer has 1 variables. \n",
      "WARNING:absl:Skipping variable loading for optimizer 'Adam', because it has 37 variables whereas the saved optimizer has 1 variables. \n",
      "WARNING:absl:Skipping variable loading for optimizer 'Adam', because it has 37 variables whereas the saved optimizer has 1 variables. \n",
      "WARNING:absl:Skipping variable loading for optimizer 'Adam', because it has 37 variables whereas the saved optimizer has 1 variables. \n",
      "WARNING:absl:Skipping variable loading for optimizer 'Adam', because it has 37 variables whereas the saved optimizer has 1 variables. \n",
      "WARNING:absl:Skipping variable loading for optimizer 'Adam', because it has 37 variables whereas the saved optimizer has 1 variables. \n",
      "WARNING:absl:Skipping variable loading for optimizer 'Adam', because it has 37 variables whereas the saved optimizer has 1 variables. \n",
      "WARNING:absl:Skipping variable loading for optimizer 'Adam', because it has 37 variables whereas the saved optimizer has 1 variables. \n",
      "WARNING:absl:Skipping variable loading for optimizer 'Adam', because it has 37 variables whereas the saved optimizer has 1 variables. \n",
      "WARNING:absl:Skipping variable loading for optimizer 'Adam', because it has 37 variables whereas the saved optimizer has 1 variables. \n",
      "WARNING:absl:Skipping variable loading for optimizer 'Adam', because it has 37 variables whereas the saved optimizer has 1 variables. \n",
      "WARNING:absl:Skipping variable loading for optimizer 'Adam', because it has 37 variables whereas the saved optimizer has 1 variables. \n",
      "WARNING:absl:Skipping variable loading for optimizer 'Adam', because it has 37 variables whereas the saved optimizer has 1 variables. \n",
      "WARNING:absl:Skipping variable loading for optimizer 'Adam', because it has 37 variables whereas the saved optimizer has 1 variables. \n",
      "WARNING:absl:Skipping variable loading for optimizer 'Adam', because it has 37 variables whereas the saved optimizer has 1 variables. \n",
      "WARNING:absl:Skipping variable loading for optimizer 'Adam', because it has 37 variables whereas the saved optimizer has 1 variables. \n",
      "WARNING:absl:Skipping variable loading for optimizer 'Adam', because it has 37 variables whereas the saved optimizer has 1 variables. \n",
      "WARNING:absl:Skipping variable loading for optimizer 'Adam', because it has 37 variables whereas the saved optimizer has 1 variables. \n",
      "WARNING:absl:Skipping variable loading for optimizer 'Adam', because it has 37 variables whereas the saved optimizer has 1 variables. \n",
      "WARNING:absl:Skipping variable loading for optimizer 'Adam', because it has 37 variables whereas the saved optimizer has 1 variables. \n",
      "WARNING:absl:Skipping variable loading for optimizer 'Adam', because it has 37 variables whereas the saved optimizer has 1 variables. \n",
      "WARNING:absl:Skipping variable loading for optimizer 'Adam', because it has 37 variables whereas the saved optimizer has 1 variables. \n",
      "WARNING:absl:Skipping variable loading for optimizer 'Adam', because it has 37 variables whereas the saved optimizer has 1 variables. \n",
      "WARNING:absl:Skipping variable loading for optimizer 'Adam', because it has 37 variables whereas the saved optimizer has 1 variables. \n",
      "WARNING:absl:Skipping variable loading for optimizer 'Adam', because it has 37 variables whereas the saved optimizer has 1 variables. \n",
      "WARNING:absl:Skipping variable loading for optimizer 'Adam', because it has 37 variables whereas the saved optimizer has 1 variables. \n",
      "WARNING:absl:Skipping variable loading for optimizer 'Adam', because it has 37 variables whereas the saved optimizer has 1 variables. \n",
      "WARNING:absl:Skipping variable loading for optimizer 'Adam', because it has 37 variables whereas the saved optimizer has 1 variables. \n",
      "WARNING:absl:Skipping variable loading for optimizer 'Adam', because it has 37 variables whereas the saved optimizer has 1 variables. \n",
      "WARNING:absl:Skipping variable loading for optimizer 'Adam', because it has 37 variables whereas the saved optimizer has 1 variables. \n",
      "WARNING:absl:Skipping variable loading for optimizer 'Adam', because it has 37 variables whereas the saved optimizer has 1 variables. \n",
      "WARNING:absl:Skipping variable loading for optimizer 'Adam', because it has 37 variables whereas the saved optimizer has 1 variables. \n",
      "WARNING:absl:Skipping variable loading for optimizer 'Adam', because it has 37 variables whereas the saved optimizer has 1 variables. \n",
      "WARNING:absl:Skipping variable loading for optimizer 'Adam', because it has 37 variables whereas the saved optimizer has 1 variables. \n",
      "WARNING:absl:Skipping variable loading for optimizer 'Adam', because it has 37 variables whereas the saved optimizer has 1 variables. \n",
      "WARNING:absl:Skipping variable loading for optimizer 'Adam', because it has 37 variables whereas the saved optimizer has 1 variables. \n",
      "WARNING:absl:Skipping variable loading for optimizer 'Adam', because it has 37 variables whereas the saved optimizer has 1 variables. \n",
      "WARNING:absl:Skipping variable loading for optimizer 'Adam', because it has 37 variables whereas the saved optimizer has 1 variables. \n",
      "/usr/local/lib/python3.10/dist-packages/sklearn/base.py:439: UserWarning: X does not have valid feature names, but StandardScaler was fitted with feature names\n",
      "  warnings.warn(\n",
      "1/1 [==============================] - 0s 87ms/step\n",
      "THE WOMEN IS NOT SUFFERING FROM PCOS\n",
      "WARNING:absl:Skipping variable loading for optimizer 'Adam', because it has 37 variables whereas the saved optimizer has 1 variables. \n",
      "WARNING:absl:Skipping variable loading for optimizer 'Adam', because it has 37 variables whereas the saved optimizer has 1 variables. \n",
      "WARNING:absl:Skipping variable loading for optimizer 'Adam', because it has 37 variables whereas the saved optimizer has 1 variables. \n",
      "WARNING:absl:Skipping variable loading for optimizer 'Adam', because it has 37 variables whereas the saved optimizer has 1 variables. \n",
      "WARNING:absl:Skipping variable loading for optimizer 'Adam', because it has 37 variables whereas the saved optimizer has 1 variables. \n",
      "WARNING:absl:Skipping variable loading for optimizer 'Adam', because it has 37 variables whereas the saved optimizer has 1 variables. \n",
      "WARNING:absl:Skipping variable loading for optimizer 'Adam', because it has 37 variables whereas the saved optimizer has 1 variables. \n",
      "WARNING:absl:Skipping variable loading for optimizer 'Adam', because it has 37 variables whereas the saved optimizer has 1 variables. \n",
      "WARNING:absl:Skipping variable loading for optimizer 'Adam', because it has 37 variables whereas the saved optimizer has 1 variables. \n",
      "WARNING:absl:Skipping variable loading for optimizer 'Adam', because it has 37 variables whereas the saved optimizer has 1 variables. \n",
      "WARNING:absl:Skipping variable loading for optimizer 'Adam', because it has 37 variables whereas the saved optimizer has 1 variables. \n",
      "WARNING:absl:Skipping variable loading for optimizer 'Adam', because it has 37 variables whereas the saved optimizer has 1 variables. \n",
      "WARNING:absl:Skipping variable loading for optimizer 'Adam', because it has 37 variables whereas the saved optimizer has 1 variables. \n",
      "WARNING:absl:Skipping variable loading for optimizer 'Adam', because it has 37 variables whereas the saved optimizer has 1 variables. \n",
      "WARNING:absl:Skipping variable loading for optimizer 'Adam', because it has 37 variables whereas the saved optimizer has 1 variables. \n",
      "WARNING:absl:Skipping variable loading for optimizer 'Adam', because it has 37 variables whereas the saved optimizer has 1 variables. \n",
      "WARNING:absl:Skipping variable loading for optimizer 'Adam', because it has 37 variables whereas the saved optimizer has 1 variables. \n",
      "/usr/local/lib/python3.10/dist-packages/sklearn/base.py:439: UserWarning: X does not have valid feature names, but StandardScaler was fitted with feature names\n",
      "  warnings.warn(\n",
      "1/1 [==============================] - 0s 90ms/step\n",
      "THE WOMEN IS SUFFERING FROM PCOS\n",
      "WARNING:absl:Skipping variable loading for optimizer 'Adam', because it has 37 variables whereas the saved optimizer has 1 variables. \n",
      "WARNING:absl:Skipping variable loading for optimizer 'Adam', because it has 37 variables whereas the saved optimizer has 1 variables. \n",
      "WARNING:absl:Skipping variable loading for optimizer 'Adam', because it has 37 variables whereas the saved optimizer has 1 variables. \n",
      "WARNING:absl:Skipping variable loading for optimizer 'Adam', because it has 37 variables whereas the saved optimizer has 1 variables. \n",
      "/usr/local/lib/python3.10/dist-packages/sklearn/base.py:439: UserWarning: X does not have valid feature names, but StandardScaler was fitted with feature names\n",
      "  warnings.warn(\n",
      "1/1 [==============================] - 0s 129ms/step\n",
      "THE WOMEN IS NOT SUFFERING FROM PCOS\n",
      "WARNING:absl:Skipping variable loading for optimizer 'Adam', because it has 37 variables whereas the saved optimizer has 1 variables. \n",
      "WARNING:absl:Skipping variable loading for optimizer 'Adam', because it has 37 variables whereas the saved optimizer has 1 variables. \n",
      "/usr/local/lib/python3.10/dist-packages/sklearn/base.py:439: UserWarning: X does not have valid feature names, but StandardScaler was fitted with feature names\n",
      "  warnings.warn(\n",
      "WARNING:tensorflow:5 out of the last 5 calls to <function Model.make_predict_function.<locals>.predict_function at 0x7855c0081b40> triggered tf.function retracing. Tracing is expensive and the excessive number of tracings could be due to (1) creating @tf.function repeatedly in a loop, (2) passing tensors with different shapes, (3) passing Python objects instead of tensors. For (1), please define your @tf.function outside of the loop. For (2), @tf.function has reduce_retracing=True option that can avoid unnecessary retracing. For (3), please refer to https://www.tensorflow.org/guide/function#controlling_retracing and https://www.tensorflow.org/api_docs/python/tf/function for  more details.\n",
      "WARNING:tensorflow:5 out of the last 5 calls to <function Model.make_predict_function.<locals>.predict_function at 0x7855c0081b40> triggered tf.function retracing. Tracing is expensive and the excessive number of tracings could be due to (1) creating @tf.function repeatedly in a loop, (2) passing tensors with different shapes, (3) passing Python objects instead of tensors. For (1), please define your @tf.function outside of the loop. For (2), @tf.function has reduce_retracing=True option that can avoid unnecessary retracing. For (3), please refer to https://www.tensorflow.org/guide/function#controlling_retracing and https://www.tensorflow.org/api_docs/python/tf/function for  more details.\n",
      "1/1 [==============================] - 0s 90ms/step\n",
      "THE WOMEN IS NOT SUFFERING FROM PCOS\n",
      "WARNING:absl:Skipping variable loading for optimizer 'Adam', because it has 37 variables whereas the saved optimizer has 1 variables. \n",
      "WARNING:absl:Skipping variable loading for optimizer 'Adam', because it has 37 variables whereas the saved optimizer has 1 variables. \n",
      "WARNING:absl:Skipping variable loading for optimizer 'Adam', because it has 37 variables whereas the saved optimizer has 1 variables. \n",
      "WARNING:absl:Skipping variable loading for optimizer 'Adam', because it has 37 variables whereas the saved optimizer has 1 variables. \n",
      "WARNING:absl:Skipping variable loading for optimizer 'Adam', because it has 37 variables whereas the saved optimizer has 1 variables. \n",
      "WARNING:absl:Skipping variable loading for optimizer 'Adam', because it has 37 variables whereas the saved optimizer has 1 variables. \n",
      "WARNING:absl:Skipping variable loading for optimizer 'Adam', because it has 37 variables whereas the saved optimizer has 1 variables. \n",
      "/usr/local/lib/python3.10/dist-packages/sklearn/base.py:439: UserWarning: X does not have valid feature names, but StandardScaler was fitted with feature names\n",
      "  warnings.warn(\n",
      "WARNING:tensorflow:6 out of the last 6 calls to <function Model.make_predict_function.<locals>.predict_function at 0x7856c329add0> triggered tf.function retracing. Tracing is expensive and the excessive number of tracings could be due to (1) creating @tf.function repeatedly in a loop, (2) passing tensors with different shapes, (3) passing Python objects instead of tensors. For (1), please define your @tf.function outside of the loop. For (2), @tf.function has reduce_retracing=True option that can avoid unnecessary retracing. For (3), please refer to https://www.tensorflow.org/guide/function#controlling_retracing and https://www.tensorflow.org/api_docs/python/tf/function for  more details.\n",
      "WARNING:tensorflow:6 out of the last 6 calls to <function Model.make_predict_function.<locals>.predict_function at 0x7856c329add0> triggered tf.function retracing. Tracing is expensive and the excessive number of tracings could be due to (1) creating @tf.function repeatedly in a loop, (2) passing tensors with different shapes, (3) passing Python objects instead of tensors. For (1), please define your @tf.function outside of the loop. For (2), @tf.function has reduce_retracing=True option that can avoid unnecessary retracing. For (3), please refer to https://www.tensorflow.org/guide/function#controlling_retracing and https://www.tensorflow.org/api_docs/python/tf/function for  more details.\n",
      "1/1 [==============================] - 0s 148ms/step\n",
      "THE WOMEN IS NOT SUFFERING FROM PCOS\n",
      "\u001b[34m  Stopping...\u001b[0m\n",
      "^C\n"
     ]
    }
   ],
   "source": [
    "!streamlit run app.py & npx localtunnel --port 8501"
   ]
  },
  {
   "cell_type": "code",
   "execution_count": 56,
   "metadata": {
    "executionInfo": {
     "elapsed": 17,
     "status": "ok",
     "timestamp": 1697075872257,
     "user": {
      "displayName": "Velocity Data Science",
      "userId": "12853793230690412689"
     },
     "user_tz": -330
    },
    "id": "qsFbaMXjmppU"
   },
   "outputs": [],
   "source": []
  },
  {
   "cell_type": "code",
   "execution_count": 56,
   "metadata": {
    "executionInfo": {
     "elapsed": 18,
     "status": "ok",
     "timestamp": 1697075872258,
     "user": {
      "displayName": "Velocity Data Science",
      "userId": "12853793230690412689"
     },
     "user_tz": -330
    },
    "id": "bzRDBkKLmpq5"
   },
   "outputs": [],
   "source": []
  },
  {
   "cell_type": "code",
   "execution_count": 56,
   "metadata": {
    "executionInfo": {
     "elapsed": 18,
     "status": "ok",
     "timestamp": 1697075872258,
     "user": {
      "displayName": "Velocity Data Science",
      "userId": "12853793230690412689"
     },
     "user_tz": -330
    },
    "id": "98e3RHtBmpsk"
   },
   "outputs": [],
   "source": []
  },
  {
   "cell_type": "code",
   "execution_count": 56,
   "metadata": {
    "executionInfo": {
     "elapsed": 2,
     "status": "ok",
     "timestamp": 1697075873258,
     "user": {
      "displayName": "Velocity Data Science",
      "userId": "12853793230690412689"
     },
     "user_tz": -330
    },
    "id": "hj7Bh481mpuo"
   },
   "outputs": [],
   "source": []
  },
  {
   "cell_type": "code",
   "execution_count": null,
   "metadata": {
    "id": "qenNiHpympxG"
   },
   "outputs": [],
   "source": []
  },
  {
   "cell_type": "code",
   "execution_count": null,
   "metadata": {
    "id": "ayaDgIQgf1Yf"
   },
   "outputs": [],
   "source": []
  }
 ],
 "metadata": {
  "accelerator": "GPU",
  "colab": {
   "authorship_tag": "ABX9TyNtwkk4vssLrtSjQRYm/mlY",
   "gpuType": "T4",
   "provenance": []
  },
  "kernelspec": {
   "display_name": "Python 3 (ipykernel)",
   "language": "python",
   "name": "python3"
  },
  "language_info": {
   "codemirror_mode": {
    "name": "ipython",
    "version": 3
   },
   "file_extension": ".py",
   "mimetype": "text/x-python",
   "name": "python",
   "nbconvert_exporter": "python",
   "pygments_lexer": "ipython3",
   "version": "3.9.13"
  },
  "widgets": {
   "application/vnd.jupyter.widget-state+json": {
    "12d165af83b64fecbf944626e40a61fe": {
     "model_module": "@jupyter-widgets/base",
     "model_module_version": "1.2.0",
     "model_name": "LayoutModel",
     "state": {
      "_model_module": "@jupyter-widgets/base",
      "_model_module_version": "1.2.0",
      "_model_name": "LayoutModel",
      "_view_count": null,
      "_view_module": "@jupyter-widgets/base",
      "_view_module_version": "1.2.0",
      "_view_name": "LayoutView",
      "align_content": null,
      "align_items": null,
      "align_self": null,
      "border": null,
      "bottom": null,
      "display": null,
      "flex": null,
      "flex_flow": null,
      "grid_area": null,
      "grid_auto_columns": null,
      "grid_auto_flow": null,
      "grid_auto_rows": null,
      "grid_column": null,
      "grid_gap": null,
      "grid_row": null,
      "grid_template_areas": null,
      "grid_template_columns": null,
      "grid_template_rows": null,
      "height": null,
      "justify_content": null,
      "justify_items": null,
      "left": null,
      "margin": null,
      "max_height": null,
      "max_width": null,
      "min_height": null,
      "min_width": null,
      "object_fit": null,
      "object_position": null,
      "order": null,
      "overflow": null,
      "overflow_x": null,
      "overflow_y": null,
      "padding": null,
      "right": null,
      "top": null,
      "visibility": null,
      "width": null
     }
    },
    "1acc18e27f6d43b6bc7dd6a334f9d81c": {
     "model_module": "@jupyter-widgets/controls",
     "model_module_version": "1.5.0",
     "model_name": "HBoxModel",
     "state": {
      "_dom_classes": [],
      "_model_module": "@jupyter-widgets/controls",
      "_model_module_version": "1.5.0",
      "_model_name": "HBoxModel",
      "_view_count": null,
      "_view_module": "@jupyter-widgets/controls",
      "_view_module_version": "1.5.0",
      "_view_name": "HBoxView",
      "box_style": "",
      "children": [
       "IPY_MODEL_9d9d774c9bd54533b7da9b9d3d69b5d4",
       "IPY_MODEL_f23ea319c4bb405296bf0cad0675d748",
       "IPY_MODEL_391efb44784747bdb9131fba0ed44d68"
      ],
      "layout": "IPY_MODEL_2b7cfd88adf94e5e9b504afc6bb398d0"
     }
    },
    "2b7cfd88adf94e5e9b504afc6bb398d0": {
     "model_module": "@jupyter-widgets/base",
     "model_module_version": "1.2.0",
     "model_name": "LayoutModel",
     "state": {
      "_model_module": "@jupyter-widgets/base",
      "_model_module_version": "1.2.0",
      "_model_name": "LayoutModel",
      "_view_count": null,
      "_view_module": "@jupyter-widgets/base",
      "_view_module_version": "1.2.0",
      "_view_name": "LayoutView",
      "align_content": null,
      "align_items": null,
      "align_self": null,
      "border": null,
      "bottom": null,
      "display": "inline-flex",
      "flex": null,
      "flex_flow": "row wrap",
      "grid_area": null,
      "grid_auto_columns": null,
      "grid_auto_flow": null,
      "grid_auto_rows": null,
      "grid_column": null,
      "grid_gap": null,
      "grid_row": null,
      "grid_template_areas": null,
      "grid_template_columns": null,
      "grid_template_rows": null,
      "height": null,
      "justify_content": null,
      "justify_items": null,
      "left": null,
      "margin": null,
      "max_height": null,
      "max_width": null,
      "min_height": null,
      "min_width": null,
      "object_fit": null,
      "object_position": null,
      "order": null,
      "overflow": null,
      "overflow_x": null,
      "overflow_y": null,
      "padding": null,
      "right": null,
      "top": null,
      "visibility": null,
      "width": "100%"
     }
    },
    "391efb44784747bdb9131fba0ed44d68": {
     "model_module": "@jupyter-widgets/controls",
     "model_module_version": "1.5.0",
     "model_name": "HTMLModel",
     "state": {
      "_dom_classes": [],
      "_model_module": "@jupyter-widgets/controls",
      "_model_module_version": "1.5.0",
      "_model_name": "HTMLModel",
      "_view_count": null,
      "_view_module": "@jupyter-widgets/controls",
      "_view_module_version": "1.5.0",
      "_view_name": "HTMLView",
      "description": "",
      "description_tooltip": null,
      "layout": "IPY_MODEL_5dbe6c6b3d6646edbef2af26287a6411",
      "placeholder": "​",
      "style": "IPY_MODEL_3e8e42570c0043f4815860806744d148",
      "value": " [100%]   00:05 -&gt; (00:00 left)"
     }
    },
    "3e8e42570c0043f4815860806744d148": {
     "model_module": "@jupyter-widgets/controls",
     "model_module_version": "1.5.0",
     "model_name": "DescriptionStyleModel",
     "state": {
      "_model_module": "@jupyter-widgets/controls",
      "_model_module_version": "1.5.0",
      "_model_name": "DescriptionStyleModel",
      "_view_count": null,
      "_view_module": "@jupyter-widgets/base",
      "_view_module_version": "1.2.0",
      "_view_name": "StyleView",
      "description_width": ""
     }
    },
    "5dbe6c6b3d6646edbef2af26287a6411": {
     "model_module": "@jupyter-widgets/base",
     "model_module_version": "1.2.0",
     "model_name": "LayoutModel",
     "state": {
      "_model_module": "@jupyter-widgets/base",
      "_model_module_version": "1.2.0",
      "_model_name": "LayoutModel",
      "_view_count": null,
      "_view_module": "@jupyter-widgets/base",
      "_view_module_version": "1.2.0",
      "_view_name": "LayoutView",
      "align_content": null,
      "align_items": null,
      "align_self": null,
      "border": null,
      "bottom": null,
      "display": null,
      "flex": null,
      "flex_flow": null,
      "grid_area": null,
      "grid_auto_columns": null,
      "grid_auto_flow": null,
      "grid_auto_rows": null,
      "grid_column": null,
      "grid_gap": null,
      "grid_row": null,
      "grid_template_areas": null,
      "grid_template_columns": null,
      "grid_template_rows": null,
      "height": null,
      "justify_content": null,
      "justify_items": null,
      "left": null,
      "margin": null,
      "max_height": null,
      "max_width": null,
      "min_height": null,
      "min_width": null,
      "object_fit": null,
      "object_position": null,
      "order": null,
      "overflow": null,
      "overflow_x": null,
      "overflow_y": null,
      "padding": null,
      "right": null,
      "top": null,
      "visibility": null,
      "width": null
     }
    },
    "66abd42ee7204ab8a2f40882af7fa8de": {
     "model_module": "@jupyter-widgets/controls",
     "model_module_version": "1.5.0",
     "model_name": "DescriptionStyleModel",
     "state": {
      "_model_module": "@jupyter-widgets/controls",
      "_model_module_version": "1.5.0",
      "_model_name": "DescriptionStyleModel",
      "_view_count": null,
      "_view_module": "@jupyter-widgets/base",
      "_view_module_version": "1.2.0",
      "_view_name": "StyleView",
      "description_width": ""
     }
    },
    "9d9d774c9bd54533b7da9b9d3d69b5d4": {
     "model_module": "@jupyter-widgets/controls",
     "model_module_version": "1.5.0",
     "model_name": "HTMLModel",
     "state": {
      "_dom_classes": [],
      "_model_module": "@jupyter-widgets/controls",
      "_model_module_version": "1.5.0",
      "_model_name": "HTMLModel",
      "_view_count": null,
      "_view_module": "@jupyter-widgets/controls",
      "_view_module_version": "1.5.0",
      "_view_name": "HTMLView",
      "description": "",
      "description_tooltip": null,
      "layout": "IPY_MODEL_12d165af83b64fecbf944626e40a61fe",
      "placeholder": "​",
      "style": "IPY_MODEL_66abd42ee7204ab8a2f40882af7fa8de",
      "value": "Done! Use &#x27;show&#x27; commands to display/save.   "
     }
    },
    "b6ac8a1f418b44caaa7cbcf30bc2694f": {
     "model_module": "@jupyter-widgets/controls",
     "model_module_version": "1.5.0",
     "model_name": "ProgressStyleModel",
     "state": {
      "_model_module": "@jupyter-widgets/controls",
      "_model_module_version": "1.5.0",
      "_model_name": "ProgressStyleModel",
      "_view_count": null,
      "_view_module": "@jupyter-widgets/base",
      "_view_module_version": "1.2.0",
      "_view_name": "StyleView",
      "bar_color": null,
      "description_width": ""
     }
    },
    "b9514ec7570546d587c967b612d9f8dc": {
     "model_module": "@jupyter-widgets/base",
     "model_module_version": "1.2.0",
     "model_name": "LayoutModel",
     "state": {
      "_model_module": "@jupyter-widgets/base",
      "_model_module_version": "1.2.0",
      "_model_name": "LayoutModel",
      "_view_count": null,
      "_view_module": "@jupyter-widgets/base",
      "_view_module_version": "1.2.0",
      "_view_name": "LayoutView",
      "align_content": null,
      "align_items": null,
      "align_self": null,
      "border": null,
      "bottom": null,
      "display": null,
      "flex": "2",
      "flex_flow": null,
      "grid_area": null,
      "grid_auto_columns": null,
      "grid_auto_flow": null,
      "grid_auto_rows": null,
      "grid_column": null,
      "grid_gap": null,
      "grid_row": null,
      "grid_template_areas": null,
      "grid_template_columns": null,
      "grid_template_rows": null,
      "height": null,
      "justify_content": null,
      "justify_items": null,
      "left": null,
      "margin": null,
      "max_height": null,
      "max_width": null,
      "min_height": null,
      "min_width": null,
      "object_fit": null,
      "object_position": null,
      "order": null,
      "overflow": null,
      "overflow_x": null,
      "overflow_y": null,
      "padding": null,
      "right": null,
      "top": null,
      "visibility": null,
      "width": null
     }
    },
    "f23ea319c4bb405296bf0cad0675d748": {
     "model_module": "@jupyter-widgets/controls",
     "model_module_version": "1.5.0",
     "model_name": "FloatProgressModel",
     "state": {
      "_dom_classes": [],
      "_model_module": "@jupyter-widgets/controls",
      "_model_module_version": "1.5.0",
      "_model_name": "FloatProgressModel",
      "_view_count": null,
      "_view_module": "@jupyter-widgets/controls",
      "_view_module_version": "1.5.0",
      "_view_name": "ProgressView",
      "bar_style": "success",
      "description": "",
      "description_tooltip": null,
      "layout": "IPY_MODEL_b9514ec7570546d587c967b612d9f8dc",
      "max": 1,
      "min": 0,
      "orientation": "horizontal",
      "style": "IPY_MODEL_b6ac8a1f418b44caaa7cbcf30bc2694f",
      "value": 1
     }
    }
   }
  }
 },
 "nbformat": 4,
 "nbformat_minor": 1
}
